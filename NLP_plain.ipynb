{
 "cells": [
  {
   "cell_type": "markdown",
   "id": "f415be77",
   "metadata": {
    "id": "f415be77"
   },
   "source": [
    "## Corpuses"
   ]
  },
  {
   "cell_type": "code",
   "execution_count": null,
   "id": "530e6c43",
   "metadata": {
    "colab": {
     "base_uri": "https://localhost:8080/"
    },
    "id": "530e6c43",
    "outputId": "9df6a458-1d97-4d31-bebc-b24e70e25ee2"
   },
   "outputs": [],
   "source": [
    "#libraries\n",
    "!pip install svgling==0.3.1\n",
    "!pip install gensim==4.1.2"
   ]
  },
  {
   "cell_type": "code",
   "execution_count": null,
   "id": "2d6c3cf1",
   "metadata": {
    "colab": {
     "base_uri": "https://localhost:8080/"
    },
    "id": "2d6c3cf1",
    "outputId": "a6ff86b1-ce37-429e-c0aa-29ebe3146cc0"
   },
   "outputs": [],
   "source": [
    "import nltk.corpus\n",
    "print(dir(nltk.corpus))"
   ]
  },
  {
   "cell_type": "code",
   "execution_count": null,
   "id": "f4dcbd2b",
   "metadata": {
    "colab": {
     "base_uri": "https://localhost:8080/",
     "height": 37
    },
    "id": "f4dcbd2b",
    "outputId": "f81cb2ae-b695-4c72-de6a-9695ed0ff1c8"
   },
   "outputs": [],
   "source": [
    "import os\n",
    "os.getcwd()"
   ]
  },
  {
   "cell_type": "code",
   "execution_count": null,
   "id": "b773af2e",
   "metadata": {
    "colab": {
     "base_uri": "https://localhost:8080/"
    },
    "id": "b773af2e",
    "outputId": "7557aec8-71ba-46af-e6ca-08e6919379e9"
   },
   "outputs": [],
   "source": [
    "import nltk\n",
    "nltk.download('brown')\n",
    "from nltk.corpus import brown as cb"
   ]
  },
  {
   "cell_type": "code",
   "execution_count": null,
   "id": "c103c19b",
   "metadata": {
    "colab": {
     "base_uri": "https://localhost:8080/"
    },
    "id": "c103c19b",
    "outputId": "90a5e8ed-d76b-41d1-8f78-b17733c83117"
   },
   "outputs": [],
   "source": [
    "#Wypiszmy początek corpusu"
   ]
  },
  {
   "cell_type": "code",
   "execution_count": null,
   "id": "528cc478",
   "metadata": {
    "colab": {
     "base_uri": "https://localhost:8080/"
    },
    "id": "528cc478",
    "outputId": "dfdbc2e0-a254-4c2a-a9a7-8be895e96ee9"
   },
   "outputs": [],
   "source": [
    "#Wypiszmy początek corpusu podzielonego na słowa"
   ]
  },
  {
   "cell_type": "code",
   "execution_count": null,
   "id": "61d093a6",
   "metadata": {
    "colab": {
     "base_uri": "https://localhost:8080/"
    },
    "id": "61d093a6",
    "outputId": "de70a8b1-d387-4730-af58-05c1f4e8f862"
   },
   "outputs": [],
   "source": [
    "#Zobaczmy oznaczone słowa w kategorii \"news\""
   ]
  },
  {
   "cell_type": "code",
   "execution_count": null,
   "id": "5974cdfa",
   "metadata": {
    "colab": {
     "base_uri": "https://localhost:8080/"
    },
    "id": "5974cdfa",
    "outputId": "2c95f6c4-7926-43b2-91ab-11c8c67ed895"
   },
   "outputs": [],
   "source": [
    "#Zobaczmy zdania w kategorii 'news', 'editorial', 'reviews'"
   ]
  },
  {
   "cell_type": "code",
   "execution_count": null,
   "id": "0d7a5857",
   "metadata": {
    "colab": {
     "base_uri": "https://localhost:8080/"
    },
    "id": "0d7a5857",
    "outputId": "9b102f0b-45c8-4912-c5ed-c89797ba32db"
   },
   "outputs": [],
   "source": [
    "import nltk\n",
    "nltk.download('webtext')\n",
    "from nltk.corpus import webtext\n",
    "#Sprawdźmy korpus webtext"
   ]
  },
  {
   "cell_type": "code",
   "execution_count": null,
   "id": "a0e209bc",
   "metadata": {},
   "outputs": [],
   "source": [
    "nltk.download('inaugural')"
   ]
  },
  {
   "cell_type": "code",
   "execution_count": null,
   "id": "fea19a47",
   "metadata": {
    "colab": {
     "base_uri": "https://localhost:8080/",
     "height": 496
    },
    "id": "fea19a47",
    "outputId": "6a2f8183-1f4d-4054-ecdf-9869de463606"
   },
   "outputs": [],
   "source": [
    "from nltk.corpus import inaugural\n",
    "from matplotlib.pyplot import figure\n",
    "\n",
    "#Wyrysujmy wykres występowania słowa 'citizen' i 'america' w przemowach inaguracyjnych prezydentów USA"
   ]
  },
  {
   "cell_type": "markdown",
   "id": "4720a32e",
   "metadata": {
    "id": "4720a32e"
   },
   "source": [
    "# Tokenizacja"
   ]
  },
  {
   "cell_type": "code",
   "execution_count": null,
   "id": "eO35lKqDHiM1",
   "metadata": {
    "colab": {
     "base_uri": "https://localhost:8080/"
    },
    "id": "eO35lKqDHiM1",
    "outputId": "ff9cfd27-2790-4960-eaa8-18c7a825b1a0"
   },
   "outputs": [],
   "source": [
    "nltk.download('punkt')"
   ]
  },
  {
   "cell_type": "code",
   "execution_count": null,
   "id": "b9a00497",
   "metadata": {
    "colab": {
     "base_uri": "https://localhost:8080/"
    },
    "id": "b9a00497",
    "outputId": "16470c2f-1792-4b62-df54-cfb5fb1df03a"
   },
   "outputs": [],
   "source": [
    "from nltk.tokenize import word_tokenize\n",
    "sentence = \"\"\"At eight o'clock on Thursday morning Arthur didn't feel very good.\"\"\"\n",
    "#Zobaczmy jak zostanie stokenizowanie powyższe zdanie"
   ]
  },
  {
   "cell_type": "markdown",
   "id": "07a13354",
   "metadata": {
    "id": "07a13354"
   },
   "source": [
    "# Stop words"
   ]
  },
  {
   "cell_type": "code",
   "execution_count": null,
   "id": "riCDprjCHoS_",
   "metadata": {
    "colab": {
     "base_uri": "https://localhost:8080/"
    },
    "id": "riCDprjCHoS_",
    "outputId": "18592394-59f7-4703-85aa-3b801d6eeacf"
   },
   "outputs": [],
   "source": [
    "nltk.download('stopwords')"
   ]
  },
  {
   "cell_type": "code",
   "execution_count": null,
   "id": "89e5710d",
   "metadata": {
    "colab": {
     "base_uri": "https://localhost:8080/"
    },
    "id": "89e5710d",
    "outputId": "3662ed3e-129a-4923-c1d1-00a9beefe40c"
   },
   "outputs": [],
   "source": [
    "import nltk\n",
    "\n",
    "from nltk.corpus import stopwords\n",
    "#Wypiszmy zbiór stopwords dla języka angielskiego"
   ]
  },
  {
   "cell_type": "code",
   "execution_count": null,
   "id": "442a8b79",
   "metadata": {
    "colab": {
     "base_uri": "https://localhost:8080/"
    },
    "id": "442a8b79",
    "outputId": "fb27819b-8316-46d9-bd29-cf29be489cac"
   },
   "outputs": [],
   "source": [
    "#Sprawdźmy dla jakich języków występuje corpus nltk stopwords"
   ]
  },
  {
   "cell_type": "code",
   "execution_count": null,
   "id": "43a2657c",
   "metadata": {
    "colab": {
     "base_uri": "https://localhost:8080/"
    },
    "id": "43a2657c",
    "outputId": "4255183a-6ecc-43d0-f2d5-7d5335f4a34c"
   },
   "outputs": [],
   "source": [
    "from nltk.corpus import stopwords\n",
    "from nltk.tokenize import word_tokenize\n",
    "\n",
    "example_sent = \"\"\"I go to the grocery store to get tomatoes and apples\"\"\"\n",
    "  \n",
    "#Usuńmy stopwords z powyższego zdania"
   ]
  },
  {
   "cell_type": "markdown",
   "id": "4762dec7",
   "metadata": {
    "id": "4762dec7"
   },
   "source": [
    "# Stemming"
   ]
  },
  {
   "cell_type": "code",
   "execution_count": null,
   "id": "11d080af",
   "metadata": {
    "colab": {
     "base_uri": "https://localhost:8080/"
    },
    "id": "11d080af",
    "outputId": "88f08f59-19ab-4810-c2aa-b1fb7e4f73a6"
   },
   "outputs": [],
   "source": [
    "from nltk.stem import PorterStemmer\n",
    "from nltk.stem import LancasterStemmer\n",
    "e_words= [\"wait\", \"waiting\", \"waited\", \"waits\"]\n",
    "#Sprawdźmy działanie PorterStemmera na powyższych słowach"
   ]
  },
  {
   "cell_type": "code",
   "execution_count": null,
   "id": "2c161692",
   "metadata": {
    "colab": {
     "base_uri": "https://localhost:8080/"
    },
    "id": "2c161692",
    "outputId": "8e96f581-321e-431e-e269-4f55f233463a"
   },
   "outputs": [],
   "source": [
    "from nltk.tokenize import sent_tokenize, word_tokenize\n",
    "sentence=\"The witcher halted at a distance of ten paces.  His sword, slowly drawn from its black enameled sheath, glistened and glowed above his head. \"\n",
    "#PorterStemmer dla całego zdania"
   ]
  },
  {
   "cell_type": "code",
   "execution_count": null,
   "id": "bc7aa6e7",
   "metadata": {
    "colab": {
     "base_uri": "https://localhost:8080/"
    },
    "id": "bc7aa6e7",
    "outputId": "fc70d989-bdae-4009-f9e3-213ebbe8f40b"
   },
   "outputs": [],
   "source": [
    "lancaster = LancasterStemmer()\n",
    "word_list = [\"friend\", \"friendship\", \"friends\", \"friendships\",\"stabil\",\"destabilize\",\"misunderstanding\",\"railroad\",\"moonlight\",\"football\"]\n",
    "#Sprawdźmy powyższe słowa za pomocą LancasterStemmer"
   ]
  },
  {
   "cell_type": "code",
   "execution_count": null,
   "id": "95723288",
   "metadata": {},
   "outputs": [],
   "source": [
    "text = \"studies studying cries cry\"\n",
    "#Użyjmy PorterSemmera dla powyższych słów"
   ]
  },
  {
   "cell_type": "markdown",
   "id": "0b5f4a62",
   "metadata": {
    "id": "0b5f4a62"
   },
   "source": [
    "# Lemmatization"
   ]
  },
  {
   "cell_type": "code",
   "execution_count": null,
   "id": "JybUFh3cISOE",
   "metadata": {
    "colab": {
     "base_uri": "https://localhost:8080/"
    },
    "id": "JybUFh3cISOE",
    "outputId": "7e16908e-48ef-445e-af27-46b455304039"
   },
   "outputs": [],
   "source": [
    "nltk.download('wordnet')\n",
    "nltk.download('omw-1.4')"
   ]
  },
  {
   "cell_type": "code",
   "execution_count": null,
   "id": "13faa1b4",
   "metadata": {
    "colab": {
     "base_uri": "https://localhost:8080/"
    },
    "id": "13faa1b4",
    "outputId": "d142403a-40bd-47b3-b632-278f91322cb7"
   },
   "outputs": [],
   "source": [
    "from nltk.stem import WordNetLemmatizer\n",
    "wordnet_lemmatizer = WordNetLemmatizer()\n",
    "text = \"studies studying cries cry\"\n",
    "#Sprawdźmy działanie WordNetLemmatizer dla powyższych słów "
   ]
  },
  {
   "cell_type": "code",
   "execution_count": null,
   "id": "0623e2de",
   "metadata": {
    "colab": {
     "base_uri": "https://localhost:8080/"
    },
    "id": "0623e2de",
    "outputId": "4f025dd1-59f8-4eeb-aa43-2e16e6117923"
   },
   "outputs": [],
   "source": [
    "from nltk.stem import WordNetLemmatizer\n",
    "wordnet_lemmatizer = WordNetLemmatizer()\n",
    "\n",
    "sentence = \"He was running and eating at same time. He has bad habit of swimming after playing long hours in the Sun.\"\n",
    "punctuations=\"?:!.,;\"\n",
    "#Proszę wypisać porównanie pomiędzy wynikiem lematyzacji dla powyższych wyrazów, pomijając znaki interpunkcyjne"
   ]
  },
  {
   "cell_type": "code",
   "execution_count": null,
   "id": "a017ff7f",
   "metadata": {
    "colab": {
     "base_uri": "https://localhost:8080/"
    },
    "id": "a017ff7f",
    "outputId": "910d4be1-b61a-4acd-ca5b-4f602ae7997e"
   },
   "outputs": [],
   "source": [
    "print(\"{0:20}{1:35}{2:35}\".format(\"Orginal\",\"Part of Speech tag set to Verb\",\"Part of Speech tag set to Noun\"))\n",
    "#Wypiszmy porównanie tak jak powyżej ale ustawmy paramter lematyzacji na p=v albo p=n)"
   ]
  },
  {
   "cell_type": "code",
   "execution_count": null,
   "id": "rpU8JHV8IZWe",
   "metadata": {
    "colab": {
     "base_uri": "https://localhost:8080/"
    },
    "id": "rpU8JHV8IZWe",
    "outputId": "026dfd42-db51-449e-e51f-d196de456ad8"
   },
   "outputs": [],
   "source": [
    "nltk.download('averaged_perceptron_tagger')"
   ]
  },
  {
   "cell_type": "code",
   "execution_count": null,
   "id": "88aff160",
   "metadata": {
    "colab": {
     "base_uri": "https://localhost:8080/"
    },
    "id": "88aff160",
    "outputId": "bde2b931-6f02-4b6c-c729-2eb892f3ee7f"
   },
   "outputs": [],
   "source": [
    "from nltk.corpus import wordnet as wn\n",
    "from nltk.stem.wordnet import WordNetLemmatizer\n",
    "from nltk import word_tokenize, pos_tag\n",
    "from collections import defaultdict\n",
    "#poniżej przygotowany słownik pod Part Of Speech Tags jako argument to lematyzacji\n",
    "tag_map = defaultdict(lambda : wn.NOUN)\n",
    "tag_map['J'] = wn.ADJ\n",
    "tag_map['V'] = wn.VERB\n",
    "tag_map['R'] = wn.ADV\n",
    "lemma_function = WordNetLemmatizer()\n",
    "\n",
    "text = \"He was running and eating at same time. He has bad habit of swimming after playing long hours in the Sun.\"\n",
    "#Proszę wykonać lematyzację dla powyższych wyrazów, z uwzględnieniem poprawnych POS"
   ]
  },
  {
   "cell_type": "code",
   "execution_count": null,
   "id": "d0bff2c8",
   "metadata": {
    "colab": {
     "base_uri": "https://localhost:8080/"
    },
    "id": "d0bff2c8",
    "outputId": "43c0f81c-17f8-4a34-c92c-e097faf2e55b"
   },
   "outputs": [],
   "source": [
    "text=\"The witcher halted at a distance of ten paces.  His sword, slowly drawn from its black enameled sheath, glistened and glowed above his head. \"\n",
    "tokens = word_tokenize(text)\n",
    "#Tak jak powyżej, dla nowego zdania"
   ]
  },
  {
   "cell_type": "code",
   "execution_count": null,
   "id": "b47c77ac",
   "metadata": {
    "colab": {
     "base_uri": "https://localhost:8080/"
    },
    "id": "b47c77ac",
    "outputId": "1cfb11c3-8a0f-4a90-849f-2bf67b050f8a"
   },
   "outputs": [],
   "source": [
    "tag_map"
   ]
  },
  {
   "cell_type": "markdown",
   "id": "7a9e4d0c",
   "metadata": {
    "id": "7a9e4d0c"
   },
   "source": [
    "# Regular Expressions"
   ]
  },
  {
   "cell_type": "code",
   "execution_count": null,
   "id": "3117277a",
   "metadata": {
    "id": "3117277a"
   },
   "outputs": [],
   "source": [
    "import re"
   ]
  },
  {
   "cell_type": "code",
   "execution_count": null,
   "id": "074448bf",
   "metadata": {
    "colab": {
     "base_uri": "https://localhost:8080/"
    },
    "id": "074448bf",
    "outputId": "90aa475b-5ddc-45c8-cdd9-4f10069a59fa"
   },
   "outputs": [],
   "source": [
    "re.search(r'k.t', 'kbt')"
   ]
  },
  {
   "cell_type": "code",
   "execution_count": null,
   "id": "d3c8ae6b",
   "metadata": {
    "colab": {
     "base_uri": "https://localhost:8080/"
    },
    "id": "d3c8ae6b",
    "outputId": "98e416ec-4c9e-4f25-ce93-63c878bc632c"
   },
   "outputs": [],
   "source": [
    "re.search(r'kot+', 'kottt')"
   ]
  },
  {
   "cell_type": "code",
   "execution_count": null,
   "id": "04cce52a",
   "metadata": {
    "colab": {
     "base_uri": "https://localhost:8080/"
    },
    "id": "04cce52a",
    "outputId": "1e833776-bc85-49fd-9a42-40aadefa2d50"
   },
   "outputs": [],
   "source": [
    "re.search(r'^k', 'kottt test')"
   ]
  },
  {
   "cell_type": "code",
   "execution_count": null,
   "id": "709e022d",
   "metadata": {
    "colab": {
     "base_uri": "https://localhost:8080/"
    },
    "id": "709e022d",
    "outputId": "4a58870f-7035-455f-b091-d7b58716c7fb"
   },
   "outputs": [],
   "source": [
    "re.search(r't$', 'bottttest')"
   ]
  },
  {
   "cell_type": "code",
   "execution_count": null,
   "id": "cd02a4ee",
   "metadata": {
    "colab": {
     "base_uri": "https://localhost:8080/"
    },
    "id": "cd02a4ee",
    "outputId": "d8dbc6eb-fb5f-492e-8689-9bc2ce4aae29"
   },
   "outputs": [],
   "source": [
    "re.search(r'k[oa]t', 'kat')"
   ]
  },
  {
   "cell_type": "code",
   "execution_count": null,
   "id": "809c731c",
   "metadata": {
    "colab": {
     "base_uri": "https://localhost:8080/"
    },
    "id": "809c731c",
    "outputId": "06d1e5e4-df9e-455b-a686-82caa8d6c541"
   },
   "outputs": [],
   "source": [
    "re.search(r'k[a-d]t', 'kbt')"
   ]
  },
  {
   "cell_type": "code",
   "execution_count": null,
   "id": "f57dcf93",
   "metadata": {
    "id": "f57dcf93"
   },
   "outputs": [],
   "source": [
    "re.search(r'k[1-4]t', 'k3.3t')"
   ]
  },
  {
   "cell_type": "code",
   "execution_count": null,
   "id": "4947fe81",
   "metadata": {
    "colab": {
     "base_uri": "https://localhost:8080/"
    },
    "id": "4947fe81",
    "outputId": "777804c4-2ce3-4c0b-eefa-7e725cbacc9d"
   },
   "outputs": [],
   "source": [
    "re.search(r'.+t\\b', 'bottttest')"
   ]
  },
  {
   "cell_type": "code",
   "execution_count": null,
   "id": "06c40404",
   "metadata": {
    "colab": {
     "base_uri": "https://localhost:8080/"
    },
    "id": "06c40404",
    "outputId": "ff7264ff-2fef-41ef-e3f6-74fe4b1b5298"
   },
   "outputs": [],
   "source": [
    "re.search(r'\\d\\d', '20')"
   ]
  },
  {
   "cell_type": "code",
   "execution_count": null,
   "id": "477e909e",
   "metadata": {
    "colab": {
     "base_uri": "https://localhost:8080/"
    },
    "id": "477e909e",
    "outputId": "83f7d31f-af93-49a6-98e0-47269c4ec848"
   },
   "outputs": [],
   "source": [
    "re.search(r'k\\st', 'k t')"
   ]
  },
  {
   "cell_type": "code",
   "execution_count": null,
   "id": "ed76e33f",
   "metadata": {
    "id": "ed76e33f"
   },
   "outputs": [],
   "source": [
    "re.search(r'k\\St', 'k t')"
   ]
  },
  {
   "cell_type": "markdown",
   "id": "4f13d6b9",
   "metadata": {
    "id": "4f13d6b9"
   },
   "source": [
    "# Word Terms Disambiguation"
   ]
  },
  {
   "cell_type": "code",
   "execution_count": null,
   "id": "536ce30e",
   "metadata": {
    "colab": {
     "base_uri": "https://localhost:8080/"
    },
    "id": "536ce30e",
    "outputId": "0e9e2d3c-3e68-44cf-8433-7a680bec559b"
   },
   "outputs": [],
   "source": [
    "from nltk.wsd import lesk\n",
    "from nltk.tokenize import word_tokenize\n",
    "sentence = 'This device is used to jam the signal'\n",
    "#Proszę sprawdzić definicję słówka 'jam' za pomocą funkcji lesk"
   ]
  },
  {
   "cell_type": "code",
   "execution_count": null,
   "id": "eea4de5d",
   "metadata": {
    "colab": {
     "base_uri": "https://localhost:8080/"
    },
    "id": "eea4de5d",
    "outputId": "dcc3d7e0-9f72-40bc-9cc1-b3e35fa1a98a"
   },
   "outputs": [],
   "source": [
    "sentence = 'I am stuck in a traffic jam'\n",
    "#Proszę sprawdzić definicję słówka 'jam' za pomocą funkcji lesk"
   ]
  },
  {
   "cell_type": "code",
   "execution_count": null,
   "id": "bb027d30",
   "metadata": {
    "colab": {
     "base_uri": "https://localhost:8080/"
    },
    "id": "bb027d30",
    "outputId": "2f83fd0e-87e3-4437-e468-be5c1b3c6d40"
   },
   "outputs": [],
   "source": [
    "sentence = 'Water current'\n",
    "#Proszę sprawdzić definicję słówka 'current' za pomocą funkcji lesk"
   ]
  },
  {
   "cell_type": "code",
   "execution_count": null,
   "id": "f79567d4",
   "metadata": {
    "colab": {
     "base_uri": "https://localhost:8080/"
    },
    "id": "f79567d4",
    "outputId": "828cfeef-1191-4b46-d051-dda0a153f2d8"
   },
   "outputs": [],
   "source": [
    "sentence = 'The current time is 2 AM'\n",
    "#Proszę sprawdzić definicję słówka 'current' za pomocą funkcji lesk"
   ]
  },
  {
   "cell_type": "markdown",
   "id": "4b472d0e",
   "metadata": {
    "id": "4b472d0e"
   },
   "source": [
    "## Spacy "
   ]
  },
  {
   "cell_type": "code",
   "execution_count": null,
   "id": "e9f4ce73",
   "metadata": {
    "id": "e9f4ce73"
   },
   "outputs": [],
   "source": [
    "import spacy as spacy"
   ]
  },
  {
   "cell_type": "code",
   "execution_count": null,
   "id": "67a52ca5",
   "metadata": {
    "colab": {
     "base_uri": "https://localhost:8080/"
    },
    "id": "67a52ca5",
    "outputId": "ceb17e10-c825-481d-eff0-e79ce6607f6e"
   },
   "outputs": [],
   "source": [
    "!spacy download en_core_web_sm"
   ]
  },
  {
   "cell_type": "code",
   "execution_count": null,
   "id": "dbde633e",
   "metadata": {
    "id": "dbde633e"
   },
   "outputs": [],
   "source": [
    "nlp = spacy.load(\"en_core_web_sm\")"
   ]
  },
  {
   "cell_type": "code",
   "execution_count": null,
   "id": "598e378e",
   "metadata": {
    "id": "598e378e"
   },
   "outputs": [],
   "source": [
    "text1 = ('''\n",
    "The witcher halted at a distance of ten paces.  His sword, slowly drawn from its black enameled sheath, glistened and glowed above his head.\n",
    "“It’s silver,” he said.  “This blade is silver.”\n",
    "The pale little face did not flinch; the anthracite eyes did not change expression.\n",
    "“You’re so like a rusalka, “the witcher continued calmly, “that you could deceive anyone.  All the more as you’re a rare bird, black-haired one.  But horses are never mistaken.  They recognize creatures like you instinctively and perfectly.  What are you?  I think you’re a moola, or an alpor.  An ordinary vampire couldn’t come out in the sun.”\n",
    "The corners of the pale lips quivered and turned up a little.\n",
    "''')"
   ]
  },
  {
   "cell_type": "code",
   "execution_count": null,
   "id": "8079e33c",
   "metadata": {
    "id": "8079e33c"
   },
   "outputs": [],
   "source": [
    "doc = nlp(text1)"
   ]
  },
  {
   "cell_type": "code",
   "execution_count": null,
   "id": "3c0b6f3f",
   "metadata": {
    "colab": {
     "base_uri": "https://localhost:8080/"
    },
    "id": "3c0b6f3f",
    "outputId": "d64e55f2-f9c8-4604-fbf9-c4aedc08a505"
   },
   "outputs": [],
   "source": [
    "#Proszę wypisać listę rzeczowników i przymiotników powyższego tekstu"
   ]
  },
  {
   "cell_type": "code",
   "execution_count": null,
   "id": "d1faa5df",
   "metadata": {
    "id": "d1faa5df"
   },
   "outputs": [],
   "source": [
    "text2 = ('''\n",
    "Born and raised in the Austrian Empire, Tesla studied engineering and physics in the 1870s without receiving a \n",
    "degree, gaining practical experience in the early 1880s working in telephony and at Continental Edison in the \n",
    "new electric power industry. In 1884 he emigrated to the United States, where he became a naturalized citizen. \n",
    "He worked for a short time at the Edison Machine Works in New York City before he struck out on his own. \n",
    "With the help of partners to finance and market his ideas, Tesla set up laboratories and companies in \n",
    "New York to develop a range of electrical and mechanical devices. His alternating current (AC) induction \n",
    "motor and related polyphase AC patents, licensed by Westinghouse Electric in 1888, earned him a considerable \n",
    "amount of money and became the cornerstone of the polyphase system which that company eventually marketed.\n",
    "''')"
   ]
  },
  {
   "cell_type": "code",
   "execution_count": null,
   "id": "4f7e4e86",
   "metadata": {
    "colab": {
     "base_uri": "https://localhost:8080/"
    },
    "id": "4f7e4e86",
    "outputId": "b3af44f7-b465-4d41-d02f-6acbc5a3ed2a"
   },
   "outputs": [],
   "source": [
    "doc = nlp(text2)\n",
    "#Proszę wypisać Entities powyższego tekstu"
   ]
  },
  {
   "cell_type": "markdown",
   "id": "29a9c987",
   "metadata": {
    "id": "29a9c987"
   },
   "source": [
    "## TF-IDF"
   ]
  },
  {
   "cell_type": "code",
   "execution_count": null,
   "id": "331d4b9e",
   "metadata": {
    "id": "331d4b9e"
   },
   "outputs": [],
   "source": [
    "import nltk"
   ]
  },
  {
   "cell_type": "code",
   "execution_count": null,
   "id": "b0766b53",
   "metadata": {
    "id": "b0766b53"
   },
   "outputs": [],
   "source": [
    "text3 = ('''\n",
    "The huge black eyes narrowed.\n",
    "“Where is he, black-haired one?  You were singing, so you’ve drunk some blood.  You’ve taken the ultimate measure, which means you haven’t managed to enslave his mind.  Am I right?”\n",
    "The black-tressed head nodded slightly, almost imperceptibility, and the corners of the mouth turned up even more.  The tiny little face took on an eerie expression.\n",
    "“No doubt you consider yourself the lady of this castle now?”\n",
    "A nod, this time clearer.\n",
    "“Are you a moola?”\n",
    "A slow shake of the head.  The hiss which reverberated through his bones could only have come from the pale, ghastly, smiling lips, although the witcher didn’t see them move.\n",
    "“Alpor?”\n",
    "Denial.\n",
    "The witcher backed away and clasped the hilt of his sword tighter.  “That means you’re-”\n",
    "The corners of the lips started to turn up higher and higher, the lips flew open…\n",
    "“A bruxa!” The witcher shouted, throwing himself towards the fountain.\n",
    "From behind the pale lips glistened white, spiky fangs.  The vampire jumped up, arched her back like a leopard and screamed.\n",
    "''')"
   ]
  },
  {
   "cell_type": "code",
   "execution_count": null,
   "id": "121d95b7",
   "metadata": {
    "colab": {
     "base_uri": "https://localhost:8080/"
    },
    "id": "121d95b7",
    "outputId": "761def58-beec-47c5-acc9-293ea7d88214"
   },
   "outputs": [],
   "source": [
    "from textblob import TextBlob\n",
    "import math\n",
    "\n",
    "# funkcja TF, dla jednego dokumentu\n",
    "def tf(word, blob):\n",
    "    pass\n",
    "\n",
    "#Pomocnicza funkcja zliczająca wystąpienia słowa we wszystkich dokumentach\n",
    "def n_containing(word, bloblist):\n",
    "    pass\n",
    "\n",
    "# funkcja IDF dla wszystkich dokumentów\n",
    "def idf(word, bloblist): \n",
    "    pass\n",
    "\n",
    "#Funkcja TF-IDF\n",
    "def tfidf(word, blob, bloblist):\n",
    "    pass\n",
    "\n",
    "\n",
    "blob1 = TextBlob(text1)\n",
    "blob2 = TextBlob(text2)\n",
    "blob3 = TextBlob(text3)\n",
    "bloblist = [blob1, blob2, blob3]\n",
    "\n",
    "sample_words = ['rusalka', 'witcher', 'Tesla', 'in', 'vampire', 'the']\n",
    "for sample_word in sample_words:\n",
    "    print(f\"For word '{sample_word}' TF Score for text1: {tf(sample_word, blob1):0.4}, IDF Score: {idf(sample_word, bloblist):0.4}, TF-IDF Score for text1:{tfidf(sample_word, blob1, bloblist):0.4}\")"
   ]
  },
  {
   "cell_type": "code",
   "execution_count": null,
   "id": "c015382e",
   "metadata": {
    "colab": {
     "base_uri": "https://localhost:8080/"
    },
    "id": "c015382e",
    "outputId": "797057cb-7ea9-48f8-8a4c-8927daf252cf"
   },
   "outputs": [],
   "source": [
    "sample_word = 'Tesla'\n",
    "print(f\"For word '{sample_word}' TF Score for text2: {tf(sample_word, blob2):0.4}, IDF Score: {idf(sample_word, bloblist):0.4}, TF-IDF Score for text2:{tfidf(sample_word, blob2, bloblist):0.4}\")\n",
    "\n",
    "sample_word = 'The'\n",
    "print(f\"For word '{sample_word}' TF Score for text2: {tf(sample_word, blob2):0.4}, IDF Score: {idf(sample_word, bloblist):0.4}, TF-IDF Score for text2:{tfidf(sample_word, blob2, bloblist):0.4}\")"
   ]
  },
  {
   "cell_type": "code",
   "execution_count": null,
   "id": "57287fef",
   "metadata": {
    "colab": {
     "base_uri": "https://localhost:8080/"
    },
    "id": "57287fef",
    "outputId": "f63c64ee-bdd6-4ba0-ce9f-f61ab60fdbda"
   },
   "outputs": [],
   "source": [
    "from sklearn.feature_extraction.text import CountVectorizer\n",
    "\n",
    "textlist = [text1, text2, text3]\n",
    "\n",
    "#Proszę użyć CountVectorizer na naszych 3 dokumentach"
   ]
  },
  {
   "cell_type": "code",
   "execution_count": null,
   "id": "c15619fa",
   "metadata": {
    "colab": {
     "base_uri": "https://localhost:8080/"
    },
    "id": "c15619fa",
    "outputId": "978f018c-d8e6-44d4-c004-807b2178af4b"
   },
   "outputs": [],
   "source": [
    "#Jak wygląda słownik CountVectorizer? Na co wskazują te liczby?"
   ]
  },
  {
   "cell_type": "code",
   "execution_count": null,
   "id": "d2d26a26",
   "metadata": {
    "colab": {
     "base_uri": "https://localhost:8080/"
    },
    "id": "d2d26a26",
    "outputId": "f6806aec-d5a3-496b-a0d8-3bea56c3557f"
   },
   "outputs": [],
   "source": [
    "print(f\"Index for 'witcher': {count_vect.vocabulary_['witcher']}, index for 'rusalka': {count_vect.vocabulary_['rusalka']}, , index for 'tesla': {count_vect.vocabulary_['tesla']}\")"
   ]
  },
  {
   "cell_type": "code",
   "execution_count": null,
   "id": "560ed6d9",
   "metadata": {
    "colab": {
     "base_uri": "https://localhost:8080/"
    },
    "id": "560ed6d9",
    "outputId": "c5317d90-1da0-4b0a-f2e5-8733bd89eeac"
   },
   "outputs": [],
   "source": [
    "print(f\"For first text 'witcher' count: {text_counts[0, 238]}, for 'rusalka': {text_counts[0, 181]}, for 'tesla' {text_counts[0, 209]}\")"
   ]
  },
  {
   "cell_type": "code",
   "execution_count": null,
   "id": "cab22edc",
   "metadata": {
    "colab": {
     "base_uri": "https://localhost:8080/"
    },
    "id": "cab22edc",
    "outputId": "4f9246fc-cc8f-4fb3-a83a-9ce20c7cd4ed"
   },
   "outputs": [],
   "source": [
    "from sklearn.feature_extraction.text import TfidfTransformer\n",
    "#Wyliczmy TF-IDF za pomocą wbudowanej funkcji sklearn dla naszych tekstów"
   ]
  },
  {
   "cell_type": "code",
   "execution_count": null,
   "id": "7f8c121e",
   "metadata": {
    "colab": {
     "base_uri": "https://localhost:8080/"
    },
    "id": "7f8c121e",
    "outputId": "f9cb28af-8f09-47ac-970a-b2a46a89fad3"
   },
   "outputs": [],
   "source": [
    "print(f\"TF-IDF or first text - 'witcher': {text_tfidf[0, 238]}, 'rusalka': {text_tfidf[0, 181]}, 'tesla' {text_tfidf[0, 209]}\")"
   ]
  },
  {
   "cell_type": "code",
   "execution_count": null,
   "id": "b327cc35",
   "metadata": {
    "colab": {
     "base_uri": "https://localhost:8080/"
    },
    "id": "b327cc35",
    "outputId": "cacd2bb9-a6bd-4d31-f2c5-78755202ee92"
   },
   "outputs": [],
   "source": [
    "print(f\"TF-IDF or second text - 'witcher': {text_tfidf[1, 238]}, 'rusalka': {text_tfidf[1, 181]}, 'tesla' {text_tfidf[1, 209]}\")"
   ]
  },
  {
   "cell_type": "code",
   "execution_count": null,
   "id": "af1b5d69",
   "metadata": {
    "colab": {
     "base_uri": "https://localhost:8080/"
    },
    "id": "af1b5d69",
    "outputId": "08c729d1-6735-4551-8564-a0f627f46ddd"
   },
   "outputs": [],
   "source": [
    "#A jak wyliczyć po prostu TF dla każdego tekstu?"
   ]
  },
  {
   "cell_type": "markdown",
   "id": "f81531bb",
   "metadata": {
    "id": "f81531bb"
   },
   "source": [
    "## Parsing Tree"
   ]
  },
  {
   "cell_type": "code",
   "execution_count": null,
   "id": "5e680181",
   "metadata": {
    "id": "5e680181"
   },
   "outputs": [],
   "source": [
    "import nltk\n",
    "\n",
    "#Poniżej zdefiniowana prosta gramatyka\n",
    "groucho_grammar = nltk.CFG.fromstring(\"\"\"\n",
    "S -> NP VP\n",
    "PP -> P NP\n",
    "NP -> Det N | Det N PP | 'I'\n",
    "VP -> V NP | VP PP\n",
    "Det -> 'an' | 'my'\n",
    "N -> 'elephant' | 'pajamas'\n",
    "V -> 'shot'\n",
    "P -> 'in'\n",
    "\"\"\")"
   ]
  },
  {
   "cell_type": "code",
   "execution_count": null,
   "id": "7355619d",
   "metadata": {
    "colab": {
     "base_uri": "https://localhost:8080/"
    },
    "id": "7355619d",
    "outputId": "69e5ee87-a1e2-415f-eb37-c89a4ab5705d"
   },
   "outputs": [],
   "source": [
    "groucho_grammar.productions()"
   ]
  },
  {
   "cell_type": "code",
   "execution_count": null,
   "id": "83fe87d9",
   "metadata": {
    "colab": {
     "base_uri": "https://localhost:8080/"
    },
    "id": "83fe87d9",
    "outputId": "0683831c-82b8-412b-c44b-3a005ddd0cf0"
   },
   "outputs": [],
   "source": [
    "from nltk.grammar import *\n",
    "\n",
    "groucho_grammar.productions(lhs=Nonterminal(\"NP\"))"
   ]
  },
  {
   "cell_type": "code",
   "execution_count": null,
   "id": "aa1fee2f",
   "metadata": {
    "colab": {
     "base_uri": "https://localhost:8080/"
    },
    "id": "aa1fee2f",
    "outputId": "4d7a5ca6-3a14-4f64-b8a6-d55b9445a0fd"
   },
   "outputs": [],
   "source": [
    "groucho_grammar.productions(rhs=Nonterminal(\"Det\"))"
   ]
  },
  {
   "cell_type": "code",
   "execution_count": null,
   "id": "3a1d1b99",
   "metadata": {
    "colab": {
     "base_uri": "https://localhost:8080/"
    },
    "id": "3a1d1b99",
    "outputId": "19e20cfd-064a-4a89-a27e-8205cd2c6d51"
   },
   "outputs": [],
   "source": [
    "pp = groucho_grammar.productions(rhs=Nonterminal(\"Det\"))\n",
    "pp[0]\n"
   ]
  },
  {
   "cell_type": "code",
   "execution_count": null,
   "id": "6d1a7aeb",
   "metadata": {
    "colab": {
     "base_uri": "https://localhost:8080/"
    },
    "id": "6d1a7aeb",
    "outputId": "aa379117-5327-424c-d409-ccf1d4d9c05c"
   },
   "outputs": [],
   "source": [
    "pp[0].lhs()"
   ]
  },
  {
   "cell_type": "code",
   "execution_count": null,
   "id": "3f4f6820",
   "metadata": {
    "colab": {
     "base_uri": "https://localhost:8080/"
    },
    "id": "3f4f6820",
    "outputId": "9acca3f7-2f3b-42eb-e622-73350d0ca784"
   },
   "outputs": [],
   "source": [
    "pp[0].rhs()"
   ]
  },
  {
   "cell_type": "code",
   "execution_count": null,
   "id": "b5593588",
   "metadata": {
    "id": "b5593588"
   },
   "outputs": [],
   "source": [
    "sent = ['I', 'shot', 'an', 'elephant', 'in', 'my', 'pajamas']\n",
    "#Wyznaczmy drzewo składniowe dla powyższego zdania zgodnie ze zdefiniowaną gramatyką"
   ]
  },
  {
   "cell_type": "code",
   "execution_count": null,
   "id": "03ec7beb",
   "metadata": {
    "colab": {
     "base_uri": "https://localhost:8080/"
    },
    "id": "03ec7beb",
    "outputId": "8831dfd4-50de-4d30-cec6-57cf82a6f832"
   },
   "outputs": [],
   "source": [
    "#wyrysujmy te drzewo"
   ]
  },
  {
   "cell_type": "code",
   "execution_count": null,
   "id": "b3a66731",
   "metadata": {
    "colab": {
     "base_uri": "https://localhost:8080/",
     "height": 285
    },
    "id": "b3a66731",
    "outputId": "126870ba-afc2-43e6-988f-b5dd4221d9e8"
   },
   "outputs": [],
   "source": [
    "#wyrysujmy te drzewo w przystępnej formie graficznej"
   ]
  },
  {
   "cell_type": "code",
   "execution_count": null,
   "id": "efc462a2",
   "metadata": {
    "colab": {
     "base_uri": "https://localhost:8080/",
     "height": 333
    },
    "id": "efc462a2",
    "outputId": "c1a03e26-5b5a-47f1-f8b6-9c2ec927c440"
   },
   "outputs": [],
   "source": [
    "#Czy istnieje inne drzewo? Oznaczające inną interpretacje zdania?"
   ]
  },
  {
   "cell_type": "markdown",
   "id": "6ced82d8",
   "metadata": {
    "id": "6ced82d8"
   },
   "source": [
    "# NER"
   ]
  },
  {
   "cell_type": "code",
   "execution_count": null,
   "id": "72491c8f",
   "metadata": {
    "colab": {
     "base_uri": "https://localhost:8080/"
    },
    "id": "72491c8f",
    "outputId": "843e780f-d952-493f-d11d-f9a04604d985"
   },
   "outputs": [],
   "source": [
    "import spacy\n",
    "\n",
    "nlp = spacy.load(\"en_core_web_sm\")\n",
    "doc = nlp('London is a big city in the United Kingdom.')\n",
    "print(\"\\n-------Example 1 ------\\n\")\n",
    "#Proszę wypisać wpydowane w spacy Entities dla powyższego zdania\n",
    "\n",
    "doc1 = nlp('While in France, Christine Lagarde discussed short-term stimulus efforts in a '\n",
    "           'recent interview on 5:00 P.M. with the Wall Street Journal')\n",
    "print(\"\\n-------Example 2 ------\\n\")\n",
    "#Proszę wypisać wpydowane w spacy Entities dla powyższego zdania\n"
   ]
  },
  {
   "cell_type": "code",
   "execution_count": null,
   "id": "ac0fd814",
   "metadata": {
    "colab": {
     "base_uri": "https://localhost:8080/"
    },
    "id": "ac0fd814",
    "outputId": "4c440dc1-96f4-4dad-da65-3973516fc194"
   },
   "outputs": [],
   "source": [
    "!spacy download pl_core_news_sm\n",
    "import spacy\n",
    "nlp=spacy.load(\"pl_core_news_sm\")"
   ]
  },
  {
   "cell_type": "code",
   "execution_count": null,
   "id": "be969e37",
   "metadata": {
    "colab": {
     "base_uri": "https://localhost:8080/"
    },
    "id": "be969e37",
    "outputId": "e6f35c42-30ec-44ed-b3a4-986433f9c195"
   },
   "outputs": [],
   "source": [
    "doc=nlp(\"Wcale nie chcemy zdobywać kosmosu, chcemy tylko rozszerzyć Ziemię do jego granic.\")\n",
    "#A Entities dla języka polskiego?"
   ]
  },
  {
   "cell_type": "code",
   "execution_count": null,
   "id": "11fbb3a7",
   "metadata": {
    "colab": {
     "base_uri": "https://localhost:8080/"
    },
    "id": "11fbb3a7",
    "outputId": "cecb52e7-e277-4d4c-cd92-1e3015bd4cb7"
   },
   "outputs": [],
   "source": [
    "doc1 = nlp(u'Polska leży w Europie')\n",
    "#A Entities dla języka polskiego?"
   ]
  },
  {
   "cell_type": "markdown",
   "id": "5504e91a",
   "metadata": {
    "id": "5504e91a"
   },
   "source": [
    "# Embeddings"
   ]
  },
  {
   "cell_type": "code",
   "execution_count": null,
   "id": "582aaa16",
   "metadata": {
    "id": "582aaa16"
   },
   "outputs": [],
   "source": [
    "from gensim.test.utils import common_texts\n",
    "from nltk.corpus import brown    \n",
    "sentences = brown.sents()\n",
    "from gensim.models import Word2Vec\n",
    "\n",
    "#Proszę wytrenować model Word2Vec za pomocą korpusu brown, długość embeddingu - 100, wielkość okna - 5, \n",
    "#wziąć pod uwagę słowo jeśli występuje chociaż raz, liczbę epok ustawić na 10\n",
    "#na końcu zapisać model"
   ]
  },
  {
   "cell_type": "code",
   "execution_count": null,
   "id": "c0d0642d",
   "metadata": {
    "colab": {
     "base_uri": "https://localhost:8080/"
    },
    "id": "c0d0642d",
    "outputId": "b94d2244-29f1-4592-86af-48f3e0c652c9"
   },
   "outputs": [],
   "source": [
    "#Jak wygląda embedding dla przykładowego słowa?"
   ]
  },
  {
   "cell_type": "code",
   "execution_count": null,
   "id": "610fac55",
   "metadata": {
    "colab": {
     "base_uri": "https://localhost:8080/"
    },
    "id": "610fac55",
    "outputId": "791885ca-bbf0-4e46-d212-0f6579f87630"
   },
   "outputs": [],
   "source": [
    "#Jakie jest 10 najbliższych wektorów do słówka 'wine'?"
   ]
  },
  {
   "cell_type": "code",
   "execution_count": null,
   "id": "eae89028",
   "metadata": {
    "colab": {
     "base_uri": "https://localhost:8080/"
    },
    "id": "eae89028",
    "outputId": "bce75e0e-36d3-4492-a5fc-93e751ee9a1d"
   },
   "outputs": [],
   "source": [
    "from nltk.corpus import webtext   \n",
    "sentences = webtext.sents()\n",
    "\n",
    "#Proszę załadować zapisany model i kontynuować trenowanie dla corpusu webtext, przez 4 epoki"
   ]
  },
  {
   "cell_type": "code",
   "execution_count": null,
   "id": "6aa95583",
   "metadata": {
    "colab": {
     "base_uri": "https://localhost:8080/"
    },
    "id": "6aa95583",
    "outputId": "a9b0e370-91fc-4a91-a6e7-1dd0dcbe39a4"
   },
   "outputs": [],
   "source": [
    "#Jakie jest 10 najbliższych wektorów do słówka 'wine' teraz?"
   ]
  },
  {
   "cell_type": "code",
   "execution_count": null,
   "id": "8c7ee0a6",
   "metadata": {
    "colab": {
     "base_uri": "https://localhost:8080/",
     "height": 307
    },
    "id": "8c7ee0a6",
    "outputId": "ad5c8bfb-d1db-4def-e7d0-1bd822b14cc0"
   },
   "outputs": [],
   "source": [
    "#Co się stanie gdy się zapytamy o niewystępujące słowo?"
   ]
  },
  {
   "cell_type": "code",
   "execution_count": null,
   "id": "b0af7246",
   "metadata": {
    "colab": {
     "base_uri": "https://localhost:8080/"
    },
    "id": "b0af7246",
    "outputId": "56acbd13-3cca-4abd-d4e2-bffbf5f6a22b"
   },
   "outputs": [],
   "source": [
    "#Proszę znaleść najbliższe wektory dla \"algebry emebddingów\": king - man + woman"
   ]
  },
  {
   "cell_type": "code",
   "execution_count": null,
   "id": "7ac7a700",
   "metadata": {
    "colab": {
     "base_uri": "https://localhost:8080/"
    },
    "id": "7ac7a700",
    "outputId": "bb9112e7-1bf9-4fff-997b-b9de856ebac6"
   },
   "outputs": [],
   "source": [
    "import gensim.downloader\n",
    "# Show all available models in gensim-data\n",
    "print(list(gensim.downloader.info()['models'].keys()))"
   ]
  },
  {
   "cell_type": "code",
   "execution_count": null,
   "id": "da53453a",
   "metadata": {
    "colab": {
     "base_uri": "https://localhost:8080/"
    },
    "id": "da53453a",
    "outputId": "3cc243fa-c53b-40ee-a7a9-5662c30f3207"
   },
   "outputs": [],
   "source": [
    "w2v_vectors = gensim.downloader.load('word2vec-google-news-300')"
   ]
  },
  {
   "cell_type": "code",
   "execution_count": null,
   "id": "1c65f851",
   "metadata": {
    "colab": {
     "base_uri": "https://localhost:8080/"
    },
    "id": "1c65f851",
    "outputId": "b351f908-5b52-4d7b-babf-fc90099a4143"
   },
   "outputs": [],
   "source": [
    "#Jakie jest 10 najbliższych wektorów do słówka 'dog'?"
   ]
  },
  {
   "cell_type": "code",
   "execution_count": null,
   "id": "b3bd8fa5",
   "metadata": {
    "colab": {
     "base_uri": "https://localhost:8080/"
    },
    "id": "b3bd8fa5",
    "outputId": "1e50d516-4451-4d60-9fc9-66c6cc86f999"
   },
   "outputs": [],
   "source": [
    "#Proszę znaleść najbliższe wektory dla \"algebry emebddingów\": death - man + computer"
   ]
  },
  {
   "cell_type": "code",
   "execution_count": null,
   "id": "6f9ff8e6",
   "metadata": {
    "id": "6f9ff8e6"
   },
   "outputs": [],
   "source": [
    "import matplotlib.pyplot as plt\n",
    "from sklearn.decomposition  import PCA\n",
    "import numpy as np\n",
    "\n",
    "def to_2d(embeddings):\n",
    "    # To reduce embedding dims without losing much information we use PCA\n",
    "    pca = PCA(n_components=2, whiten=True)\n",
    "    pca.fit(embeddings)\n",
    "    return pca.transform(embeddings)\n",
    "\n",
    "\n",
    "def annotated_scatter(points, names, color='blue'):\n",
    "    x_coords = points[:, 0]\n",
    "    y_coords = points[:, 1]\n",
    "    plt.scatter(x_coords, y_coords, c=color)\n",
    "    for label, x, y in zip(names, x_coords, y_coords):\n",
    "                      plt.annotate(label, xy=(x, y), xytext=(0, 0), textcoords='offset points')\n",
    "    plt.xlim(x_coords.min() - .5, x_coords.max() + .5)\n",
    "    plt.ylim(y_coords.min() - .5, y_coords.max() + .5)\n",
    "\n",
    "    \n",
    "def plot_embeddings(embeddings, names, color='blue', show=True):\n",
    "    X_train = np.array([embeddings[k] for k in names])\n",
    "    embeddings_2d = to_2d(X_train)\n",
    "    \n",
    "    annotated_scatter(embeddings_2d, names, color)\n",
    "    plt.grid()\n",
    "    \n",
    "    if show:\n",
    "        plt.show()"
   ]
  },
  {
   "cell_type": "code",
   "execution_count": null,
   "id": "673140fb",
   "metadata": {
    "id": "673140fb"
   },
   "outputs": [],
   "source": [
    "near_dog = [elem[0] for elem in w2v_vectors.most_similar(w2v_vectors['dog'])]\n",
    "near_computer = [elem[0] for elem in w2v_vectors.most_similar(w2v_vectors['computer'])]"
   ]
  },
  {
   "cell_type": "code",
   "execution_count": null,
   "id": "9f5324ec",
   "metadata": {
    "colab": {
     "base_uri": "https://localhost:8080/",
     "height": 265
    },
    "id": "9f5324ec",
    "outputId": "aedc42f9-8397-4b6b-d767-8d0611bcef48"
   },
   "outputs": [],
   "source": [
    "plot_embeddings(w2v_vectors, \n",
    "                near_dog + near_computer, \n",
    "                color=['red'] * len(near_dog) + ['green'] * len(near_computer))"
   ]
  },
  {
   "cell_type": "code",
   "execution_count": null,
   "id": "34cc9cff",
   "metadata": {
    "id": "34cc9cff"
   },
   "outputs": [],
   "source": [
    "from collections import namedtuple\n",
    "import matplotlib.lines as mlines\n",
    "from matplotlib import cm\n",
    "\n",
    "LinearSubs = namedtuple('LinearSubs', \n",
    "                        ('word_pair', 'name'))\n",
    "\n",
    "def plot_linear_substructures(linear_subs, embeddings):\n",
    "    embeddings_matrix = [embeddings[p] for ls in linear_subs for p in ls.word_pair]\n",
    "    embeddings_matrix = np.array(embeddings_matrix)\n",
    "    pair_names = [p for ls in linear_subs for p in ls.word_pair]\n",
    "    ls_names = [ls.name for ls in linear_subs]\n",
    "    embeddings_2d = to_2d(embeddings_matrix)\n",
    "    annotated_scatter(embeddings_2d, \n",
    "                      pair_names, \n",
    "                      cm.Set1.colors[:len(embeddings_2d)])\n",
    "    \n",
    "    for i in range(0, len(embeddings_2d), 2):\n",
    "        p1 = embeddings_2d[i]\n",
    "        p2 = embeddings_2d[i + 1]\n",
    "        # Center of the linear substructure\n",
    "        center = [(p1[i] + p2[i]) / 2 + .04 for i in range(2)]\n",
    "        \n",
    "        plt.plot(*zip(p1, p2), '--')\n",
    "        plt.annotate(ls_names[i // 2], \n",
    "                     xy=center, \n",
    "                     xytext=(0, 0), textcoords='offset points')"
   ]
  },
  {
   "cell_type": "code",
   "execution_count": null,
   "id": "aeec3fb5",
   "metadata": {
    "colab": {
     "base_uri": "https://localhost:8080/",
     "height": 320
    },
    "id": "aeec3fb5",
    "outputId": "3c7e806c-a03d-42bf-c643-da34f8661bed"
   },
   "outputs": [],
   "source": [
    "plt.figure(figsize=(20, 5))\n",
    "\n",
    "plt.subplot(131)\n",
    "plot_linear_substructures([LinearSubs(('man', 'woman'), 'sex'),\n",
    "                           LinearSubs(('king', 'queen'), 'sex'),\n",
    "                           LinearSubs(('mother', 'father'), 'sex')], w2v_vectors)\n",
    "\n",
    "plt.subplot(132)\n",
    "plot_linear_substructures([LinearSubs(('cat', 'feline'), 'family'),\n",
    "                           LinearSubs(('dog', 'canine'), 'family'),\n",
    "                           LinearSubs(('parrot', 'bird'), 'family')], w2v_vectors)\n",
    "\n",
    "plt.subplot(133)\n",
    "plot_linear_substructures([LinearSubs(('samsung', 'mobile'), 'product'),\n",
    "                           LinearSubs(('sony', 'tv'), 'product'),\n",
    "                           LinearSubs(('ikea', 'furniture'), 'product')], w2v_vectors)"
   ]
  },
  {
   "cell_type": "code",
   "execution_count": null,
   "id": "fdb0a4cf",
   "metadata": {
    "colab": {
     "base_uri": "https://localhost:8080/"
    },
    "id": "fdb0a4cf",
    "outputId": "709238da-dd09-45cf-c402-f7871b180d7b"
   },
   "outputs": [],
   "source": [
    "#Glove 6B\n",
    "\n",
    "!curl -OL http://nlp.stanford.edu/data/glove.6B.zip -o glove.6B.zip\n",
    "#wget\n",
    "# !wget http://nlp.stanford.edu/data/glove.6B.zip"
   ]
  },
  {
   "cell_type": "code",
   "execution_count": null,
   "id": "SKsZZYSAQ7Gt",
   "metadata": {
    "id": "SKsZZYSAQ7Gt"
   },
   "outputs": [],
   "source": [
    "!unzip -o glove.6B.zip\n",
    "# !unzip -o /content/glove.6B.zip"
   ]
  },
  {
   "cell_type": "code",
   "execution_count": null,
   "id": "bef235f1",
   "metadata": {
    "id": "bef235f1"
   },
   "outputs": [],
   "source": [
    "glove_embeddings = {}\n",
    "with open('glove.6B.300d.txt') as f:\n",
    "    glove_embeddings = {l.split()[0]: np.array(l.split()[1:]).astype('float') for l in f}"
   ]
  },
  {
   "cell_type": "code",
   "execution_count": null,
   "id": "fbe78d30",
   "metadata": {
    "id": "fbe78d30"
   },
   "outputs": [],
   "source": [
    "def get_closest(x, embeddings, topn=3):\n",
    "    \"\"\"\n",
    "    Get the closest embeddings calculating the euclidean distance\n",
    "    Parameters\n",
    "    ----------\n",
    "    x: np.ndarray\n",
    "      Vector containing an embedding\n",
    "    top_k: int, optional\n",
    "      Get the top k similar embeddings\n",
    "    Returns\n",
    "    -------\n",
    "    dict\n",
    "      Dict containing the top k similar embeddings to the given x\n",
    "    \"\"\"\n",
    "    # Stack all embeddings in a single matrix. Note: the matrix dimention will be\n",
    "    # V x D where V is the vocabulary size and D is the embedding dimension\n",
    "    embedding_matrix = np.array(list(embeddings.values()))\n",
    "    # Using broadcasting compute distance to each embedding in our vocabulary\n",
    "    distances = x - embedding_matrix\n",
    "    # Comoute the magnitude of each distance\n",
    "    distances = np.linalg.norm(distances, axis=1)\n",
    "    # Sort distance and keep the smallest k\n",
    "    min_idx = np.argsort(distances)[:topn]\n",
    "    return [list(embeddings)[i] for i in min_idx]"
   ]
  },
  {
   "cell_type": "code",
   "execution_count": null,
   "id": "9506e5fd",
   "metadata": {
    "colab": {
     "base_uri": "https://localhost:8080/",
     "height": 320
    },
    "id": "9506e5fd",
    "outputId": "0eec2587-fd7a-4621-ba5d-f61b14619eb3"
   },
   "outputs": [],
   "source": [
    "plt.figure(figsize=(20, 5))\n",
    "\n",
    "plt.subplot(131)\n",
    "plot_linear_substructures([LinearSubs(('man', 'woman'), 'sex'),\n",
    "                           LinearSubs(('king', 'queen'), 'sex'),\n",
    "                           LinearSubs(('mother', 'father'), 'sex')], glove_embeddings)\n",
    "\n",
    "plt.subplot(132)\n",
    "plot_linear_substructures([LinearSubs(('cat', 'feline'), 'family'),\n",
    "                           LinearSubs(('dog', 'canine'), 'family'),\n",
    "                           LinearSubs(('parrot', 'bird'), 'family')], glove_embeddings)\n",
    "\n",
    "plt.subplot(133)\n",
    "plot_linear_substructures([LinearSubs(('samsung', 'mobile'), 'product'),\n",
    "                           LinearSubs(('sony', 'tv'), 'product'),\n",
    "                           LinearSubs(('ikea', 'furniture'), 'product')], glove_embeddings)"
   ]
  },
  {
   "cell_type": "code",
   "execution_count": null,
   "id": "12414929",
   "metadata": {
    "colab": {
     "base_uri": "https://localhost:8080/"
    },
    "id": "12414929",
    "outputId": "da3479ac-fc3f-409c-8458-8279d4cb8aaa"
   },
   "outputs": [],
   "source": [
    "get_closest(glove_embeddings['king'] - glove_embeddings['man'] + glove_embeddings['woman'], glove_embeddings)"
   ]
  },
  {
   "cell_type": "code",
   "execution_count": null,
   "id": "2f06d5e9",
   "metadata": {
    "id": "2f06d5e9",
    "outputId": "8786cb2e-2f07-4d93-ed70-fa6406434615"
   },
   "outputs": [],
   "source": [
    "# vectors = {name: gensim.downloader.load(name) for name in list(gensim.downloader.info()['models'].keys())}"
   ]
  },
  {
   "cell_type": "code",
   "execution_count": null,
   "id": "c1e61431",
   "metadata": {
    "id": "c1e61431",
    "outputId": "9a5c650c-ec6b-496c-d256-efaf74abae75"
   },
   "outputs": [],
   "source": [
    "# word1 = 'king'\n",
    "# word2 = 'man'\n",
    "# word3 = 'woman'\n",
    "# for name, vector in vectors.items():\n",
    "#     try:\n",
    "#         result = vector.most_similar(vector[word1] - vector[word2] + vector[word3])\n",
    "#     except:\n",
    "#         print(f\"Calcuation not possible for {name}\")\n",
    "#         print('-'*60)\n",
    "#     else:\n",
    "#         print(f\"Embedding: {name}\")\n",
    "#         for i in result:\n",
    "#             print(i, end=\"\\n\")\n",
    "#         print('-'*60)"
   ]
  },
  {
   "cell_type": "code",
   "execution_count": null,
   "id": "4a18e2b0",
   "metadata": {
    "id": "4a18e2b0",
    "outputId": "78a9baae-54ed-4672-b584-55a6ccf2d72f"
   },
   "outputs": [],
   "source": [
    "# word1 = 'father'\n",
    "# word2 = 'man'\n",
    "# word3 = 'woman'\n",
    "# for vector, name in zip(vectors, gensim.downloader.info()['models'].keys()):\n",
    "#     try:\n",
    "#         result = vector.most_similar(vector[word1] - vector[word2] + vector[word3])\n",
    "#     except:\n",
    "#         print(f\"Calcuation not possible for {name}\")\n",
    "#         print('-'*60)\n",
    "#     else:\n",
    "#         print(f\"Embedding: {name}\")\n",
    "#         for i in result:\n",
    "#             print(i, end=\"\\n\")\n",
    "#         print('-'*60)"
   ]
  },
  {
   "cell_type": "code",
   "execution_count": null,
   "id": "05dc34bd",
   "metadata": {
    "id": "05dc34bd",
    "outputId": "f9e066d2-632f-477e-9e54-967de3879454"
   },
   "outputs": [],
   "source": [
    "# word1 = 'death'\n",
    "# word2 = 'man'\n",
    "# word3 = 'computer'\n",
    "# for vector, name in zip(vectors, gensim.downloader.info()['models'].keys()):\n",
    "#     try:\n",
    "#         result = vector.most_similar(vector[word1] - vector[word2] + vector[word3])\n",
    "#     except:\n",
    "#         print(f\"Calcuation not possible for {name}\")\n",
    "#         print('-'*60)\n",
    "#     else:\n",
    "#         print(f\"Embedding: {name}\")\n",
    "#         for i in result:\n",
    "#             print(i, end=\"\\n\")\n",
    "#         print('-'*60)"
   ]
  }
 ],
 "metadata": {
  "colab": {
   "collapsed_sections": [],
   "name": "NLP.ipynb",
   "provenance": []
  },
  "kernelspec": {
   "display_name": "Python (ml_nlp)",
   "language": "python",
   "name": "ml_nlp"
  },
  "language_info": {
   "codemirror_mode": {
    "name": "ipython",
    "version": 3
   },
   "file_extension": ".py",
   "mimetype": "text/x-python",
   "name": "python",
   "nbconvert_exporter": "python",
   "pygments_lexer": "ipython3",
   "version": "3.9.12"
  }
 },
 "nbformat": 4,
 "nbformat_minor": 5
}
