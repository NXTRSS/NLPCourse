{
 "cells": [
  {
   "cell_type": "markdown",
   "id": "f415be77",
   "metadata": {
    "id": "f415be77"
   },
   "source": [
    "## Corpuses"
   ]
  },
  {
   "cell_type": "code",
   "execution_count": 5,
   "id": "530e6c43",
   "metadata": {
    "colab": {
     "base_uri": "https://localhost:8080/"
    },
    "id": "530e6c43",
    "outputId": "9df6a458-1d97-4d31-bebc-b24e70e25ee2"
   },
   "outputs": [
    {
     "name": "stdout",
     "output_type": "stream",
     "text": [
      "Looking in indexes: https://pypi.org/simple, https://us-python.pkg.dev/colab-wheels/public/simple/\n",
      "Requirement already satisfied: svgling==0.3.1 in /usr/local/lib/python3.7/dist-packages (0.3.1)\n",
      "Requirement already satisfied: svgwrite in /usr/local/lib/python3.7/dist-packages (from svgling==0.3.1) (1.4.2)\n",
      "Looking in indexes: https://pypi.org/simple, https://us-python.pkg.dev/colab-wheels/public/simple/\n",
      "Requirement already satisfied: gensim==4.1.2 in /usr/local/lib/python3.7/dist-packages (4.1.2)\n",
      "Requirement already satisfied: numpy>=1.17.0 in /usr/local/lib/python3.7/dist-packages (from gensim==4.1.2) (1.21.6)\n",
      "Requirement already satisfied: scipy>=0.18.1 in /usr/local/lib/python3.7/dist-packages (from gensim==4.1.2) (1.4.1)\n",
      "Requirement already satisfied: smart-open>=1.8.1 in /usr/local/lib/python3.7/dist-packages (from gensim==4.1.2) (5.2.1)\n"
     ]
    }
   ],
   "source": [
    "#libraries\n",
    "!pip install svgling==0.3.1\n",
    "!pip install gensim==4.1.2"
   ]
  },
  {
   "cell_type": "code",
   "execution_count": 6,
   "id": "2d6c3cf1",
   "metadata": {
    "colab": {
     "base_uri": "https://localhost:8080/"
    },
    "id": "2d6c3cf1",
    "outputId": "a6ff86b1-ce37-429e-c0aa-29ebe3146cc0"
   },
   "outputs": [
    {
     "name": "stdout",
     "output_type": "stream",
     "text": [
      "['_LazyModule__lazymodule_globals', '_LazyModule__lazymodule_import', '_LazyModule__lazymodule_init', '_LazyModule__lazymodule_loaded', '_LazyModule__lazymodule_locals', '_LazyModule__lazymodule_name', '__class__', '__delattr__', '__dict__', '__dir__', '__doc__', '__eq__', '__format__', '__ge__', '__getattr__', '__getattribute__', '__gt__', '__hash__', '__init__', '__init_subclass__', '__le__', '__lt__', '__module__', '__name__', '__ne__', '__new__', '__reduce__', '__reduce_ex__', '__repr__', '__setattr__', '__sizeof__', '__str__', '__subclasshook__', '__weakref__']\n"
     ]
    }
   ],
   "source": [
    "import nltk.corpus\n",
    "print(dir(nltk.corpus))"
   ]
  },
  {
   "cell_type": "code",
   "execution_count": 8,
   "id": "f4dcbd2b",
   "metadata": {
    "colab": {
     "base_uri": "https://localhost:8080/",
     "height": 37
    },
    "id": "f4dcbd2b",
    "outputId": "f81cb2ae-b695-4c72-de6a-9695ed0ff1c8"
   },
   "outputs": [
    {
     "data": {
      "application/vnd.google.colaboratory.intrinsic+json": {
       "type": "string"
      },
      "text/plain": [
       "'/content'"
      ]
     },
     "execution_count": 8,
     "metadata": {},
     "output_type": "execute_result"
    }
   ],
   "source": [
    "import os\n",
    "os.getcwd()"
   ]
  },
  {
   "cell_type": "code",
   "execution_count": 9,
   "id": "b773af2e",
   "metadata": {
    "colab": {
     "base_uri": "https://localhost:8080/"
    },
    "id": "b773af2e",
    "outputId": "7557aec8-71ba-46af-e6ca-08e6919379e9"
   },
   "outputs": [
    {
     "name": "stderr",
     "output_type": "stream",
     "text": [
      "[nltk_data] Downloading package brown to /root/nltk_data...\n",
      "[nltk_data]   Package brown is already up-to-date!\n"
     ]
    }
   ],
   "source": [
    "import nltk\n",
    "nltk.download('brown')\n",
    "from nltk.corpus import brown as cb"
   ]
  },
  {
   "cell_type": "code",
   "execution_count": 10,
   "id": "c103c19b",
   "metadata": {
    "colab": {
     "base_uri": "https://localhost:8080/"
    },
    "id": "c103c19b",
    "outputId": "90a5e8ed-d76b-41d1-8f78-b17733c83117"
   },
   "outputs": [
    {
     "name": "stdout",
     "output_type": "stream",
     "text": [
      "The, Fulton, County, Grand, Jury, said, Friday, an, investigation, of, Atlanta's, recent, primary, election, produced, ``, no, evidence, '', that\n"
     ]
    }
   ],
   "source": [
    "print(\", \".join(cb.words()[:20]))"
   ]
  },
  {
   "cell_type": "code",
   "execution_count": 11,
   "id": "528cc478",
   "metadata": {
    "colab": {
     "base_uri": "https://localhost:8080/"
    },
    "id": "528cc478",
    "outputId": "dfdbc2e0-a254-4c2a-a9a7-8be895e96ee9"
   },
   "outputs": [
    {
     "data": {
      "text/plain": [
       "['The',\n",
       " 'Fulton',\n",
       " 'County',\n",
       " 'Grand',\n",
       " 'Jury',\n",
       " 'said',\n",
       " 'Friday',\n",
       " 'an',\n",
       " 'investigation',\n",
       " 'of']"
      ]
     },
     "execution_count": 11,
     "metadata": {},
     "output_type": "execute_result"
    }
   ],
   "source": [
    "cb.words()[:10]"
   ]
  },
  {
   "cell_type": "code",
   "execution_count": 12,
   "id": "61d093a6",
   "metadata": {
    "colab": {
     "base_uri": "https://localhost:8080/"
    },
    "id": "61d093a6",
    "outputId": "de70a8b1-d387-4730-af58-05c1f4e8f862"
   },
   "outputs": [
    {
     "data": {
      "text/plain": [
       "[('The', 'AT'),\n",
       " ('jury', 'NN'),\n",
       " ('further', 'RBR'),\n",
       " ('said', 'VBD'),\n",
       " ('in', 'IN'),\n",
       " ('term-end', 'NN'),\n",
       " ('presentments', 'NNS'),\n",
       " ('that', 'CS'),\n",
       " ('the', 'AT'),\n",
       " ('City', 'NN-TL'),\n",
       " ('Executive', 'JJ-TL'),\n",
       " ('Committee', 'NN-TL'),\n",
       " (',', ','),\n",
       " ('which', 'WDT'),\n",
       " ('had', 'HVD'),\n",
       " ('over-all', 'JJ'),\n",
       " ('charge', 'NN'),\n",
       " ('of', 'IN'),\n",
       " ('the', 'AT'),\n",
       " ('election', 'NN'),\n",
       " (',', ','),\n",
       " ('``', '``'),\n",
       " ('deserves', 'VBZ'),\n",
       " ('the', 'AT'),\n",
       " ('praise', 'NN'),\n",
       " ('and', 'CC'),\n",
       " ('thanks', 'NNS'),\n",
       " ('of', 'IN'),\n",
       " ('the', 'AT'),\n",
       " ('City', 'NN-TL'),\n",
       " ('of', 'IN-TL'),\n",
       " ('Atlanta', 'NP-TL'),\n",
       " (\"''\", \"''\"),\n",
       " ('for', 'IN'),\n",
       " ('the', 'AT'),\n",
       " ('manner', 'NN'),\n",
       " ('in', 'IN'),\n",
       " ('which', 'WDT'),\n",
       " ('the', 'AT'),\n",
       " ('election', 'NN'),\n",
       " ('was', 'BEDZ'),\n",
       " ('conducted', 'VBN'),\n",
       " ('.', '.')]"
      ]
     },
     "execution_count": 12,
     "metadata": {},
     "output_type": "execute_result"
    }
   ],
   "source": [
    "cb.tagged_sents(categories='news')[1]"
   ]
  },
  {
   "cell_type": "code",
   "execution_count": 13,
   "id": "5974cdfa",
   "metadata": {
    "colab": {
     "base_uri": "https://localhost:8080/"
    },
    "id": "5974cdfa",
    "outputId": "2c95f6c4-7926-43b2-91ab-11c8c67ed895"
   },
   "outputs": [
    {
     "data": {
      "text/plain": [
       "[['The', 'Fulton', 'County', 'Grand', 'Jury', 'said', 'Friday', 'an', 'investigation', 'of', \"Atlanta's\", 'recent', 'primary', 'election', 'produced', '``', 'no', 'evidence', \"''\", 'that', 'any', 'irregularities', 'took', 'place', '.'], ['The', 'jury', 'further', 'said', 'in', 'term-end', 'presentments', 'that', 'the', 'City', 'Executive', 'Committee', ',', 'which', 'had', 'over-all', 'charge', 'of', 'the', 'election', ',', '``', 'deserves', 'the', 'praise', 'and', 'thanks', 'of', 'the', 'City', 'of', 'Atlanta', \"''\", 'for', 'the', 'manner', 'in', 'which', 'the', 'election', 'was', 'conducted', '.'], ...]"
      ]
     },
     "execution_count": 13,
     "metadata": {},
     "output_type": "execute_result"
    }
   ],
   "source": [
    "cb.sents(categories=['news', 'editorial', 'reviews'])"
   ]
  },
  {
   "cell_type": "code",
   "execution_count": 14,
   "id": "0d7a5857",
   "metadata": {
    "colab": {
     "base_uri": "https://localhost:8080/"
    },
    "id": "0d7a5857",
    "outputId": "9b102f0b-45c8-4912-c5ed-c89797ba32db"
   },
   "outputs": [
    {
     "name": "stdout",
     "output_type": "stream",
     "text": [
      "firefox.txt Cookie Manager: \"Don't allow sites that set removed cookies to set future cookies\" should  ...\n",
      "grail.txt SCENE 1: [wind] [clop clop clop] \n",
      "KING ARTHUR: Whoa there!  [clop clop clop] \n",
      "SOLDIER #1:  ...\n",
      "overheard.txt White guy: So, do you have any plans for this evening?\n",
      "Asian girl: Yeah, being angry!\n",
      "Whit ...\n",
      "pirates.txt PIRATES OF THE CARRIBEAN: DEAD MAN'S CHEST, by Ted Elliott & Terry Rossio\n",
      "[view looking st ...\n",
      "singles.txt 25 SEXY MALE, seeks attrac older single lady, for discreet encounters.\n",
      "35YO Security Guard ...\n",
      "wine.txt Lovely delicate, fragrant Rhone wine. Polished leather and strawberries. Perhaps a bit dil ...\n"
     ]
    },
    {
     "name": "stderr",
     "output_type": "stream",
     "text": [
      "[nltk_data] Downloading package webtext to /root/nltk_data...\n",
      "[nltk_data]   Package webtext is already up-to-date!\n"
     ]
    }
   ],
   "source": [
    "import nltk\n",
    "nltk.download('webtext')\n",
    "from nltk.corpus import webtext\n",
    "for fileid in webtext.fileids():\n",
    "    print(fileid, webtext.raw(fileid)[:90], '...')"
   ]
  },
  {
   "cell_type": "code",
   "execution_count": null,
   "id": "a0e209bc",
   "metadata": {},
   "outputs": [],
   "source": [
    "nltk.download('inaugural')"
   ]
  },
  {
   "cell_type": "code",
   "execution_count": 15,
   "id": "fea19a47",
   "metadata": {
    "colab": {
     "base_uri": "https://localhost:8080/",
     "height": 496
    },
    "id": "fea19a47",
    "outputId": "6a2f8183-1f4d-4054-ecdf-9869de463606"
   },
   "outputs": [
    {
     "name": "stderr",
     "output_type": "stream",
     "text": [
      "[nltk_data] Downloading package inaugural to /root/nltk_data...\n",
      "[nltk_data]   Package inaugural is already up-to-date!\n"
     ]
    },
    {
     "data": {
      "image/png": "[encoded data removed]",
      "text/plain": [
       "<Figure size 960x480 with 1 Axes>"
      ]
     },
     "metadata": {
      "needs_background": "light"
     },
     "output_type": "display_data"
    },
    {
     "data": {
      "text/plain": [
       "<matplotlib.axes._subplots.AxesSubplot at 0x7f8cb1d8e650>"
      ]
     },
     "execution_count": 15,
     "metadata": {},
     "output_type": "execute_result"
    }
   ],
   "source": [
    "from nltk.corpus import inaugural\n",
    "from matplotlib.pyplot import figure\n",
    "\n",
    "figure(figsize=(12, 6), dpi=80)\n",
    "cfd = nltk.ConditionalFreqDist((target, fileid[:4]) \n",
    "                               for fileid in inaugural.fileids() \n",
    "                               for w in inaugural.words(fileid) \n",
    "                               for target in ['america', 'citizen'] \n",
    "                               if w.lower().startswith(target))\n",
    "cfd.plot()"
   ]
  },
  {
   "cell_type": "markdown",
   "id": "4720a32e",
   "metadata": {
    "id": "4720a32e"
   },
   "source": [
    "# Tokenizacja"
   ]
  },
  {
   "cell_type": "code",
   "execution_count": 16,
   "id": "eO35lKqDHiM1",
   "metadata": {
    "colab": {
     "base_uri": "https://localhost:8080/"
    },
    "id": "eO35lKqDHiM1",
    "outputId": "ff9cfd27-2790-4960-eaa8-18c7a825b1a0"
   },
   "outputs": [
    {
     "name": "stderr",
     "output_type": "stream",
     "text": [
      "[nltk_data] Downloading package punkt to /root/nltk_data...\n",
      "[nltk_data]   Package punkt is already up-to-date!\n"
     ]
    },
    {
     "data": {
      "text/plain": [
       "True"
      ]
     },
     "execution_count": 16,
     "metadata": {},
     "output_type": "execute_result"
    }
   ],
   "source": [
    "nltk.download('punkt')\n"
   ]
  },
  {
   "cell_type": "code",
   "execution_count": 17,
   "id": "b9a00497",
   "metadata": {
    "colab": {
     "base_uri": "https://localhost:8080/"
    },
    "id": "b9a00497",
    "outputId": "16470c2f-1792-4b62-df54-cfb5fb1df03a"
   },
   "outputs": [
    {
     "data": {
      "text/plain": [
       "['At',\n",
       " 'eight',\n",
       " \"o'clock\",\n",
       " 'on',\n",
       " 'Thursday',\n",
       " 'morning',\n",
       " 'Arthur',\n",
       " 'did',\n",
       " \"n't\",\n",
       " 'feel',\n",
       " 'very',\n",
       " 'good',\n",
       " '.']"
      ]
     },
     "execution_count": 17,
     "metadata": {},
     "output_type": "execute_result"
    }
   ],
   "source": [
    "from nltk.tokenize import word_tokenize\n",
    "sentence = \"\"\"At eight o'clock on Thursday morning Arthur didn't feel very good.\"\"\"\n",
    "word_tokenize(sentence)"
   ]
  },
  {
   "cell_type": "code",
   "execution_count": 18,
   "id": "f020cb44",
   "metadata": {
    "colab": {
     "base_uri": "https://localhost:8080/"
    },
    "id": "f020cb44",
    "outputId": "04d81a29-91af-4c32-cb5b-b2500cc849ed"
   },
   "outputs": [
    {
     "data": {
      "text/plain": [
       "['At', 'eight', \"o'clock\", 'I', 'did', \"n't\", 'feel', 'very', 'good', '.']"
      ]
     },
     "execution_count": 18,
     "metadata": {},
     "output_type": "execute_result"
    }
   ],
   "source": [
    "from nltk.tokenize import word_tokenize\n",
    "sentence = \"\"\"At eight o'clock I didn't feel very good.\"\"\"\n",
    "word_tokenize(sentence)"
   ]
  },
  {
   "cell_type": "markdown",
   "id": "07a13354",
   "metadata": {
    "id": "07a13354"
   },
   "source": [
    "# Stop words"
   ]
  },
  {
   "cell_type": "code",
   "execution_count": 19,
   "id": "riCDprjCHoS_",
   "metadata": {
    "colab": {
     "base_uri": "https://localhost:8080/"
    },
    "id": "riCDprjCHoS_",
    "outputId": "18592394-59f7-4703-85aa-3b801d6eeacf"
   },
   "outputs": [
    {
     "name": "stderr",
     "output_type": "stream",
     "text": [
      "[nltk_data] Downloading package stopwords to /root/nltk_data...\n",
      "[nltk_data]   Package stopwords is already up-to-date!\n"
     ]
    },
    {
     "data": {
      "text/plain": [
       "True"
      ]
     },
     "execution_count": 19,
     "metadata": {},
     "output_type": "execute_result"
    }
   ],
   "source": [
    "nltk.download('stopwords')"
   ]
  },
  {
   "cell_type": "code",
   "execution_count": 20,
   "id": "89e5710d",
   "metadata": {
    "colab": {
     "base_uri": "https://localhost:8080/"
    },
    "id": "89e5710d",
    "outputId": "3662ed3e-129a-4923-c1d1-00a9beefe40c"
   },
   "outputs": [
    {
     "name": "stdout",
     "output_type": "stream",
     "text": [
      "['i', 'me', 'my', 'myself', 'we', 'our', 'ours', 'ourselves', 'you', \"you're\", \"you've\", \"you'll\", \"you'd\", 'your', 'yours', 'yourself', 'yourselves', 'he', 'him', 'his', 'himself', 'she', \"she's\", 'her', 'hers', 'herself', 'it', \"it's\", 'its', 'itself', 'they', 'them', 'their', 'theirs', 'themselves', 'what', 'which', 'who', 'whom', 'this', 'that', \"that'll\", 'these', 'those', 'am', 'is', 'are', 'was', 'were', 'be', 'been', 'being', 'have', 'has', 'had', 'having', 'do', 'does', 'did', 'doing', 'a', 'an', 'the', 'and', 'but', 'if', 'or', 'because', 'as', 'until', 'while', 'of', 'at', 'by', 'for', 'with', 'about', 'against', 'between', 'into', 'through', 'during', 'before', 'after', 'above', 'below', 'to', 'from', 'up', 'down', 'in', 'out', 'on', 'off', 'over', 'under', 'again', 'further', 'then', 'once', 'here', 'there', 'when', 'where', 'why', 'how', 'all', 'any', 'both', 'each', 'few', 'more', 'most', 'other', 'some', 'such', 'no', 'nor', 'not', 'only', 'own', 'same', 'so', 'than', 'too', 'very', 's', 't', 'can', 'will', 'just', 'don', \"don't\", 'should', \"should've\", 'now', 'd', 'll', 'm', 'o', 're', 've', 'y', 'ain', 'aren', \"aren't\", 'couldn', \"couldn't\", 'didn', \"didn't\", 'doesn', \"doesn't\", 'hadn', \"hadn't\", 'hasn', \"hasn't\", 'haven', \"haven't\", 'isn', \"isn't\", 'ma', 'mightn', \"mightn't\", 'mustn', \"mustn't\", 'needn', \"needn't\", 'shan', \"shan't\", 'shouldn', \"shouldn't\", 'wasn', \"wasn't\", 'weren', \"weren't\", 'won', \"won't\", 'wouldn', \"wouldn't\"]\n"
     ]
    }
   ],
   "source": [
    "import nltk\n",
    "\n",
    "from nltk.corpus import stopwords\n",
    "print(stopwords.words('english'))"
   ]
  },
  {
   "cell_type": "code",
   "execution_count": 21,
   "id": "442a8b79",
   "metadata": {
    "colab": {
     "base_uri": "https://localhost:8080/"
    },
    "id": "442a8b79",
    "outputId": "fb27819b-8316-46d9-bd29-cf29be489cac"
   },
   "outputs": [
    {
     "name": "stdout",
     "output_type": "stream",
     "text": [
      "['arabic', 'azerbaijani', 'bengali', 'danish', 'dutch', 'english', 'finnish', 'french', 'german', 'greek', 'hungarian', 'indonesian', 'italian', 'kazakh', 'nepali', 'norwegian', 'portuguese', 'romanian', 'russian', 'slovene', 'spanish', 'swedish', 'tajik', 'turkish']\n"
     ]
    }
   ],
   "source": [
    "print(stopwords.fileids())"
   ]
  },
  {
   "cell_type": "code",
   "execution_count": 22,
   "id": "43a2657c",
   "metadata": {
    "colab": {
     "base_uri": "https://localhost:8080/"
    },
    "id": "43a2657c",
    "outputId": "4255183a-6ecc-43d0-f2d5-7d5335f4a34c"
   },
   "outputs": [
    {
     "name": "stdout",
     "output_type": "stream",
     "text": [
      "['I', 'go', 'to', 'the', 'grocery', 'store', 'to', 'get', 'tomatoes', 'and', 'apples']\n",
      "['I', 'go', 'grocery', 'store', 'get', 'tomatoes', 'apples']\n"
     ]
    }
   ],
   "source": [
    "from nltk.corpus import stopwords\n",
    "from nltk.tokenize import word_tokenize\n",
    "\n",
    "example_sent = \"\"\"I go to the grocery store to get tomatoes and apples\"\"\"\n",
    "  \n",
    "stop_words = set(stopwords.words('english'))\n",
    "  \n",
    "word_tokens = word_tokenize(example_sent)\n",
    "  \n",
    "filtered_sentence = [w for w in word_tokens if not w.lower() in stop_words]\n",
    "  \n",
    "filtered_sentence = []\n",
    "  \n",
    "for w in word_tokens:\n",
    "    if w not in stop_words:\n",
    "        filtered_sentence.append(w)\n",
    "        \n",
    "print(word_tokens)\n",
    "print(filtered_sentence)"
   ]
  },
  {
   "cell_type": "markdown",
   "id": "4762dec7",
   "metadata": {
    "id": "4762dec7"
   },
   "source": [
    "# Stemming"
   ]
  },
  {
   "cell_type": "code",
   "execution_count": 23,
   "id": "11d080af",
   "metadata": {
    "colab": {
     "base_uri": "https://localhost:8080/"
    },
    "id": "11d080af",
    "outputId": "88f08f59-19ab-4810-c2aa-b1fb7e4f73a6"
   },
   "outputs": [
    {
     "name": "stdout",
     "output_type": "stream",
     "text": [
      "wait\n",
      "wait\n",
      "wait\n",
      "wait\n"
     ]
    }
   ],
   "source": [
    "from nltk.stem import PorterStemmer\n",
    "from nltk.stem import LancasterStemmer\n",
    "e_words= [\"wait\", \"waiting\", \"waited\", \"waits\"]\n",
    "porter =PorterStemmer()\n",
    "for w in e_words:\n",
    "    rootWord=porter.stem(w)\n",
    "    print(rootWord)"
   ]
  },
  {
   "cell_type": "code",
   "execution_count": 24,
   "id": "2c161692",
   "metadata": {
    "colab": {
     "base_uri": "https://localhost:8080/"
    },
    "id": "2c161692",
    "outputId": "8e96f581-321e-431e-e269-4f55f233463a"
   },
   "outputs": [
    {
     "name": "stdout",
     "output_type": "stream",
     "text": [
      "the\n",
      "witcher\n",
      "halt\n",
      "at\n",
      "a\n",
      "distanc\n",
      "of\n",
      "ten\n",
      "pace\n",
      ".\n",
      "hi\n",
      "sword\n",
      ",\n",
      "slowli\n",
      "drawn\n",
      "from\n",
      "it\n",
      "black\n",
      "enamel\n",
      "sheath\n",
      ",\n",
      "glisten\n",
      "and\n",
      "glow\n",
      "abov\n",
      "hi\n",
      "head\n",
      ".\n"
     ]
    }
   ],
   "source": [
    "from nltk.tokenize import sent_tokenize, word_tokenize\n",
    "sentence=\"The witcher halted at a distance of ten paces.  His sword, slowly drawn from its black enameled sheath, glistened and glowed above his head. \"\n",
    "words = word_tokenize(sentence)\n",
    "for w in words:\n",
    "    rootWord=porter.stem(w)\n",
    "    print(rootWord)"
   ]
  },
  {
   "cell_type": "code",
   "execution_count": 25,
   "id": "bc7aa6e7",
   "metadata": {
    "colab": {
     "base_uri": "https://localhost:8080/"
    },
    "id": "bc7aa6e7",
    "outputId": "fc70d989-bdae-4009-f9e3-213ebbe8f40b"
   },
   "outputs": [
    {
     "name": "stdout",
     "output_type": "stream",
     "text": [
      "Word                Porter Stemmer      lancaster Stemmer   \n",
      "friend              friend              friend              \n",
      "friendship          friendship          friend              \n",
      "friends             friend              friend              \n",
      "friendships         friendship          friend              \n",
      "stabil              stabil              stabl               \n",
      "destabilize         destabil            dest                \n",
      "misunderstanding    misunderstand       misunderstand       \n",
      "railroad            railroad            railroad            \n",
      "moonlight           moonlight           moonlight           \n",
      "football            footbal             footbal             \n"
     ]
    }
   ],
   "source": [
    "#A list of words to be stemmed\n",
    "lancaster = LancasterStemmer()\n",
    "word_list = [\"friend\", \"friendship\", \"friends\", \"friendships\",\"stabil\",\"destabilize\",\"misunderstanding\",\"railroad\",\"moonlight\",\"football\"]\n",
    "print(\"{0:20}{1:20}{2:20}\".format(\"Word\",\"Porter Stemmer\",\"lancaster Stemmer\"))\n",
    "for word in word_list:\n",
    "    print(\"{0:20}{1:20}{2:20}\".format(word,porter.stem(word),lancaster.stem(word)))"
   ]
  },
  {
   "cell_type": "code",
   "execution_count": 26,
   "id": "815d0bcc",
   "metadata": {
    "colab": {
     "base_uri": "https://localhost:8080/"
    },
    "id": "815d0bcc",
    "outputId": "adee9506-7fd0-4639-d430-4c7b39ff5f19"
   },
   "outputs": [
    {
     "name": "stdout",
     "output_type": "stream",
     "text": [
      "Stemming for studies is studi\n",
      "Stemming for studying is studi\n",
      "Stemming for cries is cri\n",
      "Stemming for cry is cri\n"
     ]
    }
   ],
   "source": [
    "text = \"studies studying cries cry\"\n",
    "tokenization = nltk.word_tokenize(text)\n",
    "for w in tokenization:\n",
    "    print(\"Stemming for {} is {}\".format(w,porter.stem(w)))  "
   ]
  },
  {
   "cell_type": "markdown",
   "id": "0b5f4a62",
   "metadata": {
    "id": "0b5f4a62"
   },
   "source": [
    "# Lemmatization"
   ]
  },
  {
   "cell_type": "code",
   "execution_count": 27,
   "id": "JybUFh3cISOE",
   "metadata": {
    "colab": {
     "base_uri": "https://localhost:8080/"
    },
    "id": "JybUFh3cISOE",
    "outputId": "7e16908e-48ef-445e-af27-46b455304039"
   },
   "outputs": [
    {
     "name": "stderr",
     "output_type": "stream",
     "text": [
      "[nltk_data] Downloading package wordnet to /root/nltk_data...\n",
      "[nltk_data]   Package wordnet is already up-to-date!\n",
      "[nltk_data] Downloading package omw-1.4 to /root/nltk_data...\n",
      "[nltk_data]   Package omw-1.4 is already up-to-date!\n"
     ]
    },
    {
     "data": {
      "text/plain": [
       "True"
      ]
     },
     "execution_count": 27,
     "metadata": {},
     "output_type": "execute_result"
    }
   ],
   "source": [
    "nltk.download('wordnet')\n",
    "nltk.download('omw-1.4')"
   ]
  },
  {
   "cell_type": "code",
   "execution_count": 28,
   "id": "13faa1b4",
   "metadata": {
    "colab": {
     "base_uri": "https://localhost:8080/"
    },
    "id": "13faa1b4",
    "outputId": "d142403a-40bd-47b3-b632-278f91322cb7"
   },
   "outputs": [
    {
     "name": "stdout",
     "output_type": "stream",
     "text": [
      "Lemma for studies is study\n",
      "Lemma for studying is studying\n",
      "Lemma for cries is cry\n",
      "Lemma for cry is cry\n"
     ]
    }
   ],
   "source": [
    "from nltk.stem import WordNetLemmatizer\n",
    "wordnet_lemmatizer = WordNetLemmatizer()\n",
    "text = \"studies studying cries cry\"\n",
    "tokenization = nltk.word_tokenize(text)\n",
    "for w in tokenization:\n",
    "    print(\"Lemma for {} is {}\".format(w, wordnet_lemmatizer.lemmatize(w)))  "
   ]
  },
  {
   "cell_type": "code",
   "execution_count": 29,
   "id": "0623e2de",
   "metadata": {
    "colab": {
     "base_uri": "https://localhost:8080/"
    },
    "id": "0623e2de",
    "outputId": "4f025dd1-59f8-4eeb-aa43-2e16e6117923"
   },
   "outputs": [
    {
     "name": "stdout",
     "output_type": "stream",
     "text": [
      "Word                Lemma               \n",
      "He                  He                  \n",
      "was                 wa                  \n",
      "running             running             \n",
      "and                 and                 \n",
      "eating              eating              \n",
      "at                  at                  \n",
      "same                same                \n",
      "time                time                \n",
      "He                  He                  \n",
      "has                 ha                  \n",
      "bad                 bad                 \n",
      "habit               habit               \n",
      "of                  of                  \n",
      "swimming            swimming            \n",
      "after               after               \n",
      "playing             playing             \n",
      "long                long                \n",
      "hours               hour                \n",
      "in                  in                  \n",
      "the                 the                 \n",
      "Sun                 Sun                 \n"
     ]
    }
   ],
   "source": [
    "from nltk.stem import WordNetLemmatizer\n",
    "wordnet_lemmatizer = WordNetLemmatizer()\n",
    "\n",
    "sentence = \"He was running and eating at same time. He has bad habit of swimming after playing long hours in the Sun.\"\n",
    "punctuations=\"?:!.,;\"\n",
    "sentence_words = nltk.word_tokenize(sentence)\n",
    "for word in sentence_words:\n",
    "    if word in punctuations:\n",
    "        sentence_words.remove(word)\n",
    "\n",
    "\n",
    "print(\"{0:20}{1:20}\".format(\"Word\",\"Lemma\"))\n",
    "for word in sentence_words:\n",
    "    print (\"{0:20}{1:20}\".format(word,wordnet_lemmatizer.lemmatize(word)))"
   ]
  },
  {
   "cell_type": "code",
   "execution_count": 30,
   "id": "a017ff7f",
   "metadata": {
    "colab": {
     "base_uri": "https://localhost:8080/"
    },
    "id": "a017ff7f",
    "outputId": "910d4be1-b61a-4acd-ca5b-4f602ae7997e"
   },
   "outputs": [
    {
     "name": "stdout",
     "output_type": "stream",
     "text": [
      "Orginal             Part of Speech tag set to Verb     Part of Speech tag set to Noun     \n",
      "He                  He                                 He                                 \n",
      "was                 be                                 wa                                 \n",
      "running             run                                running                            \n",
      "and                 and                                and                                \n",
      "eating              eat                                eating                             \n",
      "at                  at                                 at                                 \n",
      "same                same                               same                               \n",
      "time                time                               time                               \n",
      "He                  He                                 He                                 \n",
      "has                 have                               ha                                 \n",
      "bad                 bad                                bad                                \n",
      "habit               habit                              habit                              \n",
      "of                  of                                 of                                 \n",
      "swimming            swim                               swimming                           \n",
      "after               after                              after                              \n",
      "playing             play                               playing                            \n",
      "long                long                               long                               \n",
      "hours               hours                              hour                               \n",
      "in                  in                                 in                                 \n",
      "the                 the                                the                                \n",
      "Sun                 Sun                                Sun                                \n"
     ]
    }
   ],
   "source": [
    "print(\"{0:20}{1:35}{2:35}\".format(\"Orginal\",\"Part of Speech tag set to Verb\",\"Part of Speech tag set to Noun\"))\n",
    "for word in sentence_words:\n",
    "    print (\"{0:20}{1:35}{2:35}\".format(word,wordnet_lemmatizer.lemmatize(word, pos=\"v\"), wordnet_lemmatizer.lemmatize(word, pos=\"n\")))"
   ]
  },
  {
   "cell_type": "code",
   "execution_count": 31,
   "id": "rpU8JHV8IZWe",
   "metadata": {
    "colab": {
     "base_uri": "https://localhost:8080/"
    },
    "id": "rpU8JHV8IZWe",
    "outputId": "026dfd42-db51-449e-e51f-d196de456ad8"
   },
   "outputs": [
    {
     "name": "stderr",
     "output_type": "stream",
     "text": [
      "[nltk_data] Downloading package averaged_perceptron_tagger to\n",
      "[nltk_data]     /root/nltk_data...\n",
      "[nltk_data]   Package averaged_perceptron_tagger is already up-to-\n",
      "[nltk_data]       date!\n"
     ]
    },
    {
     "data": {
      "text/plain": [
       "True"
      ]
     },
     "execution_count": 31,
     "metadata": {},
     "output_type": "execute_result"
    }
   ],
   "source": [
    "nltk.download('averaged_perceptron_tagger')"
   ]
  },
  {
   "cell_type": "code",
   "execution_count": 32,
   "id": "88aff160",
   "metadata": {
    "colab": {
     "base_uri": "https://localhost:8080/"
    },
    "id": "88aff160",
    "outputId": "bde2b931-6f02-4b6c-c729-2eb892f3ee7f"
   },
   "outputs": [
    {
     "name": "stdout",
     "output_type": "stream",
     "text": [
      "He => He\n",
      "was => be\n",
      "running => run\n",
      "and => and\n",
      "eating => eat\n",
      "at => at\n",
      "same => same\n",
      "time => time\n",
      ". => .\n",
      "He => He\n",
      "has => have\n",
      "bad => bad\n",
      "habit => habit\n",
      "of => of\n",
      "swimming => swimming\n",
      "after => after\n",
      "playing => play\n",
      "long => long\n",
      "hours => hour\n",
      "in => in\n",
      "the => the\n",
      "Sun => Sun\n",
      ". => .\n"
     ]
    }
   ],
   "source": [
    "from nltk.corpus import wordnet as wn\n",
    "from nltk.stem.wordnet import WordNetLemmatizer\n",
    "from nltk import word_tokenize, pos_tag\n",
    "from collections import defaultdict\n",
    "tag_map = defaultdict(lambda : wn.NOUN)\n",
    "tag_map['J'] = wn.ADJ\n",
    "tag_map['V'] = wn.VERB\n",
    "tag_map['R'] = wn.ADV\n",
    "lemma_function = WordNetLemmatizer()\n",
    "\n",
    "text = \"He was running and eating at same time. He has bad habit of swimming after playing long hours in the Sun.\"\n",
    "tokens = word_tokenize(text)\n",
    "for token, tag in pos_tag(tokens):\n",
    "    lemma = lemma_function.lemmatize(token, tag_map[tag[0]])\n",
    "    print(token, \"=>\", lemma)"
   ]
  },
  {
   "cell_type": "code",
   "execution_count": 33,
   "id": "d0bff2c8",
   "metadata": {
    "colab": {
     "base_uri": "https://localhost:8080/"
    },
    "id": "d0bff2c8",
    "outputId": "43c0f81c-17f8-4a34-c92c-e097faf2e55b"
   },
   "outputs": [
    {
     "name": "stdout",
     "output_type": "stream",
     "text": [
      "The => The\n",
      "witcher => witcher\n",
      "halted => halt\n",
      "at => at\n",
      "a => a\n",
      "distance => distance\n",
      "of => of\n",
      "ten => ten\n",
      "paces => pace\n",
      ". => .\n",
      "His => His\n",
      "sword => sword\n",
      ", => ,\n",
      "slowly => slowly\n",
      "drawn => draw\n",
      "from => from\n",
      "its => it\n",
      "black => black\n",
      "enameled => enameled\n",
      "sheath => sheath\n",
      ", => ,\n",
      "glistened => glisten\n",
      "and => and\n",
      "glowed => glow\n",
      "above => above\n",
      "his => his\n",
      "head => head\n",
      ". => .\n"
     ]
    }
   ],
   "source": [
    "text=\"The witcher halted at a distance of ten paces.  His sword, slowly drawn from its black enameled sheath, glistened and glowed above his head. \"\n",
    "tokens = word_tokenize(text)\n",
    "for token, tag in pos_tag(tokens):\n",
    "    lemma = lemma_function.lemmatize(token, tag_map[tag[0]])\n",
    "    print(token, \"=>\", lemma)"
   ]
  },
  {
   "cell_type": "code",
   "execution_count": 34,
   "id": "b47c77ac",
   "metadata": {
    "colab": {
     "base_uri": "https://localhost:8080/"
    },
    "id": "b47c77ac",
    "outputId": "1cfb11c3-8a0f-4a90-849f-2bf67b050f8a"
   },
   "outputs": [
    {
     "data": {
      "text/plain": [
       "defaultdict(<function __main__.<lambda>>,\n",
       "            {',': 'n',\n",
       "             '.': 'n',\n",
       "             'C': 'n',\n",
       "             'D': 'n',\n",
       "             'I': 'n',\n",
       "             'J': 'a',\n",
       "             'N': 'n',\n",
       "             'P': 'n',\n",
       "             'R': 'r',\n",
       "             'V': 'v'})"
      ]
     },
     "execution_count": 34,
     "metadata": {},
     "output_type": "execute_result"
    }
   ],
   "source": [
    "tag_map"
   ]
  },
  {
   "cell_type": "markdown",
   "id": "7a9e4d0c",
   "metadata": {
    "id": "7a9e4d0c"
   },
   "source": [
    "# Regular Expressions"
   ]
  },
  {
   "cell_type": "code",
   "execution_count": 35,
   "id": "3117277a",
   "metadata": {
    "id": "3117277a"
   },
   "outputs": [],
   "source": [
    "import re"
   ]
  },
  {
   "cell_type": "code",
   "execution_count": 36,
   "id": "074448bf",
   "metadata": {
    "colab": {
     "base_uri": "https://localhost:8080/"
    },
    "id": "074448bf",
    "outputId": "90aa475b-5ddc-45c8-cdd9-4f10069a59fa"
   },
   "outputs": [
    {
     "data": {
      "text/plain": [
       "<re.Match object; span=(0, 3), match='kbt'>"
      ]
     },
     "execution_count": 36,
     "metadata": {},
     "output_type": "execute_result"
    }
   ],
   "source": [
    "re.search(r'k.t', 'kbt')"
   ]
  },
  {
   "cell_type": "code",
   "execution_count": 37,
   "id": "d3c8ae6b",
   "metadata": {
    "colab": {
     "base_uri": "https://localhost:8080/"
    },
    "id": "d3c8ae6b",
    "outputId": "98e416ec-4c9e-4f25-ce93-63c878bc632c"
   },
   "outputs": [
    {
     "data": {
      "text/plain": [
       "<re.Match object; span=(0, 5), match='kottt'>"
      ]
     },
     "execution_count": 37,
     "metadata": {},
     "output_type": "execute_result"
    }
   ],
   "source": [
    "re.search(r'kot+', 'kottt')"
   ]
  },
  {
   "cell_type": "code",
   "execution_count": 38,
   "id": "04cce52a",
   "metadata": {
    "colab": {
     "base_uri": "https://localhost:8080/"
    },
    "id": "04cce52a",
    "outputId": "1e833776-bc85-49fd-9a42-40aadefa2d50"
   },
   "outputs": [
    {
     "data": {
      "text/plain": [
       "<re.Match object; span=(0, 1), match='k'>"
      ]
     },
     "execution_count": 38,
     "metadata": {},
     "output_type": "execute_result"
    }
   ],
   "source": [
    "re.search(r'^k', 'kottt test')"
   ]
  },
  {
   "cell_type": "code",
   "execution_count": 39,
   "id": "709e022d",
   "metadata": {
    "colab": {
     "base_uri": "https://localhost:8080/"
    },
    "id": "709e022d",
    "outputId": "4a58870f-7035-455f-b091-d7b58716c7fb"
   },
   "outputs": [
    {
     "data": {
      "text/plain": [
       "<re.Match object; span=(8, 9), match='t'>"
      ]
     },
     "execution_count": 39,
     "metadata": {},
     "output_type": "execute_result"
    }
   ],
   "source": [
    "re.search(r't$', 'bottttest')"
   ]
  },
  {
   "cell_type": "code",
   "execution_count": 40,
   "id": "cd02a4ee",
   "metadata": {
    "colab": {
     "base_uri": "https://localhost:8080/"
    },
    "id": "cd02a4ee",
    "outputId": "d8dbc6eb-fb5f-492e-8689-9bc2ce4aae29"
   },
   "outputs": [
    {
     "data": {
      "text/plain": [
       "<re.Match object; span=(0, 3), match='kat'>"
      ]
     },
     "execution_count": 40,
     "metadata": {},
     "output_type": "execute_result"
    }
   ],
   "source": [
    "re.search(r'k[oa]t', 'kat')"
   ]
  },
  {
   "cell_type": "code",
   "execution_count": 41,
   "id": "809c731c",
   "metadata": {
    "colab": {
     "base_uri": "https://localhost:8080/"
    },
    "id": "809c731c",
    "outputId": "06d1e5e4-df9e-455b-a686-82caa8d6c541"
   },
   "outputs": [
    {
     "data": {
      "text/plain": [
       "<re.Match object; span=(0, 3), match='kbt'>"
      ]
     },
     "execution_count": 41,
     "metadata": {},
     "output_type": "execute_result"
    }
   ],
   "source": [
    "re.search(r'k[a-d]t', 'kbt')"
   ]
  },
  {
   "cell_type": "code",
   "execution_count": 42,
   "id": "f57dcf93",
   "metadata": {
    "id": "f57dcf93"
   },
   "outputs": [],
   "source": [
    "re.search(r'k[1-4]t', 'k3.3t')"
   ]
  },
  {
   "cell_type": "code",
   "execution_count": 43,
   "id": "4947fe81",
   "metadata": {
    "colab": {
     "base_uri": "https://localhost:8080/"
    },
    "id": "4947fe81",
    "outputId": "777804c4-2ce3-4c0b-eefa-7e725cbacc9d"
   },
   "outputs": [
    {
     "data": {
      "text/plain": [
       "<re.Match object; span=(0, 9), match='bottttest'>"
      ]
     },
     "execution_count": 43,
     "metadata": {},
     "output_type": "execute_result"
    }
   ],
   "source": [
    "re.search(r'.+t\\b', 'bottttest')"
   ]
  },
  {
   "cell_type": "code",
   "execution_count": 44,
   "id": "06c40404",
   "metadata": {
    "colab": {
     "base_uri": "https://localhost:8080/"
    },
    "id": "06c40404",
    "outputId": "ff7264ff-2fef-41ef-e3f6-74fe4b1b5298"
   },
   "outputs": [
    {
     "data": {
      "text/plain": [
       "<re.Match object; span=(0, 2), match='20'>"
      ]
     },
     "execution_count": 44,
     "metadata": {},
     "output_type": "execute_result"
    }
   ],
   "source": [
    "re.search(r'\\d\\d', '20')"
   ]
  },
  {
   "cell_type": "code",
   "execution_count": 45,
   "id": "477e909e",
   "metadata": {
    "colab": {
     "base_uri": "https://localhost:8080/"
    },
    "id": "477e909e",
    "outputId": "83f7d31f-af93-49a6-98e0-47269c4ec848"
   },
   "outputs": [
    {
     "data": {
      "text/plain": [
       "<re.Match object; span=(0, 3), match='k t'>"
      ]
     },
     "execution_count": 45,
     "metadata": {},
     "output_type": "execute_result"
    }
   ],
   "source": [
    "re.search(r'k\\st', 'k t')"
   ]
  },
  {
   "cell_type": "code",
   "execution_count": 46,
   "id": "ed76e33f",
   "metadata": {
    "id": "ed76e33f"
   },
   "outputs": [],
   "source": [
    "re.search(r'k\\St', 'k t')"
   ]
  },
  {
   "cell_type": "markdown",
   "id": "4f13d6b9",
   "metadata": {
    "id": "4f13d6b9"
   },
   "source": [
    "# Word Terms Disambiguation"
   ]
  },
  {
   "cell_type": "code",
   "execution_count": 47,
   "id": "536ce30e",
   "metadata": {
    "colab": {
     "base_uri": "https://localhost:8080/"
    },
    "id": "536ce30e",
    "outputId": "0e9e2d3c-3e68-44cf-8433-7a680bec559b"
   },
   "outputs": [
    {
     "name": "stdout",
     "output_type": "stream",
     "text": [
      "Synset('jamming.n.01') deliberate radiation or reflection of electromagnetic energy for the purpose of disrupting enemy use of electronic devices or systems\n"
     ]
    }
   ],
   "source": [
    "from nltk.wsd import lesk\n",
    "from nltk.tokenize import word_tokenize\n",
    "a1= lesk(word_tokenize('This device is used to jam the signal'),'jam')\n",
    "print(a1,a1.definition())"
   ]
  },
  {
   "cell_type": "code",
   "execution_count": 48,
   "id": "eea4de5d",
   "metadata": {
    "colab": {
     "base_uri": "https://localhost:8080/"
    },
    "id": "eea4de5d",
    "outputId": "dcc3d7e0-9f72-40bc-9cc1-b3e35fa1a98a"
   },
   "outputs": [
    {
     "name": "stdout",
     "output_type": "stream",
     "text": [
      "Synset('jam.v.05') get stuck and immobilized\n"
     ]
    }
   ],
   "source": [
    "a2 = lesk(word_tokenize('I am stuck in a traffic jam'),'jam')\n",
    "print(a2,a2.definition())"
   ]
  },
  {
   "cell_type": "code",
   "execution_count": 49,
   "id": "bb027d30",
   "metadata": {
    "colab": {
     "base_uri": "https://localhost:8080/"
    },
    "id": "bb027d30",
    "outputId": "2f83fd0e-87e3-4437-e468-be5c1b3c6d40"
   },
   "outputs": [
    {
     "name": "stdout",
     "output_type": "stream",
     "text": [
      "Synset('stream.n.02') dominant course (suggestive of running water) of successive events or ideas\n"
     ]
    }
   ],
   "source": [
    "c1= lesk(word_tokenize('Water current'),'current')\n",
    "print(c1,c1.definition())"
   ]
  },
  {
   "cell_type": "code",
   "execution_count": 50,
   "id": "f79567d4",
   "metadata": {
    "colab": {
     "base_uri": "https://localhost:8080/"
    },
    "id": "f79567d4",
    "outputId": "828cfeef-1191-4b46-d051-dda0a153f2d8"
   },
   "outputs": [
    {
     "name": "stdout",
     "output_type": "stream",
     "text": [
      "Synset('current.a.01') occurring in or belonging to the present time\n"
     ]
    }
   ],
   "source": [
    "c1= lesk(word_tokenize('The current time is 2 AM'),'current')\n",
    "print(c1,c1.definition())"
   ]
  },
  {
   "cell_type": "markdown",
   "id": "4b472d0e",
   "metadata": {
    "id": "4b472d0e"
   },
   "source": [
    "## Spacy "
   ]
  },
  {
   "cell_type": "code",
   "execution_count": 51,
   "id": "e9f4ce73",
   "metadata": {
    "id": "e9f4ce73"
   },
   "outputs": [],
   "source": [
    "import spacy as spacy"
   ]
  },
  {
   "cell_type": "code",
   "execution_count": 52,
   "id": "67a52ca5",
   "metadata": {
    "colab": {
     "base_uri": "https://localhost:8080/"
    },
    "id": "67a52ca5",
    "outputId": "ceb17e10-c825-481d-eff0-e79ce6607f6e"
   },
   "outputs": [
    {
     "name": "stdout",
     "output_type": "stream",
     "text": [
      "Looking in indexes: https://pypi.org/simple, https://us-python.pkg.dev/colab-wheels/public/simple/\n",
      "Collecting en-core-web-sm==3.3.0\n",
      "  Downloading https://github.com/explosion/spacy-models/releases/download/en_core_web_sm-3.3.0/en_core_web_sm-3.3.0-py3-none-any.whl (12.8 MB)\n",
      "\u001b[K     |████████████████████████████████| 12.8 MB 5.3 MB/s \n",
      "\u001b[?25hRequirement already satisfied: spacy<3.4.0,>=3.3.0.dev0 in /usr/local/lib/python3.7/dist-packages (from en-core-web-sm==3.3.0) (3.3.1)\n",
      "Requirement already satisfied: setuptools in /usr/local/lib/python3.7/dist-packages (from spacy<3.4.0,>=3.3.0.dev0->en-core-web-sm==3.3.0) (57.4.0)\n",
      "Requirement already satisfied: langcodes<4.0.0,>=3.2.0 in /usr/local/lib/python3.7/dist-packages (from spacy<3.4.0,>=3.3.0.dev0->en-core-web-sm==3.3.0) (3.3.0)\n",
      "Requirement already satisfied: packaging>=20.0 in /usr/local/lib/python3.7/dist-packages (from spacy<3.4.0,>=3.3.0.dev0->en-core-web-sm==3.3.0) (21.3)\n",
      "Requirement already satisfied: pydantic!=1.8,!=1.8.1,<1.9.0,>=1.7.4 in /usr/local/lib/python3.7/dist-packages (from spacy<3.4.0,>=3.3.0.dev0->en-core-web-sm==3.3.0) (1.8.2)\n",
      "Requirement already satisfied: tqdm<5.0.0,>=4.38.0 in /usr/local/lib/python3.7/dist-packages (from spacy<3.4.0,>=3.3.0.dev0->en-core-web-sm==3.3.0) (4.64.0)\n",
      "Requirement already satisfied: typing-extensions<4.2.0,>=3.7.4 in /usr/local/lib/python3.7/dist-packages (from spacy<3.4.0,>=3.3.0.dev0->en-core-web-sm==3.3.0) (4.1.1)\n",
      "Requirement already satisfied: jinja2 in /usr/local/lib/python3.7/dist-packages (from spacy<3.4.0,>=3.3.0.dev0->en-core-web-sm==3.3.0) (2.11.3)\n",
      "Requirement already satisfied: catalogue<2.1.0,>=2.0.6 in /usr/local/lib/python3.7/dist-packages (from spacy<3.4.0,>=3.3.0.dev0->en-core-web-sm==3.3.0) (2.0.7)\n",
      "Requirement already satisfied: thinc<8.1.0,>=8.0.14 in /usr/local/lib/python3.7/dist-packages (from spacy<3.4.0,>=3.3.0.dev0->en-core-web-sm==3.3.0) (8.0.17)\n",
      "Requirement already satisfied: requests<3.0.0,>=2.13.0 in /usr/local/lib/python3.7/dist-packages (from spacy<3.4.0,>=3.3.0.dev0->en-core-web-sm==3.3.0) (2.23.0)\n",
      "Requirement already satisfied: wasabi<1.1.0,>=0.9.1 in /usr/local/lib/python3.7/dist-packages (from spacy<3.4.0,>=3.3.0.dev0->en-core-web-sm==3.3.0) (0.9.1)\n",
      "Requirement already satisfied: numpy>=1.15.0 in /usr/local/lib/python3.7/dist-packages (from spacy<3.4.0,>=3.3.0.dev0->en-core-web-sm==3.3.0) (1.21.6)\n",
      "Requirement already satisfied: pathy>=0.3.5 in /usr/local/lib/python3.7/dist-packages (from spacy<3.4.0,>=3.3.0.dev0->en-core-web-sm==3.3.0) (0.6.1)\n",
      "Requirement already satisfied: preshed<3.1.0,>=3.0.2 in /usr/local/lib/python3.7/dist-packages (from spacy<3.4.0,>=3.3.0.dev0->en-core-web-sm==3.3.0) (3.0.6)\n",
      "Requirement already satisfied: spacy-loggers<2.0.0,>=1.0.0 in /usr/local/lib/python3.7/dist-packages (from spacy<3.4.0,>=3.3.0.dev0->en-core-web-sm==3.3.0) (1.0.2)\n",
      "Requirement already satisfied: typer<0.5.0,>=0.3.0 in /usr/local/lib/python3.7/dist-packages (from spacy<3.4.0,>=3.3.0.dev0->en-core-web-sm==3.3.0) (0.4.1)\n",
      "Requirement already satisfied: spacy-legacy<3.1.0,>=3.0.9 in /usr/local/lib/python3.7/dist-packages (from spacy<3.4.0,>=3.3.0.dev0->en-core-web-sm==3.3.0) (3.0.9)\n",
      "Requirement already satisfied: cymem<2.1.0,>=2.0.2 in /usr/local/lib/python3.7/dist-packages (from spacy<3.4.0,>=3.3.0.dev0->en-core-web-sm==3.3.0) (2.0.6)\n",
      "Requirement already satisfied: blis<0.8.0,>=0.4.0 in /usr/local/lib/python3.7/dist-packages (from spacy<3.4.0,>=3.3.0.dev0->en-core-web-sm==3.3.0) (0.7.7)\n",
      "Requirement already satisfied: srsly<3.0.0,>=2.4.3 in /usr/local/lib/python3.7/dist-packages (from spacy<3.4.0,>=3.3.0.dev0->en-core-web-sm==3.3.0) (2.4.3)\n",
      "Requirement already satisfied: murmurhash<1.1.0,>=0.28.0 in /usr/local/lib/python3.7/dist-packages (from spacy<3.4.0,>=3.3.0.dev0->en-core-web-sm==3.3.0) (1.0.7)\n",
      "Requirement already satisfied: zipp>=0.5 in /usr/local/lib/python3.7/dist-packages (from catalogue<2.1.0,>=2.0.6->spacy<3.4.0,>=3.3.0.dev0->en-core-web-sm==3.3.0) (3.8.0)\n",
      "Requirement already satisfied: pyparsing!=3.0.5,>=2.0.2 in /usr/local/lib/python3.7/dist-packages (from packaging>=20.0->spacy<3.4.0,>=3.3.0.dev0->en-core-web-sm==3.3.0) (3.0.9)\n",
      "Requirement already satisfied: smart-open<6.0.0,>=5.0.0 in /usr/local/lib/python3.7/dist-packages (from pathy>=0.3.5->spacy<3.4.0,>=3.3.0.dev0->en-core-web-sm==3.3.0) (5.2.1)\n",
      "Requirement already satisfied: idna<3,>=2.5 in /usr/local/lib/python3.7/dist-packages (from requests<3.0.0,>=2.13.0->spacy<3.4.0,>=3.3.0.dev0->en-core-web-sm==3.3.0) (2.10)\n",
      "Requirement already satisfied: chardet<4,>=3.0.2 in /usr/local/lib/python3.7/dist-packages (from requests<3.0.0,>=2.13.0->spacy<3.4.0,>=3.3.0.dev0->en-core-web-sm==3.3.0) (3.0.4)\n",
      "Requirement already satisfied: certifi>=2017.4.17 in /usr/local/lib/python3.7/dist-packages (from requests<3.0.0,>=2.13.0->spacy<3.4.0,>=3.3.0.dev0->en-core-web-sm==3.3.0) (2022.6.15)\n",
      "Requirement already satisfied: urllib3!=1.25.0,!=1.25.1,<1.26,>=1.21.1 in /usr/local/lib/python3.7/dist-packages (from requests<3.0.0,>=2.13.0->spacy<3.4.0,>=3.3.0.dev0->en-core-web-sm==3.3.0) (1.24.3)\n",
      "Requirement already satisfied: click<9.0.0,>=7.1.1 in /usr/local/lib/python3.7/dist-packages (from typer<0.5.0,>=0.3.0->spacy<3.4.0,>=3.3.0.dev0->en-core-web-sm==3.3.0) (7.1.2)\n",
      "Requirement already satisfied: MarkupSafe>=0.23 in /usr/local/lib/python3.7/dist-packages (from jinja2->spacy<3.4.0,>=3.3.0.dev0->en-core-web-sm==3.3.0) (2.0.1)\n",
      "\u001b[38;5;2m✔ Download and installation successful\u001b[0m\n",
      "You can now load the package via spacy.load('en_core_web_sm')\n"
     ]
    }
   ],
   "source": [
    "!spacy download en_core_web_sm"
   ]
  },
  {
   "cell_type": "code",
   "execution_count": 53,
   "id": "dbde633e",
   "metadata": {
    "id": "dbde633e"
   },
   "outputs": [],
   "source": [
    "nlp = spacy.load(\"en_core_web_sm\")"
   ]
  },
  {
   "cell_type": "code",
   "execution_count": 54,
   "id": "598e378e",
   "metadata": {
    "id": "598e378e"
   },
   "outputs": [],
   "source": [
    "text1 = ('''\n",
    "The witcher halted at a distance of ten paces.  His sword, slowly drawn from its black enameled sheath, glistened and glowed above his head.\n",
    "“It’s silver,” he said.  “This blade is silver.”\n",
    "The pale little face did not flinch; the anthracite eyes did not change expression.\n",
    "“You’re so like a rusalka, “the witcher continued calmly, “that you could deceive anyone.  All the more as you’re a rare bird, black-haired one.  But horses are never mistaken.  They recognize creatures like you instinctively and perfectly.  What are you?  I think you’re a moola, or an alpor.  An ordinary vampire couldn’t come out in the sun.”\n",
    "The corners of the pale lips quivered and turned up a little.\n",
    "''')"
   ]
  },
  {
   "cell_type": "code",
   "execution_count": 55,
   "id": "8079e33c",
   "metadata": {
    "id": "8079e33c"
   },
   "outputs": [],
   "source": [
    "doc = nlp(text1)"
   ]
  },
  {
   "cell_type": "code",
   "execution_count": 56,
   "id": "3c0b6f3f",
   "metadata": {
    "colab": {
     "base_uri": "https://localhost:8080/"
    },
    "id": "3c0b6f3f",
    "outputId": "d64e55f2-f9c8-4604-fbf9-c4aedc08a505"
   },
   "outputs": [
    {
     "name": "stdout",
     "output_type": "stream",
     "text": [
      "Noun phrases: ['The witcher', 'a distance', 'ten paces', 'His sword', 'its black enameled sheath', 'his head', 'It', 'silver', 'he', 'This blade', 'silver', 'The pale little face', 'the anthracite eyes', 'expression', 'You', 'a rusalka', 'you', 'anyone', 'you', 'a rare bird', 'horses', 'They', 'creatures', 'you', 'What', 'you', 'I', 'you', 'a moola', 'an alpor', 'An ordinary vampire', 'the sun', 'The corners', 'the pale lips']\n",
      "Verbes: ['halt', 'draw', 'enamel', 'glow', '’', 'say', 'flinch', 'change', '’re', 'continue', 'deceive', '’re', 'mistake', 'recognize', 'think', '’re', 'come', 'quiver', 'turn']\n"
     ]
    }
   ],
   "source": [
    "print(f\"Noun phrases: {[chunk.text for chunk in doc.noun_chunks]}\")\n",
    "print(f\"Verbes: {[token.lemma_ for token in doc if token.pos_ == 'VERB']}\")"
   ]
  },
  {
   "cell_type": "code",
   "execution_count": 57,
   "id": "d1faa5df",
   "metadata": {
    "id": "d1faa5df"
   },
   "outputs": [],
   "source": [
    "text2 = ('''\n",
    "Born and raised in the Austrian Empire, Tesla studied engineering and physics in the 1870s without receiving a \n",
    "degree, gaining practical experience in the early 1880s working in telephony and at Continental Edison in the \n",
    "new electric power industry. In 1884 he emigrated to the United States, where he became a naturalized citizen. \n",
    "He worked for a short time at the Edison Machine Works in New York City before he struck out on his own. \n",
    "With the help of partners to finance and market his ideas, Tesla set up laboratories and companies in \n",
    "New York to develop a range of electrical and mechanical devices. His alternating current (AC) induction \n",
    "motor and related polyphase AC patents, licensed by Westinghouse Electric in 1888, earned him a considerable \n",
    "amount of money and became the cornerstone of the polyphase system which that company eventually marketed.\n",
    "''')"
   ]
  },
  {
   "cell_type": "code",
   "execution_count": 58,
   "id": "4f7e4e86",
   "metadata": {
    "colab": {
     "base_uri": "https://localhost:8080/"
    },
    "id": "4f7e4e86",
    "outputId": "b3af44f7-b465-4d41-d02f-6acbc5a3ed2a"
   },
   "outputs": [
    {
     "name": "stdout",
     "output_type": "stream",
     "text": [
      "the Austrian Empire 384\n",
      "Tesla 383\n",
      "the 1870s 391\n",
      "the early 1880s 391\n",
      "Continental Edison 383\n",
      "1884 391\n",
      "the United States 384\n",
      "the Edison Machine Works 383\n",
      "New York City 384\n",
      "Tesla 383\n",
      "New York 384\n",
      "AC 383\n",
      "AC 383\n",
      "Westinghouse Electric 383\n",
      "1888 391\n"
     ]
    }
   ],
   "source": [
    "doc = nlp(text2)\n",
    "for entity in doc.ents:\n",
    "    print(entity.text, entity.label)"
   ]
  },
  {
   "cell_type": "markdown",
   "id": "29a9c987",
   "metadata": {
    "id": "29a9c987"
   },
   "source": [
    "## TF-IDF"
   ]
  },
  {
   "cell_type": "code",
   "execution_count": 59,
   "id": "331d4b9e",
   "metadata": {
    "id": "331d4b9e"
   },
   "outputs": [],
   "source": [
    "import nltk"
   ]
  },
  {
   "cell_type": "code",
   "execution_count": 60,
   "id": "b0766b53",
   "metadata": {
    "id": "b0766b53"
   },
   "outputs": [],
   "source": [
    "text3 = ('''\n",
    "The huge black eyes narrowed.\n",
    "“Where is he, black-haired one?  You were singing, so you’ve drunk some blood.  You’ve taken the ultimate measure, which means you haven’t managed to enslave his mind.  Am I right?”\n",
    "The black-tressed head nodded slightly, almost imperceptibility, and the corners of the mouth turned up even more.  The tiny little face took on an eerie expression.\n",
    "“No doubt you consider yourself the lady of this castle now?”\n",
    "A nod, this time clearer.\n",
    "“Are you a moola?”\n",
    "A slow shake of the head.  The hiss which reverberated through his bones could only have come from the pale, ghastly, smiling lips, although the witcher didn’t see them move.\n",
    "“Alpor?”\n",
    "Denial.\n",
    "The witcher backed away and clasped the hilt of his sword tighter.  “That means you’re-”\n",
    "The corners of the lips started to turn up higher and higher, the lips flew open…\n",
    "“A bruxa!” The witcher shouted, throwing himself towards the fountain.\n",
    "From behind the pale lips glistened white, spiky fangs.  The vampire jumped up, arched her back like a leopard and screamed.\n",
    "''')"
   ]
  },
  {
   "cell_type": "code",
   "execution_count": 61,
   "id": "121d95b7",
   "metadata": {
    "colab": {
     "base_uri": "https://localhost:8080/"
    },
    "id": "121d95b7",
    "outputId": "761def58-beec-47c5-acc9-293ea7d88214"
   },
   "outputs": [
    {
     "name": "stdout",
     "output_type": "stream",
     "text": [
      "For word 'rusalka' TF Score for text1: 0.007519, IDF Score: 1.099, TF-IDF Score for text1:0.00826\n",
      "For word 'witcher' TF Score for text1: 0.01504, IDF Score: 0.4055, TF-IDF Score for text1:0.006097\n",
      "For word 'Tesla' TF Score for text1: 0.0, IDF Score: 1.099, TF-IDF Score for text1:0.0\n",
      "For word 'in' TF Score for text1: 0.007519, IDF Score: 0.0, TF-IDF Score for text1:0.0\n",
      "For word 'vampire' TF Score for text1: 0.007519, IDF Score: 0.4055, TF-IDF Score for text1:0.003049\n",
      "For word 'the' TF Score for text1: 0.06015, IDF Score: 0.0, TF-IDF Score for text1:0.0\n"
     ]
    }
   ],
   "source": [
    "from textblob import TextBlob\n",
    "import math\n",
    "\n",
    "def tf(word, blob):\n",
    "    return blob.words.count(word) / len(blob.words)\n",
    "\n",
    "def n_containing(word, bloblist):\n",
    "    return sum(1 for blob in bloblist if word in blob)\n",
    "\n",
    "def idf(word, bloblist): \n",
    "    x = n_containing(word, bloblist)\n",
    "    return math.log(len(bloblist) / (x if x else 1))\n",
    "\n",
    "def tfidf(word, blob, bloblist):\n",
    "    return tf(word, blob) * idf(word, bloblist)\n",
    "\n",
    "# text1 = 'tf–idf, short for term frequency–inverse document frequency'\n",
    "# text2 = 'is a numerical statistic that is intended to reflect how important'\n",
    "# text3 = 'a word is to a document in a collection or corpus'\n",
    "\n",
    "blob1 = TextBlob(text1)\n",
    "blob2 = TextBlob(text2)\n",
    "blob3 = TextBlob(text3)\n",
    "bloblist = [blob1, blob2, blob3]\n",
    "# tf_score = tf('short', blob)\n",
    "# idf_score = idf('short', bloblist)\n",
    "# tfidf_score = tfidf('short', blob, bloblist)\n",
    "sample_words = ['rusalka', 'witcher', 'Tesla', 'in', 'vampire', 'the']\n",
    "for sample_word in sample_words:\n",
    "    print(f\"For word '{sample_word}' TF Score for text1: {tf(sample_word, blob1):0.4}, IDF Score: {idf(sample_word, bloblist):0.4}, TF-IDF Score for text1:{tfidf(sample_word, blob1, bloblist):0.4}\")"
   ]
  },
  {
   "cell_type": "code",
   "execution_count": 62,
   "id": "c015382e",
   "metadata": {
    "colab": {
     "base_uri": "https://localhost:8080/"
    },
    "id": "c015382e",
    "outputId": "797057cb-7ea9-48f8-8a4c-8927daf252cf"
   },
   "outputs": [
    {
     "name": "stdout",
     "output_type": "stream",
     "text": [
      "For word 'Tesla' TF Score for text2: 0.01418, IDF Score: 1.099, TF-IDF Score for text2:0.01558\n",
      "For word 'The' TF Score for text2: 0.06383, IDF Score: 0.4055, TF-IDF Score for text2:0.02588\n"
     ]
    }
   ],
   "source": [
    "sample_word = 'Tesla'\n",
    "print(f\"For word '{sample_word}' TF Score for text2: {tf(sample_word, blob2):0.4}, IDF Score: {idf(sample_word, bloblist):0.4}, TF-IDF Score for text2:{tfidf(sample_word, blob2, bloblist):0.4}\")\n",
    "\n",
    "sample_word = 'The'\n",
    "print(f\"For word '{sample_word}' TF Score for text2: {tf(sample_word, blob2):0.4}, IDF Score: {idf(sample_word, bloblist):0.4}, TF-IDF Score for text2:{tfidf(sample_word, blob2, bloblist):0.4}\")"
   ]
  },
  {
   "cell_type": "code",
   "execution_count": 63,
   "id": "57287fef",
   "metadata": {
    "colab": {
     "base_uri": "https://localhost:8080/"
    },
    "id": "57287fef",
    "outputId": "f63c64ee-bdd6-4ba0-ce9f-f61ab60fdbda"
   },
   "outputs": [
    {
     "data": {
      "text/plain": [
       "(3, 247)"
      ]
     },
     "execution_count": 63,
     "metadata": {},
     "output_type": "execute_result"
    }
   ],
   "source": [
    "from sklearn.feature_extraction.text import CountVectorizer\n",
    "\n",
    "textlist = [text1, text2, text3]\n",
    "\n",
    "count_vect = CountVectorizer()\n",
    "text_counts = count_vect.fit_transform(textlist)\n",
    "text_counts.shape"
   ]
  },
  {
   "cell_type": "code",
   "execution_count": 64,
   "id": "c15619fa",
   "metadata": {
    "colab": {
     "base_uri": "https://localhost:8080/"
    },
    "id": "c15619fa",
    "outputId": "978f018c-d8e6-44d4-c004-807b2178af4b"
   },
   "outputs": [
    {
     "data": {
      "text/plain": [
       "{'1870s': 0,\n",
       " '1880s': 1,\n",
       " '1884': 2,\n",
       " '1888': 3,\n",
       " 'above': 4,\n",
       " 'ac': 5,\n",
       " 'all': 6,\n",
       " 'almost': 7,\n",
       " 'alpor': 8,\n",
       " 'alternating': 9,\n",
       " 'although': 10,\n",
       " 'am': 11,\n",
       " 'amount': 12,\n",
       " 'an': 13,\n",
       " 'and': 14,\n",
       " 'anthracite': 15,\n",
       " 'anyone': 16,\n",
       " 'arched': 17,\n",
       " 'are': 18,\n",
       " 'as': 19,\n",
       " 'at': 20,\n",
       " 'austrian': 21,\n",
       " 'away': 22,\n",
       " 'back': 23,\n",
       " 'backed': 24,\n",
       " 'became': 25,\n",
       " 'before': 26,\n",
       " 'behind': 27,\n",
       " 'bird': 28,\n",
       " 'black': 29,\n",
       " 'blade': 30,\n",
       " 'blood': 31,\n",
       " 'bones': 32,\n",
       " 'born': 33,\n",
       " 'bruxa': 34,\n",
       " 'but': 35,\n",
       " 'by': 36,\n",
       " 'calmly': 37,\n",
       " 'castle': 38,\n",
       " 'change': 39,\n",
       " 'citizen': 40,\n",
       " 'city': 41,\n",
       " 'clasped': 42,\n",
       " 'clearer': 43,\n",
       " 'come': 44,\n",
       " 'companies': 45,\n",
       " 'company': 46,\n",
       " 'consider': 47,\n",
       " 'considerable': 48,\n",
       " 'continental': 49,\n",
       " 'continued': 50,\n",
       " 'corners': 51,\n",
       " 'cornerstone': 52,\n",
       " 'could': 53,\n",
       " 'couldn': 54,\n",
       " 'creatures': 55,\n",
       " 'current': 56,\n",
       " 'deceive': 57,\n",
       " 'degree': 58,\n",
       " 'denial': 59,\n",
       " 'develop': 60,\n",
       " 'devices': 61,\n",
       " 'did': 62,\n",
       " 'didn': 63,\n",
       " 'distance': 64,\n",
       " 'doubt': 65,\n",
       " 'drawn': 66,\n",
       " 'drunk': 67,\n",
       " 'early': 68,\n",
       " 'earned': 69,\n",
       " 'edison': 70,\n",
       " 'eerie': 71,\n",
       " 'electric': 72,\n",
       " 'electrical': 73,\n",
       " 'emigrated': 74,\n",
       " 'empire': 75,\n",
       " 'enameled': 76,\n",
       " 'engineering': 77,\n",
       " 'enslave': 78,\n",
       " 'even': 79,\n",
       " 'eventually': 80,\n",
       " 'experience': 81,\n",
       " 'expression': 82,\n",
       " 'eyes': 83,\n",
       " 'face': 84,\n",
       " 'fangs': 85,\n",
       " 'finance': 86,\n",
       " 'flew': 87,\n",
       " 'flinch': 88,\n",
       " 'for': 89,\n",
       " 'fountain': 90,\n",
       " 'from': 91,\n",
       " 'gaining': 92,\n",
       " 'ghastly': 93,\n",
       " 'glistened': 94,\n",
       " 'glowed': 95,\n",
       " 'haired': 96,\n",
       " 'halted': 97,\n",
       " 'have': 98,\n",
       " 'haven': 99,\n",
       " 'he': 100,\n",
       " 'head': 101,\n",
       " 'help': 102,\n",
       " 'her': 103,\n",
       " 'higher': 104,\n",
       " 'hilt': 105,\n",
       " 'him': 106,\n",
       " 'himself': 107,\n",
       " 'his': 108,\n",
       " 'hiss': 109,\n",
       " 'horses': 110,\n",
       " 'huge': 111,\n",
       " 'ideas': 112,\n",
       " 'imperceptibility': 113,\n",
       " 'in': 114,\n",
       " 'induction': 115,\n",
       " 'industry': 116,\n",
       " 'instinctively': 117,\n",
       " 'is': 118,\n",
       " 'it': 119,\n",
       " 'its': 120,\n",
       " 'jumped': 121,\n",
       " 'laboratories': 122,\n",
       " 'lady': 123,\n",
       " 'leopard': 124,\n",
       " 'licensed': 125,\n",
       " 'like': 126,\n",
       " 'lips': 127,\n",
       " 'little': 128,\n",
       " 'machine': 129,\n",
       " 'managed': 130,\n",
       " 'market': 131,\n",
       " 'marketed': 132,\n",
       " 'means': 133,\n",
       " 'measure': 134,\n",
       " 'mechanical': 135,\n",
       " 'mind': 136,\n",
       " 'mistaken': 137,\n",
       " 'money': 138,\n",
       " 'moola': 139,\n",
       " 'more': 140,\n",
       " 'motor': 141,\n",
       " 'mouth': 142,\n",
       " 'move': 143,\n",
       " 'narrowed': 144,\n",
       " 'naturalized': 145,\n",
       " 'never': 146,\n",
       " 'new': 147,\n",
       " 'no': 148,\n",
       " 'nod': 149,\n",
       " 'nodded': 150,\n",
       " 'not': 151,\n",
       " 'now': 152,\n",
       " 'of': 153,\n",
       " 'on': 154,\n",
       " 'one': 155,\n",
       " 'only': 156,\n",
       " 'open': 157,\n",
       " 'or': 158,\n",
       " 'ordinary': 159,\n",
       " 'out': 160,\n",
       " 'own': 161,\n",
       " 'paces': 162,\n",
       " 'pale': 163,\n",
       " 'partners': 164,\n",
       " 'patents': 165,\n",
       " 'perfectly': 166,\n",
       " 'physics': 167,\n",
       " 'polyphase': 168,\n",
       " 'power': 169,\n",
       " 'practical': 170,\n",
       " 'quivered': 171,\n",
       " 'raised': 172,\n",
       " 'range': 173,\n",
       " 'rare': 174,\n",
       " 're': 175,\n",
       " 'receiving': 176,\n",
       " 'recognize': 177,\n",
       " 'related': 178,\n",
       " 'reverberated': 179,\n",
       " 'right': 180,\n",
       " 'rusalka': 181,\n",
       " 'said': 182,\n",
       " 'screamed': 183,\n",
       " 'see': 184,\n",
       " 'set': 185,\n",
       " 'shake': 186,\n",
       " 'sheath': 187,\n",
       " 'short': 188,\n",
       " 'shouted': 189,\n",
       " 'silver': 190,\n",
       " 'singing': 191,\n",
       " 'slightly': 192,\n",
       " 'slow': 193,\n",
       " 'slowly': 194,\n",
       " 'smiling': 195,\n",
       " 'so': 196,\n",
       " 'some': 197,\n",
       " 'spiky': 198,\n",
       " 'started': 199,\n",
       " 'states': 200,\n",
       " 'struck': 201,\n",
       " 'studied': 202,\n",
       " 'sun': 203,\n",
       " 'sword': 204,\n",
       " 'system': 205,\n",
       " 'taken': 206,\n",
       " 'telephony': 207,\n",
       " 'ten': 208,\n",
       " 'tesla': 209,\n",
       " 'that': 210,\n",
       " 'the': 211,\n",
       " 'them': 212,\n",
       " 'they': 213,\n",
       " 'think': 214,\n",
       " 'this': 215,\n",
       " 'through': 216,\n",
       " 'throwing': 217,\n",
       " 'tighter': 218,\n",
       " 'time': 219,\n",
       " 'tiny': 220,\n",
       " 'to': 221,\n",
       " 'took': 222,\n",
       " 'towards': 223,\n",
       " 'tressed': 224,\n",
       " 'turn': 225,\n",
       " 'turned': 226,\n",
       " 'ultimate': 227,\n",
       " 'united': 228,\n",
       " 'up': 229,\n",
       " 'vampire': 230,\n",
       " 've': 231,\n",
       " 'were': 232,\n",
       " 'westinghouse': 233,\n",
       " 'what': 234,\n",
       " 'where': 235,\n",
       " 'which': 236,\n",
       " 'white': 237,\n",
       " 'witcher': 238,\n",
       " 'with': 239,\n",
       " 'without': 240,\n",
       " 'worked': 241,\n",
       " 'working': 242,\n",
       " 'works': 243,\n",
       " 'york': 244,\n",
       " 'you': 245,\n",
       " 'yourself': 246}"
      ]
     },
     "execution_count": 64,
     "metadata": {},
     "output_type": "execute_result"
    }
   ],
   "source": [
    "count_vect.vocabulary_"
   ]
  },
  {
   "cell_type": "code",
   "execution_count": 65,
   "id": "d2d26a26",
   "metadata": {
    "colab": {
     "base_uri": "https://localhost:8080/"
    },
    "id": "d2d26a26",
    "outputId": "f6806aec-d5a3-496b-a0d8-3bea56c3557f"
   },
   "outputs": [
    {
     "name": "stdout",
     "output_type": "stream",
     "text": [
      "Index for 'witcher': 238, index for 'rusalka': 181, , index for 'tesla': 209\n"
     ]
    }
   ],
   "source": [
    "print(f\"Index for 'witcher': {count_vect.vocabulary_['witcher']}, index for 'rusalka': {count_vect.vocabulary_['rusalka']}, , index for 'tesla': {count_vect.vocabulary_['tesla']}\")"
   ]
  },
  {
   "cell_type": "code",
   "execution_count": 66,
   "id": "560ed6d9",
   "metadata": {
    "colab": {
     "base_uri": "https://localhost:8080/"
    },
    "id": "560ed6d9",
    "outputId": "c5317d90-1da0-4b0a-f2e5-8733bd89eeac"
   },
   "outputs": [
    {
     "name": "stdout",
     "output_type": "stream",
     "text": [
      "For first text 'witcher' count: 2, for 'rusalka': 1, for 'tesla' 0\n"
     ]
    }
   ],
   "source": [
    "print(f\"For first text 'witcher' count: {text_counts[0, 238]}, for 'rusalka': {text_counts[0, 181]}, for 'tesla' {text_counts[0, 209]}\")"
   ]
  },
  {
   "cell_type": "code",
   "execution_count": 67,
   "id": "cab22edc",
   "metadata": {
    "colab": {
     "base_uri": "https://localhost:8080/"
    },
    "id": "cab22edc",
    "outputId": "4f9246fc-cc8f-4fb3-a83a-9ce20c7cd4ed"
   },
   "outputs": [
    {
     "data": {
      "text/plain": [
       "(3, 247)"
      ]
     },
     "execution_count": 67,
     "metadata": {},
     "output_type": "execute_result"
    }
   ],
   "source": [
    "from sklearn.feature_extraction.text import TfidfTransformer\n",
    "tfidf_transformer = TfidfTransformer()\n",
    "text_tfidf = tfidf_transformer.fit_transform(text_counts)\n",
    "text_tfidf.shape"
   ]
  },
  {
   "cell_type": "code",
   "execution_count": 68,
   "id": "7f8c121e",
   "metadata": {
    "colab": {
     "base_uri": "https://localhost:8080/"
    },
    "id": "7f8c121e",
    "outputId": "f9cb28af-8f09-47ac-970a-b2a46a89fad3"
   },
   "outputs": [
    {
     "name": "stdout",
     "output_type": "stream",
     "text": [
      "TF-IDF or first text - 'witcher': 0.1288257899662849, 'rusalka': 0.08469521620717868, 'tesla' 0.0\n"
     ]
    }
   ],
   "source": [
    "print(f\"TF-IDF or first text - 'witcher': {text_tfidf[0, 238]}, 'rusalka': {text_tfidf[0, 181]}, 'tesla' {text_tfidf[0, 209]}\")"
   ]
  },
  {
   "cell_type": "code",
   "execution_count": 69,
   "id": "b327cc35",
   "metadata": {
    "colab": {
     "base_uri": "https://localhost:8080/"
    },
    "id": "b327cc35",
    "outputId": "cacd2bb9-a6bd-4d31-f2c5-78755202ee92"
   },
   "outputs": [
    {
     "name": "stdout",
     "output_type": "stream",
     "text": [
      "TF-IDF or second text - 'witcher': 0.0, 'rusalka': 0.0, 'tesla' 0.131921674300601\n"
     ]
    }
   ],
   "source": [
    "print(f\"TF-IDF or second text - 'witcher': {text_tfidf[1, 238]}, 'rusalka': {text_tfidf[1, 181]}, 'tesla' {text_tfidf[1, 209]}\")"
   ]
  },
  {
   "cell_type": "code",
   "execution_count": 70,
   "id": "af1b5d69",
   "metadata": {
    "colab": {
     "base_uri": "https://localhost:8080/"
    },
    "id": "af1b5d69",
    "outputId": "08c729d1-6735-4551-8564-a0f627f46ddd"
   },
   "outputs": [
    {
     "data": {
      "text/plain": [
       "(3, 247)"
      ]
     },
     "execution_count": 70,
     "metadata": {},
     "output_type": "execute_result"
    }
   ],
   "source": [
    "tf_transformer = TfidfTransformer(use_idf=False).fit(text_counts)\n",
    "text_tf = tf_transformer.transform(text_counts)\n",
    "text_tf.shape"
   ]
  },
  {
   "cell_type": "markdown",
   "id": "f81531bb",
   "metadata": {
    "id": "f81531bb"
   },
   "source": [
    "## Parsing Tree"
   ]
  },
  {
   "cell_type": "code",
   "execution_count": 71,
   "id": "5e680181",
   "metadata": {
    "id": "5e680181"
   },
   "outputs": [],
   "source": [
    "import nltk\n",
    "\n",
    "groucho_grammar = nltk.CFG.fromstring(\"\"\"\n",
    "S -> NP VP\n",
    "PP -> P NP\n",
    "NP -> Det N | Det N PP | 'I'\n",
    "VP -> V NP | VP PP\n",
    "Det -> 'an' | 'my'\n",
    "N -> 'elephant' | 'pajamas'\n",
    "V -> 'shot'\n",
    "P -> 'in'\n",
    "\"\"\")"
   ]
  },
  {
   "cell_type": "code",
   "execution_count": 72,
   "id": "7355619d",
   "metadata": {
    "colab": {
     "base_uri": "https://localhost:8080/"
    },
    "id": "7355619d",
    "outputId": "69e5ee87-a1e2-415f-eb37-c89a4ab5705d"
   },
   "outputs": [
    {
     "data": {
      "text/plain": [
       "[S -> NP VP,\n",
       " PP -> P NP,\n",
       " NP -> Det N,\n",
       " NP -> Det N PP,\n",
       " NP -> 'I',\n",
       " VP -> V NP,\n",
       " VP -> VP PP,\n",
       " Det -> 'an',\n",
       " Det -> 'my',\n",
       " N -> 'elephant',\n",
       " N -> 'pajamas',\n",
       " V -> 'shot',\n",
       " P -> 'in']"
      ]
     },
     "execution_count": 72,
     "metadata": {},
     "output_type": "execute_result"
    }
   ],
   "source": [
    "groucho_grammar.productions()"
   ]
  },
  {
   "cell_type": "code",
   "execution_count": 73,
   "id": "83fe87d9",
   "metadata": {
    "colab": {
     "base_uri": "https://localhost:8080/"
    },
    "id": "83fe87d9",
    "outputId": "0683831c-82b8-412b-c44b-3a005ddd0cf0"
   },
   "outputs": [
    {
     "data": {
      "text/plain": [
       "[NP -> Det N, NP -> Det N PP, NP -> 'I']"
      ]
     },
     "execution_count": 73,
     "metadata": {},
     "output_type": "execute_result"
    }
   ],
   "source": [
    "from nltk.grammar import *\n",
    "\n",
    "groucho_grammar.productions(lhs=Nonterminal(\"NP\"))"
   ]
  },
  {
   "cell_type": "code",
   "execution_count": 74,
   "id": "aa1fee2f",
   "metadata": {
    "colab": {
     "base_uri": "https://localhost:8080/"
    },
    "id": "aa1fee2f",
    "outputId": "4d7a5ca6-3a14-4f64-b8a6-d55b9445a0fd"
   },
   "outputs": [
    {
     "data": {
      "text/plain": [
       "[NP -> Det N, NP -> Det N PP]"
      ]
     },
     "execution_count": 74,
     "metadata": {},
     "output_type": "execute_result"
    }
   ],
   "source": [
    "groucho_grammar.productions(rhs=Nonterminal(\"Det\"))"
   ]
  },
  {
   "cell_type": "code",
   "execution_count": 75,
   "id": "3a1d1b99",
   "metadata": {
    "colab": {
     "base_uri": "https://localhost:8080/"
    },
    "id": "3a1d1b99",
    "outputId": "19e20cfd-064a-4a89-a27e-8205cd2c6d51"
   },
   "outputs": [
    {
     "data": {
      "text/plain": [
       "NP -> Det N"
      ]
     },
     "execution_count": 75,
     "metadata": {},
     "output_type": "execute_result"
    }
   ],
   "source": [
    "pp = groucho_grammar.productions(rhs=Nonterminal(\"Det\"))\n",
    "pp[0]\n"
   ]
  },
  {
   "cell_type": "code",
   "execution_count": 76,
   "id": "6d1a7aeb",
   "metadata": {
    "colab": {
     "base_uri": "https://localhost:8080/"
    },
    "id": "6d1a7aeb",
    "outputId": "aa379117-5327-424c-d409-ccf1d4d9c05c"
   },
   "outputs": [
    {
     "data": {
      "text/plain": [
       "NP"
      ]
     },
     "execution_count": 76,
     "metadata": {},
     "output_type": "execute_result"
    }
   ],
   "source": [
    "pp[0].lhs()"
   ]
  },
  {
   "cell_type": "code",
   "execution_count": 77,
   "id": "3f4f6820",
   "metadata": {
    "colab": {
     "base_uri": "https://localhost:8080/"
    },
    "id": "3f4f6820",
    "outputId": "9acca3f7-2f3b-42eb-e622-73350d0ca784"
   },
   "outputs": [
    {
     "data": {
      "text/plain": [
       "(Det, N)"
      ]
     },
     "execution_count": 77,
     "metadata": {},
     "output_type": "execute_result"
    }
   ],
   "source": [
    "pp[0].rhs()"
   ]
  },
  {
   "cell_type": "code",
   "execution_count": 78,
   "id": "b5593588",
   "metadata": {
    "id": "b5593588"
   },
   "outputs": [],
   "source": [
    "sent = ['I', 'shot', 'an', 'elephant', 'in', 'my', 'pajamas']\n",
    "parser = nltk.ChartParser(groucho_grammar)\n",
    "trees = list(parser.parse(sent))"
   ]
  },
  {
   "cell_type": "code",
   "execution_count": 79,
   "id": "03ec7beb",
   "metadata": {
    "colab": {
     "base_uri": "https://localhost:8080/"
    },
    "id": "03ec7beb",
    "outputId": "8831dfd4-50de-4d30-cec6-57cf82a6f832"
   },
   "outputs": [
    {
     "name": "stdout",
     "output_type": "stream",
     "text": [
      "(S\n",
      "  (NP I)\n",
      "  (VP\n",
      "    (VP (V shot) (NP (Det an) (N elephant)))\n",
      "    (PP (P in) (NP (Det my) (N pajamas)))))\n"
     ]
    }
   ],
   "source": [
    "print(trees[0])"
   ]
  },
  {
   "cell_type": "code",
   "execution_count": 80,
   "id": "b3a66731",
   "metadata": {
    "colab": {
     "base_uri": "https://localhost:8080/",
     "height": 285
    },
    "id": "b3a66731",
    "outputId": "126870ba-afc2-43e6-988f-b5dd4221d9e8"
   },
   "outputs": [
    {
     "data": {
      "image/svg+xml": [
       "<svg baseProfile=\"full\" height=\"264px\" preserveAspectRatio=\"xMidYMid meet\" style=\"font-family: times, serif; font-weight:normal; font-style: normal; font-size: 16px;\" version=\"1.1\" viewBox=\"0,0,344.0,264.0\" width=\"344px\" xmlns=\"http://www.w3.org/2000/svg\" xmlns:ev=\"http://www.w3.org/2001/xml-events\" xmlns:xlink=\"http://www.w3.org/1999/xlink\"><defs /><svg width=\"100%\" x=\"0\" y=\"0em\"><defs /><text text-anchor=\"middle\" x=\"50%\" y=\"1em\">S</text></svg><svg width=\"9.30233%\" x=\"0%\" y=\"3em\"><defs /><svg width=\"100%\" x=\"0\" y=\"0em\"><defs /><text text-anchor=\"middle\" x=\"50%\" y=\"1em\">NP</text></svg><svg width=\"100%\" x=\"0%\" y=\"3em\"><defs /><svg width=\"100%\" x=\"0\" y=\"0em\"><defs /><text text-anchor=\"middle\" x=\"50%\" y=\"1em\">I</text></svg></svg><line stroke=\"black\" x1=\"50%\" x2=\"50%\" y1=\"1.2em\" y2=\"3em\" /></svg><line stroke=\"black\" x1=\"50%\" x2=\"4.65116%\" y1=\"1.2em\" y2=\"3em\" /><svg width=\"90.6977%\" x=\"9.30233%\" y=\"3em\"><defs /><svg width=\"100%\" x=\"0\" y=\"0em\"><defs /><text text-anchor=\"middle\" x=\"50%\" y=\"1em\">VP</text></svg><svg width=\"53.8462%\" x=\"0%\" y=\"3em\"><defs /><svg width=\"100%\" x=\"0\" y=\"0em\"><defs /><text text-anchor=\"middle\" x=\"50%\" y=\"1em\">VP</text></svg><svg width=\"28.5714%\" x=\"0%\" y=\"3em\"><defs /><svg width=\"100%\" x=\"0\" y=\"0em\"><defs /><text text-anchor=\"middle\" x=\"50%\" y=\"1em\">V</text></svg><svg width=\"100%\" x=\"0%\" y=\"3em\"><defs /><svg width=\"100%\" x=\"0\" y=\"0em\"><defs /><text text-anchor=\"middle\" x=\"50%\" y=\"1em\">shot</text></svg></svg><line stroke=\"black\" x1=\"50%\" x2=\"50%\" y1=\"1.2em\" y2=\"3em\" /></svg><line stroke=\"black\" x1=\"50%\" x2=\"14.2857%\" y1=\"1.2em\" y2=\"3em\" /><svg width=\"71.4286%\" x=\"28.5714%\" y=\"3em\"><defs /><svg width=\"100%\" x=\"0\" y=\"0em\"><defs /><text text-anchor=\"middle\" x=\"50%\" y=\"1em\">NP</text></svg><svg width=\"33.3333%\" x=\"0%\" y=\"3em\"><defs /><svg width=\"100%\" x=\"0\" y=\"0em\"><defs /><text text-anchor=\"middle\" x=\"50%\" y=\"1em\">Det</text></svg><svg width=\"100%\" x=\"0%\" y=\"3em\"><defs /><svg width=\"100%\" x=\"0\" y=\"0em\"><defs /><text text-anchor=\"middle\" x=\"50%\" y=\"1em\">an</text></svg></svg><line stroke=\"black\" x1=\"50%\" x2=\"50%\" y1=\"1.2em\" y2=\"3em\" /></svg><line stroke=\"black\" x1=\"50%\" x2=\"16.6667%\" y1=\"1.2em\" y2=\"3em\" /><svg width=\"66.6667%\" x=\"33.3333%\" y=\"3em\"><defs /><svg width=\"100%\" x=\"0\" y=\"0em\"><defs /><text text-anchor=\"middle\" x=\"50%\" y=\"1em\">N</text></svg><svg width=\"100%\" x=\"0%\" y=\"3em\"><defs /><svg width=\"100%\" x=\"0\" y=\"0em\"><defs /><text text-anchor=\"middle\" x=\"50%\" y=\"1em\">elephant</text></svg></svg><line stroke=\"black\" x1=\"50%\" x2=\"50%\" y1=\"1.2em\" y2=\"3em\" /></svg><line stroke=\"black\" x1=\"50%\" x2=\"66.6667%\" y1=\"1.2em\" y2=\"3em\" /></svg><line stroke=\"black\" x1=\"50%\" x2=\"64.2857%\" y1=\"1.2em\" y2=\"3em\" /></svg><line stroke=\"black\" x1=\"50%\" x2=\"26.9231%\" y1=\"1.2em\" y2=\"3em\" /><svg width=\"46.1538%\" x=\"53.8462%\" y=\"3em\"><defs /><svg width=\"100%\" x=\"0\" y=\"0em\"><defs /><text text-anchor=\"middle\" x=\"50%\" y=\"1em\">PP</text></svg><svg width=\"22.2222%\" x=\"0%\" y=\"3em\"><defs /><svg width=\"100%\" x=\"0\" y=\"0em\"><defs /><text text-anchor=\"middle\" x=\"50%\" y=\"1em\">P</text></svg><svg width=\"100%\" x=\"0%\" y=\"3em\"><defs /><svg width=\"100%\" x=\"0\" y=\"0em\"><defs /><text text-anchor=\"middle\" x=\"50%\" y=\"1em\">in</text></svg></svg><line stroke=\"black\" x1=\"50%\" x2=\"50%\" y1=\"1.2em\" y2=\"3em\" /></svg><line stroke=\"black\" x1=\"50%\" x2=\"11.1111%\" y1=\"1.2em\" y2=\"3em\" /><svg width=\"77.7778%\" x=\"22.2222%\" y=\"3em\"><defs /><svg width=\"100%\" x=\"0\" y=\"0em\"><defs /><text text-anchor=\"middle\" x=\"50%\" y=\"1em\">NP</text></svg><svg width=\"35.7143%\" x=\"0%\" y=\"3em\"><defs /><svg width=\"100%\" x=\"0\" y=\"0em\"><defs /><text text-anchor=\"middle\" x=\"50%\" y=\"1em\">Det</text></svg><svg width=\"100%\" x=\"0%\" y=\"3em\"><defs /><svg width=\"100%\" x=\"0\" y=\"0em\"><defs /><text text-anchor=\"middle\" x=\"50%\" y=\"1em\">my</text></svg></svg><line stroke=\"black\" x1=\"50%\" x2=\"50%\" y1=\"1.2em\" y2=\"3em\" /></svg><line stroke=\"black\" x1=\"50%\" x2=\"17.8571%\" y1=\"1.2em\" y2=\"3em\" /><svg width=\"64.2857%\" x=\"35.7143%\" y=\"3em\"><defs /><svg width=\"100%\" x=\"0\" y=\"0em\"><defs /><text text-anchor=\"middle\" x=\"50%\" y=\"1em\">N</text></svg><svg width=\"100%\" x=\"0%\" y=\"3em\"><defs /><svg width=\"100%\" x=\"0\" y=\"0em\"><defs /><text text-anchor=\"middle\" x=\"50%\" y=\"1em\">pajamas</text></svg></svg><line stroke=\"black\" x1=\"50%\" x2=\"50%\" y1=\"1.2em\" y2=\"3em\" /></svg><line stroke=\"black\" x1=\"50%\" x2=\"67.8571%\" y1=\"1.2em\" y2=\"3em\" /></svg><line stroke=\"black\" x1=\"50%\" x2=\"61.1111%\" y1=\"1.2em\" y2=\"3em\" /></svg><line stroke=\"black\" x1=\"50%\" x2=\"76.9231%\" y1=\"1.2em\" y2=\"3em\" /></svg><line stroke=\"black\" x1=\"50%\" x2=\"54.6512%\" y1=\"1.2em\" y2=\"3em\" /></svg>"
      ],
      "text/plain": [
       "Tree('S', [Tree('NP', ['I']), Tree('VP', [Tree('VP', [Tree('V', ['shot']), Tree('NP', [Tree('Det', ['an']), Tree('N', ['elephant'])])]), Tree('PP', [Tree('P', ['in']), Tree('NP', [Tree('Det', ['my']), Tree('N', ['pajamas'])])])])])"
      ]
     },
     "execution_count": 80,
     "metadata": {},
     "output_type": "execute_result"
    }
   ],
   "source": [
    "\n",
    "trees[0]"
   ]
  },
  {
   "cell_type": "code",
   "execution_count": 81,
   "id": "efc462a2",
   "metadata": {
    "colab": {
     "base_uri": "https://localhost:8080/",
     "height": 333
    },
    "id": "efc462a2",
    "outputId": "c1a03e26-5b5a-47f1-f8b6-9c2ec927c440"
   },
   "outputs": [
    {
     "data": {
      "image/svg+xml": [
       "<svg baseProfile=\"full\" height=\"312px\" preserveAspectRatio=\"xMidYMid meet\" style=\"font-family: times, serif; font-weight:normal; font-style: normal; font-size: 16px;\" version=\"1.1\" viewBox=\"0,0,344.0,312.0\" width=\"344px\" xmlns=\"http://www.w3.org/2000/svg\" xmlns:ev=\"http://www.w3.org/2001/xml-events\" xmlns:xlink=\"http://www.w3.org/1999/xlink\"><defs /><svg width=\"100%\" x=\"0\" y=\"0em\"><defs /><text text-anchor=\"middle\" x=\"50%\" y=\"1em\">S</text></svg><svg width=\"9.30233%\" x=\"0%\" y=\"3em\"><defs /><svg width=\"100%\" x=\"0\" y=\"0em\"><defs /><text text-anchor=\"middle\" x=\"50%\" y=\"1em\">NP</text></svg><svg width=\"100%\" x=\"0%\" y=\"3em\"><defs /><svg width=\"100%\" x=\"0\" y=\"0em\"><defs /><text text-anchor=\"middle\" x=\"50%\" y=\"1em\">I</text></svg></svg><line stroke=\"black\" x1=\"50%\" x2=\"50%\" y1=\"1.2em\" y2=\"3em\" /></svg><line stroke=\"black\" x1=\"50%\" x2=\"4.65116%\" y1=\"1.2em\" y2=\"3em\" /><svg width=\"90.6977%\" x=\"9.30233%\" y=\"3em\"><defs /><svg width=\"100%\" x=\"0\" y=\"0em\"><defs /><text text-anchor=\"middle\" x=\"50%\" y=\"1em\">VP</text></svg><svg width=\"15.3846%\" x=\"0%\" y=\"3em\"><defs /><svg width=\"100%\" x=\"0\" y=\"0em\"><defs /><text text-anchor=\"middle\" x=\"50%\" y=\"1em\">V</text></svg><svg width=\"100%\" x=\"0%\" y=\"3em\"><defs /><svg width=\"100%\" x=\"0\" y=\"0em\"><defs /><text text-anchor=\"middle\" x=\"50%\" y=\"1em\">shot</text></svg></svg><line stroke=\"black\" x1=\"50%\" x2=\"50%\" y1=\"1.2em\" y2=\"3em\" /></svg><line stroke=\"black\" x1=\"50%\" x2=\"7.69231%\" y1=\"1.2em\" y2=\"3em\" /><svg width=\"84.6154%\" x=\"15.3846%\" y=\"3em\"><defs /><svg width=\"100%\" x=\"0\" y=\"0em\"><defs /><text text-anchor=\"middle\" x=\"50%\" y=\"1em\">NP</text></svg><svg width=\"15.1515%\" x=\"0%\" y=\"3em\"><defs /><svg width=\"100%\" x=\"0\" y=\"0em\"><defs /><text text-anchor=\"middle\" x=\"50%\" y=\"1em\">Det</text></svg><svg width=\"100%\" x=\"0%\" y=\"3em\"><defs /><svg width=\"100%\" x=\"0\" y=\"0em\"><defs /><text text-anchor=\"middle\" x=\"50%\" y=\"1em\">an</text></svg></svg><line stroke=\"black\" x1=\"50%\" x2=\"50%\" y1=\"1.2em\" y2=\"3em\" /></svg><line stroke=\"black\" x1=\"50%\" x2=\"7.57576%\" y1=\"1.2em\" y2=\"3em\" /><svg width=\"30.303%\" x=\"15.1515%\" y=\"3em\"><defs /><svg width=\"100%\" x=\"0\" y=\"0em\"><defs /><text text-anchor=\"middle\" x=\"50%\" y=\"1em\">N</text></svg><svg width=\"100%\" x=\"0%\" y=\"3em\"><defs /><svg width=\"100%\" x=\"0\" y=\"0em\"><defs /><text text-anchor=\"middle\" x=\"50%\" y=\"1em\">elephant</text></svg></svg><line stroke=\"black\" x1=\"50%\" x2=\"50%\" y1=\"1.2em\" y2=\"3em\" /></svg><line stroke=\"black\" x1=\"50%\" x2=\"30.303%\" y1=\"1.2em\" y2=\"3em\" /><svg width=\"54.5455%\" x=\"45.4545%\" y=\"3em\"><defs /><svg width=\"100%\" x=\"0\" y=\"0em\"><defs /><text text-anchor=\"middle\" x=\"50%\" y=\"1em\">PP</text></svg><svg width=\"22.2222%\" x=\"0%\" y=\"3em\"><defs /><svg width=\"100%\" x=\"0\" y=\"0em\"><defs /><text text-anchor=\"middle\" x=\"50%\" y=\"1em\">P</text></svg><svg width=\"100%\" x=\"0%\" y=\"3em\"><defs /><svg width=\"100%\" x=\"0\" y=\"0em\"><defs /><text text-anchor=\"middle\" x=\"50%\" y=\"1em\">in</text></svg></svg><line stroke=\"black\" x1=\"50%\" x2=\"50%\" y1=\"1.2em\" y2=\"3em\" /></svg><line stroke=\"black\" x1=\"50%\" x2=\"11.1111%\" y1=\"1.2em\" y2=\"3em\" /><svg width=\"77.7778%\" x=\"22.2222%\" y=\"3em\"><defs /><svg width=\"100%\" x=\"0\" y=\"0em\"><defs /><text text-anchor=\"middle\" x=\"50%\" y=\"1em\">NP</text></svg><svg width=\"35.7143%\" x=\"0%\" y=\"3em\"><defs /><svg width=\"100%\" x=\"0\" y=\"0em\"><defs /><text text-anchor=\"middle\" x=\"50%\" y=\"1em\">Det</text></svg><svg width=\"100%\" x=\"0%\" y=\"3em\"><defs /><svg width=\"100%\" x=\"0\" y=\"0em\"><defs /><text text-anchor=\"middle\" x=\"50%\" y=\"1em\">my</text></svg></svg><line stroke=\"black\" x1=\"50%\" x2=\"50%\" y1=\"1.2em\" y2=\"3em\" /></svg><line stroke=\"black\" x1=\"50%\" x2=\"17.8571%\" y1=\"1.2em\" y2=\"3em\" /><svg width=\"64.2857%\" x=\"35.7143%\" y=\"3em\"><defs /><svg width=\"100%\" x=\"0\" y=\"0em\"><defs /><text text-anchor=\"middle\" x=\"50%\" y=\"1em\">N</text></svg><svg width=\"100%\" x=\"0%\" y=\"3em\"><defs /><svg width=\"100%\" x=\"0\" y=\"0em\"><defs /><text text-anchor=\"middle\" x=\"50%\" y=\"1em\">pajamas</text></svg></svg><line stroke=\"black\" x1=\"50%\" x2=\"50%\" y1=\"1.2em\" y2=\"3em\" /></svg><line stroke=\"black\" x1=\"50%\" x2=\"67.8571%\" y1=\"1.2em\" y2=\"3em\" /></svg><line stroke=\"black\" x1=\"50%\" x2=\"61.1111%\" y1=\"1.2em\" y2=\"3em\" /></svg><line stroke=\"black\" x1=\"50%\" x2=\"72.7273%\" y1=\"1.2em\" y2=\"3em\" /></svg><line stroke=\"black\" x1=\"50%\" x2=\"57.6923%\" y1=\"1.2em\" y2=\"3em\" /></svg><line stroke=\"black\" x1=\"50%\" x2=\"54.6512%\" y1=\"1.2em\" y2=\"3em\" /></svg>"
      ],
      "text/plain": [
       "Tree('S', [Tree('NP', ['I']), Tree('VP', [Tree('V', ['shot']), Tree('NP', [Tree('Det', ['an']), Tree('N', ['elephant']), Tree('PP', [Tree('P', ['in']), Tree('NP', [Tree('Det', ['my']), Tree('N', ['pajamas'])])])])])])"
      ]
     },
     "execution_count": 81,
     "metadata": {},
     "output_type": "execute_result"
    }
   ],
   "source": [
    "trees[1]"
   ]
  },
  {
   "cell_type": "markdown",
   "id": "6ced82d8",
   "metadata": {
    "id": "6ced82d8"
   },
   "source": [
    "# NER"
   ]
  },
  {
   "cell_type": "code",
   "execution_count": 82,
   "id": "72491c8f",
   "metadata": {
    "colab": {
     "base_uri": "https://localhost:8080/"
    },
    "id": "72491c8f",
    "outputId": "843e780f-d952-493f-d11d-f9a04604d985"
   },
   "outputs": [
    {
     "name": "stdout",
     "output_type": "stream",
     "text": [
      "\n",
      "-------Example 1 ------\n",
      "\n",
      "GPE London\n",
      "GPE the United Kingdom\n",
      "\n",
      "-------Example 2 ------\n",
      "\n",
      "GPE France\n",
      "PERSON Christine Lagarde\n",
      "TIME 5:00 P.M.\n",
      "ORG the Wall Street Journal\n"
     ]
    }
   ],
   "source": [
    "import spacy\n",
    "\n",
    "nlp = spacy.load(\"en_core_web_sm\")\n",
    "doc = nlp('London is a big city in the United Kingdom.')\n",
    "print(\"\\n-------Example 1 ------\\n\")\n",
    "for ent in doc.ents:\n",
    "    print(ent.label_, ent.text)\n",
    "    # GPE London\n",
    "    # GPE United Kingdom\n",
    "doc1 = nlp('While in France, Christine Lagarde discussed short-term stimulus efforts in a '\n",
    "           'recent interview on 5:00 P.M. with the Wall Street Journal')\n",
    "print(\"\\n-------Example 2 ------\\n\")\n",
    "for ent1 in doc1.ents:\n",
    "    print(ent1.label_, ent1.text)"
   ]
  },
  {
   "cell_type": "code",
   "execution_count": 83,
   "id": "ac0fd814",
   "metadata": {
    "colab": {
     "base_uri": "https://localhost:8080/"
    },
    "id": "ac0fd814",
    "outputId": "4c440dc1-96f4-4dad-da65-3973516fc194"
   },
   "outputs": [
    {
     "name": "stdout",
     "output_type": "stream",
     "text": [
      "Looking in indexes: https://pypi.org/simple, https://us-python.pkg.dev/colab-wheels/public/simple/\n",
      "Collecting pl-core-news-sm==3.3.0\n",
      "  Downloading https://github.com/explosion/spacy-models/releases/download/pl_core_news_sm-3.3.0/pl_core_news_sm-3.3.0-py3-none-any.whl (20.1 MB)\n",
      "\u001b[K     |████████████████████████████████| 20.1 MB 1.9 MB/s \n",
      "\u001b[?25hRequirement already satisfied: spacy<3.4.0,>=3.3.0.dev0 in /usr/local/lib/python3.7/dist-packages (from pl-core-news-sm==3.3.0) (3.3.1)\n",
      "Requirement already satisfied: spacy-legacy<3.1.0,>=3.0.9 in /usr/local/lib/python3.7/dist-packages (from spacy<3.4.0,>=3.3.0.dev0->pl-core-news-sm==3.3.0) (3.0.9)\n",
      "Requirement already satisfied: cymem<2.1.0,>=2.0.2 in /usr/local/lib/python3.7/dist-packages (from spacy<3.4.0,>=3.3.0.dev0->pl-core-news-sm==3.3.0) (2.0.6)\n",
      "Requirement already satisfied: typing-extensions<4.2.0,>=3.7.4 in /usr/local/lib/python3.7/dist-packages (from spacy<3.4.0,>=3.3.0.dev0->pl-core-news-sm==3.3.0) (4.1.1)\n",
      "Requirement already satisfied: thinc<8.1.0,>=8.0.14 in /usr/local/lib/python3.7/dist-packages (from spacy<3.4.0,>=3.3.0.dev0->pl-core-news-sm==3.3.0) (8.0.17)\n",
      "Requirement already satisfied: srsly<3.0.0,>=2.4.3 in /usr/local/lib/python3.7/dist-packages (from spacy<3.4.0,>=3.3.0.dev0->pl-core-news-sm==3.3.0) (2.4.3)\n",
      "Requirement already satisfied: murmurhash<1.1.0,>=0.28.0 in /usr/local/lib/python3.7/dist-packages (from spacy<3.4.0,>=3.3.0.dev0->pl-core-news-sm==3.3.0) (1.0.7)\n",
      "Requirement already satisfied: preshed<3.1.0,>=3.0.2 in /usr/local/lib/python3.7/dist-packages (from spacy<3.4.0,>=3.3.0.dev0->pl-core-news-sm==3.3.0) (3.0.6)\n",
      "Requirement already satisfied: blis<0.8.0,>=0.4.0 in /usr/local/lib/python3.7/dist-packages (from spacy<3.4.0,>=3.3.0.dev0->pl-core-news-sm==3.3.0) (0.7.7)\n",
      "Requirement already satisfied: pathy>=0.3.5 in /usr/local/lib/python3.7/dist-packages (from spacy<3.4.0,>=3.3.0.dev0->pl-core-news-sm==3.3.0) (0.6.1)\n",
      "Requirement already satisfied: spacy-loggers<2.0.0,>=1.0.0 in /usr/local/lib/python3.7/dist-packages (from spacy<3.4.0,>=3.3.0.dev0->pl-core-news-sm==3.3.0) (1.0.2)\n",
      "Requirement already satisfied: typer<0.5.0,>=0.3.0 in /usr/local/lib/python3.7/dist-packages (from spacy<3.4.0,>=3.3.0.dev0->pl-core-news-sm==3.3.0) (0.4.1)\n",
      "Requirement already satisfied: tqdm<5.0.0,>=4.38.0 in /usr/local/lib/python3.7/dist-packages (from spacy<3.4.0,>=3.3.0.dev0->pl-core-news-sm==3.3.0) (4.64.0)\n",
      "Requirement already satisfied: pydantic!=1.8,!=1.8.1,<1.9.0,>=1.7.4 in /usr/local/lib/python3.7/dist-packages (from spacy<3.4.0,>=3.3.0.dev0->pl-core-news-sm==3.3.0) (1.8.2)\n",
      "Requirement already satisfied: jinja2 in /usr/local/lib/python3.7/dist-packages (from spacy<3.4.0,>=3.3.0.dev0->pl-core-news-sm==3.3.0) (2.11.3)\n",
      "Requirement already satisfied: requests<3.0.0,>=2.13.0 in /usr/local/lib/python3.7/dist-packages (from spacy<3.4.0,>=3.3.0.dev0->pl-core-news-sm==3.3.0) (2.23.0)\n",
      "Requirement already satisfied: wasabi<1.1.0,>=0.9.1 in /usr/local/lib/python3.7/dist-packages (from spacy<3.4.0,>=3.3.0.dev0->pl-core-news-sm==3.3.0) (0.9.1)\n",
      "Requirement already satisfied: langcodes<4.0.0,>=3.2.0 in /usr/local/lib/python3.7/dist-packages (from spacy<3.4.0,>=3.3.0.dev0->pl-core-news-sm==3.3.0) (3.3.0)\n",
      "Requirement already satisfied: packaging>=20.0 in /usr/local/lib/python3.7/dist-packages (from spacy<3.4.0,>=3.3.0.dev0->pl-core-news-sm==3.3.0) (21.3)\n",
      "Requirement already satisfied: catalogue<2.1.0,>=2.0.6 in /usr/local/lib/python3.7/dist-packages (from spacy<3.4.0,>=3.3.0.dev0->pl-core-news-sm==3.3.0) (2.0.7)\n",
      "Requirement already satisfied: numpy>=1.15.0 in /usr/local/lib/python3.7/dist-packages (from spacy<3.4.0,>=3.3.0.dev0->pl-core-news-sm==3.3.0) (1.21.6)\n",
      "Requirement already satisfied: setuptools in /usr/local/lib/python3.7/dist-packages (from spacy<3.4.0,>=3.3.0.dev0->pl-core-news-sm==3.3.0) (57.4.0)\n",
      "Requirement already satisfied: zipp>=0.5 in /usr/local/lib/python3.7/dist-packages (from catalogue<2.1.0,>=2.0.6->spacy<3.4.0,>=3.3.0.dev0->pl-core-news-sm==3.3.0) (3.8.0)\n",
      "Requirement already satisfied: pyparsing!=3.0.5,>=2.0.2 in /usr/local/lib/python3.7/dist-packages (from packaging>=20.0->spacy<3.4.0,>=3.3.0.dev0->pl-core-news-sm==3.3.0) (3.0.9)\n",
      "Requirement already satisfied: smart-open<6.0.0,>=5.0.0 in /usr/local/lib/python3.7/dist-packages (from pathy>=0.3.5->spacy<3.4.0,>=3.3.0.dev0->pl-core-news-sm==3.3.0) (5.2.1)\n",
      "Requirement already satisfied: idna<3,>=2.5 in /usr/local/lib/python3.7/dist-packages (from requests<3.0.0,>=2.13.0->spacy<3.4.0,>=3.3.0.dev0->pl-core-news-sm==3.3.0) (2.10)\n",
      "Requirement already satisfied: urllib3!=1.25.0,!=1.25.1,<1.26,>=1.21.1 in /usr/local/lib/python3.7/dist-packages (from requests<3.0.0,>=2.13.0->spacy<3.4.0,>=3.3.0.dev0->pl-core-news-sm==3.3.0) (1.24.3)\n",
      "Requirement already satisfied: chardet<4,>=3.0.2 in /usr/local/lib/python3.7/dist-packages (from requests<3.0.0,>=2.13.0->spacy<3.4.0,>=3.3.0.dev0->pl-core-news-sm==3.3.0) (3.0.4)\n",
      "Requirement already satisfied: certifi>=2017.4.17 in /usr/local/lib/python3.7/dist-packages (from requests<3.0.0,>=2.13.0->spacy<3.4.0,>=3.3.0.dev0->pl-core-news-sm==3.3.0) (2022.6.15)\n",
      "Requirement already satisfied: click<9.0.0,>=7.1.1 in /usr/local/lib/python3.7/dist-packages (from typer<0.5.0,>=0.3.0->spacy<3.4.0,>=3.3.0.dev0->pl-core-news-sm==3.3.0) (7.1.2)\n",
      "Requirement already satisfied: MarkupSafe>=0.23 in /usr/local/lib/python3.7/dist-packages (from jinja2->spacy<3.4.0,>=3.3.0.dev0->pl-core-news-sm==3.3.0) (2.0.1)\n",
      "\u001b[38;5;2m✔ Download and installation successful\u001b[0m\n",
      "You can now load the package via spacy.load('pl_core_news_sm')\n"
     ]
    }
   ],
   "source": [
    "!spacy download pl_core_news_sm\n",
    "import spacy\n",
    "nlp=spacy.load(\"pl_core_news_sm\")"
   ]
  },
  {
   "cell_type": "code",
   "execution_count": 84,
   "id": "be969e37",
   "metadata": {
    "colab": {
     "base_uri": "https://localhost:8080/"
    },
    "id": "be969e37",
    "outputId": "e6f35c42-30ec-44ed-b3a4-986433f9c195"
   },
   "outputs": [
    {
     "name": "stdout",
     "output_type": "stream",
     "text": [
      "geogName Ziemię\n"
     ]
    }
   ],
   "source": [
    "doc=nlp(\"Wcale nie chcemy zdobywać kosmosu, chcemy tylko rozszerzyć Ziemię do jego granic.\")\n",
    "for ent in doc.ents:\n",
    "    print(ent.label_, ent.text)"
   ]
  },
  {
   "cell_type": "code",
   "execution_count": 85,
   "id": "11fbb3a7",
   "metadata": {
    "colab": {
     "base_uri": "https://localhost:8080/"
    },
    "id": "11fbb3a7",
    "outputId": "cecb52e7-e277-4d4c-cd92-1e3015bd4cb7"
   },
   "outputs": [
    {
     "name": "stdout",
     "output_type": "stream",
     "text": [
      "\n",
      "-------Example 2 ------\n",
      "\n",
      "placeName Polska\n",
      "geogName Europie\n"
     ]
    }
   ],
   "source": [
    "doc1 = nlp(u'Polska leży w Europie')\n",
    "print(\"\\n-------Example 2 ------\\n\")\n",
    "for ent1 in doc1.ents:\n",
    "    print(ent1.label_, ent1.text)"
   ]
  },
  {
   "cell_type": "markdown",
   "id": "5504e91a",
   "metadata": {
    "id": "5504e91a"
   },
   "source": [
    "# Embeddings"
   ]
  },
  {
   "cell_type": "code",
   "execution_count": 86,
   "id": "582aaa16",
   "metadata": {
    "id": "582aaa16"
   },
   "outputs": [],
   "source": [
    "from gensim.test.utils import common_texts\n",
    "from nltk.corpus import brown    \n",
    "sentences = brown.sents()\n",
    "from gensim.models import Word2Vec\n",
    "\n",
    "model = Word2Vec(sentences=sentences, vector_size=100, window=5, min_count=1, workers=4, epochs=10)\n",
    "model.save(\"word2vec.model\")"
   ]
  },
  {
   "cell_type": "code",
   "execution_count": 87,
   "id": "c0d0642d",
   "metadata": {
    "colab": {
     "base_uri": "https://localhost:8080/"
    },
    "id": "c0d0642d",
    "outputId": "b94d2244-29f1-4592-86af-48f3e0c652c9"
   },
   "outputs": [
    {
     "data": {
      "text/plain": [
       "array([ 1.01663927e-02,  1.46873146e-01, -1.75844915e-02,  3.79190594e-02,\n",
       "       -8.49878713e-02, -2.02831641e-01,  9.14946124e-02,  3.79080772e-01,\n",
       "       -4.22201492e-02, -1.88239783e-01,  8.94658417e-02, -2.85759240e-01,\n",
       "        6.59070760e-02, -2.46262085e-02,  8.01952034e-02, -5.22004999e-02,\n",
       "        1.69442952e-01, -1.48483645e-02, -1.31935388e-01, -1.40224308e-01,\n",
       "        2.69069076e-01,  1.34857614e-02,  1.00972354e-01,  4.20786366e-02,\n",
       "        1.10379770e-01,  5.84349670e-02, -2.78454453e-01,  1.52524393e-02,\n",
       "       -7.20320195e-02,  8.99642054e-03,  1.10443808e-01, -4.40255441e-02,\n",
       "        1.24178372e-01, -1.49865851e-01, -8.75469577e-03, -1.68227911e-01,\n",
       "        8.10158104e-02, -1.86916173e-01, -5.67629561e-02, -3.46676484e-02,\n",
       "       -6.16668770e-03, -1.23120762e-01, -4.83134389e-02, -3.07539967e-03,\n",
       "       -5.51932752e-02, -5.51534779e-02, -1.12184986e-01, -1.26267262e-02,\n",
       "       -8.90002698e-02,  1.33491695e-01,  3.91354300e-02, -1.54605910e-01,\n",
       "       -2.93021023e-01,  9.55514144e-03, -3.13637592e-02, -5.62331788e-02,\n",
       "        2.18541384e-01, -1.83651417e-01,  5.93468733e-02,  4.29675393e-02,\n",
       "       -1.36341348e-01,  3.25326510e-02,  7.15865865e-02,  9.17123109e-02,\n",
       "       -1.06132537e-01,  2.13379294e-01,  1.33162392e-02,  1.92136779e-01,\n",
       "       -2.15556040e-01,  2.20833838e-01,  2.28193030e-03,  2.06120521e-01,\n",
       "        1.26725718e-01, -1.13212086e-01,  6.22954816e-02,  5.31369336e-02,\n",
       "        7.11868480e-02,  1.08509667e-01, -8.40648860e-02, -5.83482981e-02,\n",
       "       -2.17564434e-01, -6.81239590e-02, -2.57492717e-02,  1.35330558e-01,\n",
       "       -1.75787002e-01,  5.58794709e-05,  4.91733849e-02, -3.48045491e-04,\n",
       "        1.26625821e-02,  1.13000900e-01,  1.58837259e-01, -1.18205242e-01,\n",
       "        6.86004981e-02, -2.92161442e-02, -5.30880019e-02,  2.28623860e-02,\n",
       "        4.36280556e-02, -9.70229954e-02, -5.47674075e-02,  1.63687587e-01],\n",
       "      dtype=float32)"
      ]
     },
     "execution_count": 87,
     "metadata": {},
     "output_type": "execute_result"
    }
   ],
   "source": [
    "model.wv['computer']"
   ]
  },
  {
   "cell_type": "code",
   "execution_count": 88,
   "id": "610fac55",
   "metadata": {
    "colab": {
     "base_uri": "https://localhost:8080/"
    },
    "id": "610fac55",
    "outputId": "791885ca-bbf0-4e46-d212-0f6579f87630"
   },
   "outputs": [
    {
     "data": {
      "text/plain": [
       "[('thick', 0.8474133014678955),\n",
       " ('fruit', 0.8470444679260254),\n",
       " ('snake', 0.8405876159667969),\n",
       " ('cathedral', 0.8402723670005798),\n",
       " ('figure', 0.8361760973930359),\n",
       " ('reservoir', 0.8347843885421753),\n",
       " ('refrigerator', 0.834223747253418),\n",
       " ('tension', 0.8336406350135803),\n",
       " ('paw', 0.8333854675292969),\n",
       " ('wood', 0.8330290913581848)]"
      ]
     },
     "execution_count": 88,
     "metadata": {},
     "output_type": "execute_result"
    }
   ],
   "source": [
    "model.wv.most_similar('wine', topn=10)"
   ]
  },
  {
   "cell_type": "code",
   "execution_count": 89,
   "id": "eae89028",
   "metadata": {
    "colab": {
     "base_uri": "https://localhost:8080/"
    },
    "id": "eae89028",
    "outputId": "bce75e0e-36d3-4492-a5fc-93e751ee9a1d"
   },
   "outputs": [
    {
     "data": {
      "text/plain": [
       "(1108831, 1587168)"
      ]
     },
     "execution_count": 89,
     "metadata": {},
     "output_type": "execute_result"
    }
   ],
   "source": [
    "from nltk.corpus import webtext   \n",
    "sentences = webtext.sents()\n",
    "\n",
    "model2 = Word2Vec.load(\"word2vec.model\")\n",
    "model2.train(sentences, total_examples=1, epochs=4)"
   ]
  },
  {
   "cell_type": "code",
   "execution_count": 90,
   "id": "6aa95583",
   "metadata": {
    "colab": {
     "base_uri": "https://localhost:8080/"
    },
    "id": "6aa95583",
    "outputId": "a9b0e370-91fc-4a91-a6e7-1dd0dcbe39a4"
   },
   "outputs": [
    {
     "data": {
      "text/plain": [
       "[('fruit', 0.8508327007293701),\n",
       " ('thick', 0.8440706133842468),\n",
       " ('snake', 0.8394696116447449),\n",
       " ('figure', 0.8369691371917725),\n",
       " ('cathedral', 0.8349359035491943),\n",
       " ('reservoir', 0.8314826488494873),\n",
       " ('paw', 0.8314594030380249),\n",
       " ('refrigerator', 0.829064130783081),\n",
       " ('pigment', 0.8287513256072998),\n",
       " ('tension', 0.8286262154579163)]"
      ]
     },
     "execution_count": 90,
     "metadata": {},
     "output_type": "execute_result"
    }
   ],
   "source": [
    "model2.wv.most_similar('wine', topn=10)"
   ]
  },
  {
   "cell_type": "code",
   "execution_count": 91,
   "id": "8c7ee0a6",
   "metadata": {
    "colab": {
     "base_uri": "https://localhost:8080/",
     "height": 307
    },
    "id": "8c7ee0a6",
    "outputId": "ad5c8bfb-d1db-4def-e7d0-1bd822b14cc0"
   },
   "outputs": [
    {
     "ename": "KeyError",
     "evalue": "ignored",
     "output_type": "error",
     "traceback": [
      "\u001b[0;31m---------------------------------------------------------------------------\u001b[0m",
      "\u001b[0;31mKeyError\u001b[0m                                  Traceback (most recent call last)",
      "\u001b[0;32m<ipython-input-91-daf16f7c0e0f>\u001b[0m in \u001b[0;36m<module>\u001b[0;34m()\u001b[0m\n\u001b[0;32m----> 1\u001b[0;31m \u001b[0mmodel2\u001b[0m\u001b[0;34m.\u001b[0m\u001b[0mwv\u001b[0m\u001b[0;34m.\u001b[0m\u001b[0mmost_similar\u001b[0m\u001b[0;34m(\u001b[0m\u001b[0;34m'witcher'\u001b[0m\u001b[0;34m,\u001b[0m \u001b[0mtopn\u001b[0m\u001b[0;34m=\u001b[0m\u001b[0;36m10\u001b[0m\u001b[0;34m)\u001b[0m\u001b[0;34m\u001b[0m\u001b[0;34m\u001b[0m\u001b[0m\n\u001b[0m",
      "\u001b[0;32m/usr/local/lib/python3.7/dist-packages/gensim/models/keyedvectors.py\u001b[0m in \u001b[0;36mmost_similar\u001b[0;34m(self, positive, negative, topn, clip_start, clip_end, restrict_vocab, indexer)\u001b[0m\n\u001b[1;32m    771\u001b[0m                 \u001b[0mmean\u001b[0m\u001b[0;34m.\u001b[0m\u001b[0mappend\u001b[0m\u001b[0;34m(\u001b[0m\u001b[0mweight\u001b[0m \u001b[0;34m*\u001b[0m \u001b[0mkey\u001b[0m\u001b[0;34m)\u001b[0m\u001b[0;34m\u001b[0m\u001b[0;34m\u001b[0m\u001b[0m\n\u001b[1;32m    772\u001b[0m             \u001b[0;32melse\u001b[0m\u001b[0;34m:\u001b[0m\u001b[0;34m\u001b[0m\u001b[0;34m\u001b[0m\u001b[0m\n\u001b[0;32m--> 773\u001b[0;31m                 \u001b[0mmean\u001b[0m\u001b[0;34m.\u001b[0m\u001b[0mappend\u001b[0m\u001b[0;34m(\u001b[0m\u001b[0mweight\u001b[0m \u001b[0;34m*\u001b[0m \u001b[0mself\u001b[0m\u001b[0;34m.\u001b[0m\u001b[0mget_vector\u001b[0m\u001b[0;34m(\u001b[0m\u001b[0mkey\u001b[0m\u001b[0;34m,\u001b[0m \u001b[0mnorm\u001b[0m\u001b[0;34m=\u001b[0m\u001b[0;32mTrue\u001b[0m\u001b[0;34m)\u001b[0m\u001b[0;34m)\u001b[0m\u001b[0;34m\u001b[0m\u001b[0;34m\u001b[0m\u001b[0m\n\u001b[0m\u001b[1;32m    774\u001b[0m                 \u001b[0;32mif\u001b[0m \u001b[0mself\u001b[0m\u001b[0;34m.\u001b[0m\u001b[0mhas_index_for\u001b[0m\u001b[0;34m(\u001b[0m\u001b[0mkey\u001b[0m\u001b[0;34m)\u001b[0m\u001b[0;34m:\u001b[0m\u001b[0;34m\u001b[0m\u001b[0;34m\u001b[0m\u001b[0m\n\u001b[1;32m    775\u001b[0m                     \u001b[0mall_keys\u001b[0m\u001b[0;34m.\u001b[0m\u001b[0madd\u001b[0m\u001b[0;34m(\u001b[0m\u001b[0mself\u001b[0m\u001b[0;34m.\u001b[0m\u001b[0mget_index\u001b[0m\u001b[0;34m(\u001b[0m\u001b[0mkey\u001b[0m\u001b[0;34m)\u001b[0m\u001b[0;34m)\u001b[0m\u001b[0;34m\u001b[0m\u001b[0;34m\u001b[0m\u001b[0m\n",
      "\u001b[0;32m/usr/local/lib/python3.7/dist-packages/gensim/models/keyedvectors.py\u001b[0m in \u001b[0;36mget_vector\u001b[0;34m(self, key, norm)\u001b[0m\n\u001b[1;32m    436\u001b[0m \u001b[0;34m\u001b[0m\u001b[0m\n\u001b[1;32m    437\u001b[0m         \"\"\"\n\u001b[0;32m--> 438\u001b[0;31m         \u001b[0mindex\u001b[0m \u001b[0;34m=\u001b[0m \u001b[0mself\u001b[0m\u001b[0;34m.\u001b[0m\u001b[0mget_index\u001b[0m\u001b[0;34m(\u001b[0m\u001b[0mkey\u001b[0m\u001b[0;34m)\u001b[0m\u001b[0;34m\u001b[0m\u001b[0;34m\u001b[0m\u001b[0m\n\u001b[0m\u001b[1;32m    439\u001b[0m         \u001b[0;32mif\u001b[0m \u001b[0mnorm\u001b[0m\u001b[0;34m:\u001b[0m\u001b[0;34m\u001b[0m\u001b[0;34m\u001b[0m\u001b[0m\n\u001b[1;32m    440\u001b[0m             \u001b[0mself\u001b[0m\u001b[0;34m.\u001b[0m\u001b[0mfill_norms\u001b[0m\u001b[0;34m(\u001b[0m\u001b[0;34m)\u001b[0m\u001b[0;34m\u001b[0m\u001b[0;34m\u001b[0m\u001b[0m\n",
      "\u001b[0;32m/usr/local/lib/python3.7/dist-packages/gensim/models/keyedvectors.py\u001b[0m in \u001b[0;36mget_index\u001b[0;34m(self, key, default)\u001b[0m\n\u001b[1;32m    410\u001b[0m             \u001b[0;32mreturn\u001b[0m \u001b[0mdefault\u001b[0m\u001b[0;34m\u001b[0m\u001b[0;34m\u001b[0m\u001b[0m\n\u001b[1;32m    411\u001b[0m         \u001b[0;32melse\u001b[0m\u001b[0;34m:\u001b[0m\u001b[0;34m\u001b[0m\u001b[0;34m\u001b[0m\u001b[0m\n\u001b[0;32m--> 412\u001b[0;31m             \u001b[0;32mraise\u001b[0m \u001b[0mKeyError\u001b[0m\u001b[0;34m(\u001b[0m\u001b[0;34mf\"Key '{key}' not present\"\u001b[0m\u001b[0;34m)\u001b[0m\u001b[0;34m\u001b[0m\u001b[0;34m\u001b[0m\u001b[0m\n\u001b[0m\u001b[1;32m    413\u001b[0m \u001b[0;34m\u001b[0m\u001b[0m\n\u001b[1;32m    414\u001b[0m     \u001b[0;32mdef\u001b[0m \u001b[0mget_vector\u001b[0m\u001b[0;34m(\u001b[0m\u001b[0mself\u001b[0m\u001b[0;34m,\u001b[0m \u001b[0mkey\u001b[0m\u001b[0;34m,\u001b[0m \u001b[0mnorm\u001b[0m\u001b[0;34m=\u001b[0m\u001b[0;32mFalse\u001b[0m\u001b[0;34m)\u001b[0m\u001b[0;34m:\u001b[0m\u001b[0;34m\u001b[0m\u001b[0;34m\u001b[0m\u001b[0m\n",
      "\u001b[0;31mKeyError\u001b[0m: \"Key 'witcher' not present\""
     ]
    }
   ],
   "source": [
    "model2.wv.most_similar('witcher', topn=10)"
   ]
  },
  {
   "cell_type": "code",
   "execution_count": 92,
   "id": "b0af7246",
   "metadata": {
    "colab": {
     "base_uri": "https://localhost:8080/"
    },
    "id": "b0af7246",
    "outputId": "56acbd13-3cca-4abd-d4e2-bffbf5f6a22b"
   },
   "outputs": [
    {
     "data": {
      "text/plain": [
       "[('Places', 0.6351868510246277),\n",
       " ('upgraded', 0.6069164872169495),\n",
       " ('handsomely', 0.6004722714424133),\n",
       " ('lances', 0.6003347635269165),\n",
       " ('in-laws', 0.5971178412437439),\n",
       " ('epicyclically', 0.5951100587844849),\n",
       " ('identifying', 0.5935559272766113),\n",
       " ('Sipping', 0.5917488932609558),\n",
       " ('Irishmen', 0.5846608877182007),\n",
       " ('barnyards', 0.5838216543197632)]"
      ]
     },
     "execution_count": 92,
     "metadata": {},
     "output_type": "execute_result"
    }
   ],
   "source": [
    "model.wv.most_similar(model.wv['father'] - model.wv['man'] + model.wv['women'], topn=10)"
   ]
  },
  {
   "cell_type": "code",
   "execution_count": 93,
   "id": "7ac7a700",
   "metadata": {
    "colab": {
     "base_uri": "https://localhost:8080/"
    },
    "id": "7ac7a700",
    "outputId": "bb9112e7-1bf9-4fff-997b-b9de856ebac6"
   },
   "outputs": [
    {
     "name": "stdout",
     "output_type": "stream",
     "text": [
      "['fasttext-wiki-news-subwords-300', 'conceptnet-numberbatch-17-06-300', 'word2vec-ruscorpora-300', 'word2vec-google-news-300', 'glove-wiki-gigaword-50', 'glove-wiki-gigaword-100', 'glove-wiki-gigaword-200', 'glove-wiki-gigaword-300', 'glove-twitter-25', 'glove-twitter-50', 'glove-twitter-100', 'glove-twitter-200', '__testing_word2vec-matrix-synopsis']\n"
     ]
    }
   ],
   "source": [
    "import gensim.downloader\n",
    "# Show all available models in gensim-data\n",
    "print(list(gensim.downloader.info()['models'].keys()))"
   ]
  },
  {
   "cell_type": "code",
   "execution_count": 94,
   "id": "da53453a",
   "metadata": {
    "colab": {
     "base_uri": "https://localhost:8080/"
    },
    "id": "da53453a",
    "outputId": "3cc243fa-c53b-40ee-a7a9-5662c30f3207"
   },
   "outputs": [
    {
     "name": "stdout",
     "output_type": "stream",
     "text": [
      "[==================================================] 100.0% 1662.8/1662.8MB downloaded\n"
     ]
    }
   ],
   "source": [
    "w2v_vectors = gensim.downloader.load('word2vec-google-news-300')"
   ]
  },
  {
   "cell_type": "code",
   "execution_count": 95,
   "id": "1c65f851",
   "metadata": {
    "colab": {
     "base_uri": "https://localhost:8080/"
    },
    "id": "1c65f851",
    "outputId": "b351f908-5b52-4d7b-babf-fc90099a4143"
   },
   "outputs": [
    {
     "data": {
      "text/plain": [
       "[('dog', 1.0),\n",
       " ('dogs', 0.8680489659309387),\n",
       " ('puppy', 0.8106428384780884),\n",
       " ('pit_bull', 0.780396044254303),\n",
       " ('pooch', 0.7627376914024353),\n",
       " ('cat', 0.7609457969665527),\n",
       " ('golden_retriever', 0.7500901818275452),\n",
       " ('German_shepherd', 0.7465174198150635),\n",
       " ('Rottweiler', 0.7437615394592285),\n",
       " ('beagle', 0.7418621778488159)]"
      ]
     },
     "execution_count": 95,
     "metadata": {},
     "output_type": "execute_result"
    }
   ],
   "source": [
    "w2v_vectors.most_similar(w2v_vectors['dog'])"
   ]
  },
  {
   "cell_type": "code",
   "execution_count": 96,
   "id": "39d3d174",
   "metadata": {
    "colab": {
     "base_uri": "https://localhost:8080/"
    },
    "id": "39d3d174",
    "outputId": "009537b8-aced-4849-ef80-5c3e26da5c5e"
   },
   "outputs": [
    {
     "data": {
      "text/plain": [
       "[('women', 0.6575702428817749),\n",
       " ('husbands', 0.5938421487808228),\n",
       " ('mothers', 0.5741605758666992),\n",
       " ('daughters', 0.5590043067932129),\n",
       " ('father', 0.5534617900848389),\n",
       " ('fathers', 0.5441720485687256),\n",
       " ('sisters', 0.5315889716148376),\n",
       " ('sons', 0.5195901989936829),\n",
       " ('children', 0.5147565007209778),\n",
       " ('wives', 0.5111095309257507)]"
      ]
     },
     "execution_count": 96,
     "metadata": {},
     "output_type": "execute_result"
    }
   ],
   "source": [
    "w2v_vectors.most_similar(w2v_vectors['father'] - w2v_vectors['man'] + w2v_vectors['women'], topn=10)"
   ]
  },
  {
   "cell_type": "code",
   "execution_count": 97,
   "id": "b3bd8fa5",
   "metadata": {
    "colab": {
     "base_uri": "https://localhost:8080/"
    },
    "id": "b3bd8fa5",
    "outputId": "1e50d516-4451-4d60-9fc9-66c6cc86f999"
   },
   "outputs": [
    {
     "data": {
      "text/plain": [
       "[('computer', 0.6250295042991638),\n",
       " ('death', 0.5794907808303833),\n",
       " ('computers', 0.5006648302078247),\n",
       " ('Company_Nasdaq_ATAI', 0.44406792521476746),\n",
       " ('PCs', 0.4163816571235657),\n",
       " ('Disk_fragmentation', 0.3987768292427063),\n",
       " ('Computer', 0.38946494460105896),\n",
       " ('daughter_Tomasita', 0.38889196515083313),\n",
       " ('untimely_death', 0.38871726393699646),\n",
       " ('PC', 0.38824912905693054)]"
      ]
     },
     "execution_count": 97,
     "metadata": {},
     "output_type": "execute_result"
    }
   ],
   "source": [
    "w2v_vectors.most_similar(w2v_vectors['death'] - w2v_vectors['man'] + w2v_vectors['computer'], topn=10)"
   ]
  },
  {
   "cell_type": "code",
   "execution_count": 103,
   "id": "6f9ff8e6",
   "metadata": {
    "id": "6f9ff8e6"
   },
   "outputs": [],
   "source": [
    "import matplotlib.pyplot as plt\n",
    "from sklearn.decomposition  import PCA\n",
    "import numpy as np\n",
    "\n",
    "def to_2d(embeddings):\n",
    "    # To reduce embedding dims without losing much information we use PCA\n",
    "    pca = PCA(n_components=2, whiten=True)\n",
    "    pca.fit(embeddings)\n",
    "    return pca.transform(embeddings)\n",
    "\n",
    "\n",
    "def annotated_scatter(points, names, color='blue'):\n",
    "    x_coords = points[:, 0]\n",
    "    y_coords = points[:, 1]\n",
    "    plt.scatter(x_coords, y_coords, c=color)\n",
    "    for label, x, y in zip(names, x_coords, y_coords):\n",
    "                      plt.annotate(label, xy=(x, y), xytext=(0, 0), textcoords='offset points')\n",
    "    plt.xlim(x_coords.min() - .5, x_coords.max() + .5)\n",
    "    plt.ylim(y_coords.min() - .5, y_coords.max() + .5)\n",
    "\n",
    "    \n",
    "def plot_embeddings(embeddings, names, color='blue', show=True):\n",
    "    X_train = np.array([embeddings[k] for k in names])\n",
    "    embeddings_2d = to_2d(X_train)\n",
    "    \n",
    "    annotated_scatter(embeddings_2d, names, color)\n",
    "    plt.grid()\n",
    "    \n",
    "    if show:\n",
    "        plt.show()"
   ]
  },
  {
   "cell_type": "code",
   "execution_count": 101,
   "id": "673140fb",
   "metadata": {
    "id": "673140fb"
   },
   "outputs": [],
   "source": [
    "near_dog = [elem[0] for elem in w2v_vectors.most_similar(w2v_vectors['dog'])]\n",
    "near_computer = [elem[0] for elem in w2v_vectors.most_similar(w2v_vectors['computer'])]"
   ]
  },
  {
   "cell_type": "code",
   "execution_count": 104,
   "id": "9f5324ec",
   "metadata": {
    "colab": {
     "base_uri": "https://localhost:8080/",
     "height": 265
    },
    "id": "9f5324ec",
    "outputId": "aedc42f9-8397-4b6b-d767-8d0611bcef48"
   },
   "outputs": [
    {
     "data": {
      "image/png": "[encoded data removed]",
      "text/plain": [
       "<Figure size 432x288 with 1 Axes>"
      ]
     },
     "metadata": {
      "needs_background": "light"
     },
     "output_type": "display_data"
    }
   ],
   "source": [
    "plot_embeddings(w2v_vectors, \n",
    "                near_dog + near_computer, \n",
    "                color=['red'] * len(near_dog) + ['green'] * len(near_computer))"
   ]
  },
  {
   "cell_type": "code",
   "execution_count": 105,
   "id": "34cc9cff",
   "metadata": {
    "id": "34cc9cff"
   },
   "outputs": [],
   "source": [
    "from collections import namedtuple\n",
    "import matplotlib.lines as mlines\n",
    "from matplotlib import cm\n",
    "\n",
    "LinearSubs = namedtuple('LinearSubs', \n",
    "                        ('word_pair', 'name'))\n",
    "\n",
    "def plot_linear_substructures(linear_subs, embeddings):\n",
    "    embeddings_matrix = [embeddings[p] for ls in linear_subs for p in ls.word_pair]\n",
    "    embeddings_matrix = np.array(embeddings_matrix)\n",
    "    pair_names = [p for ls in linear_subs for p in ls.word_pair]\n",
    "    ls_names = [ls.name for ls in linear_subs]\n",
    "    embeddings_2d = to_2d(embeddings_matrix)\n",
    "    annotated_scatter(embeddings_2d, \n",
    "                      pair_names, \n",
    "                      cm.Set1.colors[:len(embeddings_2d)])\n",
    "    \n",
    "    for i in range(0, len(embeddings_2d), 2):\n",
    "        p1 = embeddings_2d[i]\n",
    "        p2 = embeddings_2d[i + 1]\n",
    "        # Center of the linear substructure\n",
    "        center = [(p1[i] + p2[i]) / 2 + .04 for i in range(2)]\n",
    "        \n",
    "        plt.plot(*zip(p1, p2), '--')\n",
    "        plt.annotate(ls_names[i // 2], \n",
    "                     xy=center, \n",
    "                     xytext=(0, 0), textcoords='offset points')"
   ]
  },
  {
   "cell_type": "code",
   "execution_count": 106,
   "id": "aeec3fb5",
   "metadata": {
    "colab": {
     "base_uri": "https://localhost:8080/",
     "height": 320
    },
    "id": "aeec3fb5",
    "outputId": "3c7e806c-a03d-42bf-c643-da34f8661bed"
   },
   "outputs": [
    {
     "data": {
      "image/png": "[encoded data removed]",
      "text/plain": [
       "<Figure size 1440x360 with 3 Axes>"
      ]
     },
     "metadata": {
      "needs_background": "light"
     },
     "output_type": "display_data"
    }
   ],
   "source": [
    "plt.figure(figsize=(20, 5))\n",
    "\n",
    "plt.subplot(131)\n",
    "plot_linear_substructures([LinearSubs(('man', 'woman'), 'sex'),\n",
    "                           LinearSubs(('king', 'queen'), 'sex'),\n",
    "                           LinearSubs(('mother', 'father'), 'sex')], w2v_vectors)\n",
    "\n",
    "plt.subplot(132)\n",
    "plot_linear_substructures([LinearSubs(('cat', 'feline'), 'family'),\n",
    "                           LinearSubs(('dog', 'canine'), 'family'),\n",
    "                           LinearSubs(('parrot', 'bird'), 'family')], w2v_vectors)\n",
    "\n",
    "plt.subplot(133)\n",
    "plot_linear_substructures([LinearSubs(('samsung', 'mobile'), 'product'),\n",
    "                           LinearSubs(('sony', 'tv'), 'product'),\n",
    "                           LinearSubs(('ikea', 'furniture'), 'product')], w2v_vectors)"
   ]
  },
  {
   "cell_type": "code",
   "execution_count": 107,
   "id": "fdb0a4cf",
   "metadata": {
    "colab": {
     "base_uri": "https://localhost:8080/"
    },
    "id": "fdb0a4cf",
    "outputId": "709238da-dd09-45cf-c402-f7871b180d7b"
   },
   "outputs": [
    {
     "name": "stdout",
     "output_type": "stream",
     "text": [
      "  % Total    % Received % Xferd  Average Speed   Time    Time     Time  Current\n",
      "                                 Dload  Upload   Total   Spent    Left  Speed\n",
      "  0   308    0     0    0     0      0      0 --:--:-- --:--:-- --:--:--     0\n",
      "  0   346    0     0    0     0      0      0 --:--:-- --:--:-- --:--:--     0\n",
      "100  822M  100  822M    0     0  5268k      0  0:02:39  0:02:39 --:--:-- 5117k\n",
      "Archive:  glove.6B.zip\n",
      "  inflating: glove.6B.50d.txt        \n",
      "  inflating: glove.6B.100d.txt       \n",
      "  inflating: glove.6B.200d.txt       \n",
      "  inflating: glove.6B.300d.txt       \n"
     ]
    }
   ],
   "source": [
    "#Glove 6B\n",
    "\n",
    "!curl -OL http://nlp.stanford.edu/data/glove.6B.zip -o glove.6B.zip\n",
    "#wget\n",
    "# !wget http://nlp.stanford.edu/data/glove.6B.zip"
   ]
  },
  {
   "cell_type": "code",
   "execution_count": null,
   "id": "SKsZZYSAQ7Gt",
   "metadata": {
    "id": "SKsZZYSAQ7Gt"
   },
   "outputs": [],
   "source": [
    "!unzip -o glove.6B.zip\n",
    "# !unzip -o /content/glove.6B.zip"
   ]
  },
  {
   "cell_type": "code",
   "execution_count": 108,
   "id": "bef235f1",
   "metadata": {
    "id": "bef235f1"
   },
   "outputs": [],
   "source": [
    "glove_embeddings = {}\n",
    "with open('glove.6B.300d.txt') as f:\n",
    "    glove_embeddings = {l.split()[0]: np.array(l.split()[1:]).astype('float') for l in f}"
   ]
  },
  {
   "cell_type": "code",
   "execution_count": 109,
   "id": "fbe78d30",
   "metadata": {
    "id": "fbe78d30"
   },
   "outputs": [],
   "source": [
    "def get_closest(x, embeddings, topn=3):\n",
    "    \"\"\"\n",
    "    Get the closest embeddings calculating the euclidean distance\n",
    "    Parameters\n",
    "    ----------\n",
    "    x: np.ndarray\n",
    "      Vector containing an embedding\n",
    "    top_k: int, optional\n",
    "      Get the top k similar embeddings\n",
    "    Returns\n",
    "    -------\n",
    "    dict\n",
    "      Dict containing the top k similar embeddings to the given x\n",
    "    \"\"\"\n",
    "    # Stack all embeddings in a single matrix. Note: the matrix dimention will be\n",
    "    # V x D where V is the vocabulary size and D is the embedding dimension\n",
    "    embedding_matrix = np.array(list(embeddings.values()))\n",
    "    # Using broadcasting compute distance to each embedding in our vocabulary\n",
    "    distances = x - embedding_matrix\n",
    "    # Comoute the magnitude of each distance\n",
    "    distances = np.linalg.norm(distances, axis=1)\n",
    "    # Sort distance and keep the smallest k\n",
    "    min_idx = np.argsort(distances)[:topn]\n",
    "    return [list(embeddings)[i] for i in min_idx]"
   ]
  },
  {
   "cell_type": "code",
   "execution_count": 110,
   "id": "9506e5fd",
   "metadata": {
    "colab": {
     "base_uri": "https://localhost:8080/",
     "height": 320
    },
    "id": "9506e5fd",
    "outputId": "0eec2587-fd7a-4621-ba5d-f61b14619eb3"
   },
   "outputs": [
    {
     "data": {
      "image/png": "[encoded data removed]",
      "text/plain": [
       "<Figure size 1440x360 with 3 Axes>"
      ]
     },
     "metadata": {
      "needs_background": "light"
     },
     "output_type": "display_data"
    }
   ],
   "source": [
    "plt.figure(figsize=(20, 5))\n",
    "\n",
    "plt.subplot(131)\n",
    "plot_linear_substructures([LinearSubs(('man', 'woman'), 'sex'),\n",
    "                           LinearSubs(('king', 'queen'), 'sex'),\n",
    "                           LinearSubs(('mother', 'father'), 'sex')], glove_embeddings)\n",
    "\n",
    "plt.subplot(132)\n",
    "plot_linear_substructures([LinearSubs(('cat', 'feline'), 'family'),\n",
    "                           LinearSubs(('dog', 'canine'), 'family'),\n",
    "                           LinearSubs(('parrot', 'bird'), 'family')], glove_embeddings)\n",
    "\n",
    "plt.subplot(133)\n",
    "plot_linear_substructures([LinearSubs(('samsung', 'mobile'), 'product'),\n",
    "                           LinearSubs(('sony', 'tv'), 'product'),\n",
    "                           LinearSubs(('ikea', 'furniture'), 'product')], glove_embeddings)"
   ]
  },
  {
   "cell_type": "code",
   "execution_count": 111,
   "id": "12414929",
   "metadata": {
    "colab": {
     "base_uri": "https://localhost:8080/"
    },
    "id": "12414929",
    "outputId": "da3479ac-fc3f-409c-8458-8279d4cb8aaa"
   },
   "outputs": [
    {
     "data": {
      "text/plain": [
       "['king', 'queen', 'monarch']"
      ]
     },
     "execution_count": 111,
     "metadata": {},
     "output_type": "execute_result"
    }
   ],
   "source": [
    "get_closest(glove_embeddings['king'] - glove_embeddings['man'] + glove_embeddings['woman'], glove_embeddings)"
   ]
  },
  {
   "cell_type": "code",
   "execution_count": null,
   "id": "2f06d5e9",
   "metadata": {
    "id": "2f06d5e9",
    "outputId": "8786cb2e-2f07-4d93-ed70-fa6406434615"
   },
   "outputs": [
    {
     "name": "stdout",
     "output_type": "stream",
     "text": [
      "[==================================================] 100.0% 1168.7/1168.7MB downloaded\n",
      "[==================================================] 100.0% 376.1/376.1MB downloaded\n",
      "[==================================================] 100.0% 199.5/199.5MB downloaded\n",
      "[==================================================] 100.0% 387.1/387.1MB downloaded\n",
      "[==================================================] 100.0% 758.5/758.5MB downloaded\n",
      "[===================================================] 102.6% 0.1/0.1MB downloaded\n"
     ]
    }
   ],
   "source": [
    "# vectors = {name: gensim.downloader.load(name) for name in list(gensim.downloader.info()['models'].keys())}"
   ]
  },
  {
   "cell_type": "code",
   "execution_count": null,
   "id": "c1e61431",
   "metadata": {
    "id": "c1e61431",
    "outputId": "9a5c650c-ec6b-496c-d256-efaf74abae75"
   },
   "outputs": [
    {
     "name": "stdout",
     "output_type": "stream",
     "text": [
      "Embedding: fasttext-wiki-news-subwords-300\n",
      "('king', 0.8185325860977173)\n",
      "('queen', 0.75703364610672)\n",
      "('queen-mother', 0.6896809339523315)\n",
      "('king-', 0.6787333488464355)\n",
      "('queen-consort', 0.6555202603340149)\n",
      "('monarch', 0.6455855965614319)\n",
      "('kings', 0.6409086585044861)\n",
      "('child-king', 0.6346831321716309)\n",
      "('king-elect', 0.634436309337616)\n",
      "('boy-king', 0.630662739276886)\n",
      "------------------------------------------------------------\n",
      "Calcuation not possible for conceptnet-numberbatch-17-06-300\n",
      "------------------------------------------------------------\n",
      "Calcuation not possible for word2vec-ruscorpora-300\n",
      "------------------------------------------------------------\n",
      "Embedding: word2vec-google-news-300\n",
      "('king', 0.8449392318725586)\n",
      "('queen', 0.7300516366958618)\n",
      "('monarch', 0.6454660296440125)\n",
      "('princess', 0.6156251430511475)\n",
      "('crown_prince', 0.5818676948547363)\n",
      "('prince', 0.5777117609977722)\n",
      "('kings', 0.5613663792610168)\n",
      "('sultan', 0.5376776456832886)\n",
      "('Queen_Consort', 0.5344247817993164)\n",
      "('queens', 0.5289887189865112)\n",
      "------------------------------------------------------------\n",
      "Embedding: glove-wiki-gigaword-50\n",
      "('king', 0.8859835863113403)\n",
      "('queen', 0.8609582185745239)\n",
      "('daughter', 0.7684512138366699)\n",
      "('prince', 0.7640699744224548)\n",
      "('throne', 0.7634971141815186)\n",
      "('princess', 0.7512729167938232)\n",
      "('elizabeth', 0.7506489157676697)\n",
      "('father', 0.7314496636390686)\n",
      "('kingdom', 0.7296158671379089)\n",
      "('mother', 0.7280011177062988)\n",
      "------------------------------------------------------------\n",
      "Embedding: glove-wiki-gigaword-100\n",
      "('king', 0.8551837205886841)\n",
      "('queen', 0.7834413647651672)\n",
      "('monarch', 0.6933802366256714)\n",
      "('throne', 0.6833109259605408)\n",
      "('daughter', 0.680908203125)\n",
      "('prince', 0.6713142991065979)\n",
      "('princess', 0.664408266544342)\n",
      "('mother', 0.6579325199127197)\n",
      "('elizabeth', 0.6563301086425781)\n",
      "('father', 0.6392418742179871)\n",
      "------------------------------------------------------------\n",
      "Embedding: glove-wiki-gigaword-200\n",
      "('king', 0.8209066987037659)\n",
      "('queen', 0.7119165658950806)\n",
      "('princess', 0.6121214032173157)\n",
      "('monarch', 0.6024806499481201)\n",
      "('prince', 0.596004068851471)\n",
      "('throne', 0.5915313959121704)\n",
      "('daughter', 0.558805525302887)\n",
      "('elizabeth', 0.554740309715271)\n",
      "('kingdom', 0.5494517087936401)\n",
      "('mother', 0.5419816970825195)\n",
      "------------------------------------------------------------\n",
      "Embedding: glove-wiki-gigaword-300\n",
      "('king', 0.8065858483314514)\n",
      "('queen', 0.689616322517395)\n",
      "('monarch', 0.5575490593910217)\n",
      "('throne', 0.556537389755249)\n",
      "('princess', 0.5518684387207031)\n",
      "('mother', 0.5142154693603516)\n",
      "('daughter', 0.5133156776428223)\n",
      "('kingdom', 0.5025345087051392)\n",
      "('prince', 0.5017740726470947)\n",
      "('elizabeth', 0.4908031225204468)\n",
      "------------------------------------------------------------\n",
      "Embedding: glove-twitter-25\n",
      "('meets', 0.8459880352020264)\n",
      "('crow', 0.7845019102096558)\n",
      "('voices', 0.7781485915184021)\n",
      "('woman', 0.7778488993644714)\n",
      "('widow', 0.7725390791893005)\n",
      "('mercy', 0.772079586982727)\n",
      "('soldier', 0.7719035744667053)\n",
      "('shepherd', 0.76578688621521)\n",
      "('hunter', 0.7621815800666809)\n",
      "('treasure', 0.7620967626571655)\n",
      "------------------------------------------------------------\n",
      "Embedding: glove-twitter-50\n",
      "('stone', 0.7156721949577332)\n",
      "('woman', 0.7105388045310974)\n",
      "('meets', 0.7078650593757629)\n",
      "('queen', 0.7035095691680908)\n",
      "('king', 0.7032954096794128)\n",
      "('royal', 0.700731098651886)\n",
      "('african', 0.6984355449676514)\n",
      "('prince', 0.6961742043495178)\n",
      "('virgin', 0.6757708787918091)\n",
      "('american', 0.659709632396698)\n",
      "------------------------------------------------------------\n",
      "Embedding: glove-twitter-100\n",
      "('king', 0.6904541850090027)\n",
      "('queen', 0.6727578043937683)\n",
      "('woman', 0.6339609026908875)\n",
      "('prince', 0.6228976845741272)\n",
      "('royal', 0.6147280335426331)\n",
      "('mother', 0.614197313785553)\n",
      "('african', 0.5697246789932251)\n",
      "('goddess', 0.5681216716766357)\n",
      "('princess', 0.5649642944335938)\n",
      "('meets', 0.5601145029067993)\n",
      "------------------------------------------------------------\n",
      "Embedding: glove-twitter-200\n",
      "('king', 0.6921419501304626)\n",
      "('queen', 0.6560179591178894)\n",
      "('woman', 0.5993959903717041)\n",
      "('prince', 0.5544953942298889)\n",
      "('princess', 0.5414583683013916)\n",
      "('royal', 0.5323442816734314)\n",
      "('mother', 0.5082992911338806)\n",
      "('elizabeth', 0.5036298036575317)\n",
      "('women', 0.4757736623287201)\n",
      "('lion', 0.4730093479156494)\n",
      "------------------------------------------------------------\n",
      "Calcuation not possible for __testing_word2vec-matrix-synopsis\n",
      "------------------------------------------------------------\n"
     ]
    }
   ],
   "source": [
    "# word1 = 'king'\n",
    "# word2 = 'man'\n",
    "# word3 = 'woman'\n",
    "# for name, vector in vectors.items():\n",
    "#     try:\n",
    "#         result = vector.most_similar(vector[word1] - vector[word2] + vector[word3])\n",
    "#     except:\n",
    "#         print(f\"Calcuation not possible for {name}\")\n",
    "#         print('-'*60)\n",
    "#     else:\n",
    "#         print(f\"Embedding: {name}\")\n",
    "#         for i in result:\n",
    "#             print(i, end=\"\\n\")\n",
    "#         print('-'*60)"
   ]
  },
  {
   "cell_type": "code",
   "execution_count": null,
   "id": "4a18e2b0",
   "metadata": {
    "id": "4a18e2b0",
    "outputId": "78a9baae-54ed-4672-b584-55a6ccf2d72f"
   },
   "outputs": [
    {
     "name": "stdout",
     "output_type": "stream",
     "text": [
      "Embedding: fasttext-wiki-news-subwords-300\n",
      "('mother', 0.7626737952232361)\n",
      "('father', 0.7224027514457703)\n",
      "('daughter', 0.6932559013366699)\n",
      "('grandmother', 0.6853728890419006)\n",
      "('husband', 0.6721367835998535)\n",
      "('daughter-in-law', 0.6684616208076477)\n",
      "('mother-in-law', 0.6496824026107788)\n",
      "('mother-father', 0.6457248330116272)\n",
      "('step-mother', 0.641844630241394)\n",
      "('stepfather', 0.6355810165405273)\n",
      "------------------------------------------------------------\n",
      "Calcuation not possible for conceptnet-numberbatch-17-06-300\n",
      "------------------------------------------------------------\n",
      "Calcuation not possible for word2vec-ruscorpora-300\n",
      "------------------------------------------------------------\n",
      "Embedding: word2vec-google-news-300\n",
      "('mother', 0.8671473264694214)\n",
      "('father', 0.8257923722267151)\n",
      "('daughter', 0.8068807125091553)\n",
      "('husband', 0.7712196707725525)\n",
      "('son', 0.743818461894989)\n",
      "('niece', 0.728561282157898)\n",
      "('eldest_daughter', 0.7161967158317566)\n",
      "('grandmother', 0.7151544094085693)\n",
      "('aunt', 0.7144074440002441)\n",
      "('sister', 0.692581057548523)\n",
      "------------------------------------------------------------\n",
      "Embedding: glove-wiki-gigaword-50\n",
      "('mother', 0.9371241331100464)\n",
      "('daughter', 0.9308128952980042)\n",
      "('wife', 0.9084325432777405)\n",
      "('father', 0.90090411901474)\n",
      "('grandmother', 0.885705828666687)\n",
      "('husband', 0.8724399209022522)\n",
      "('niece', 0.8455236554145813)\n",
      "('married', 0.8432847261428833)\n",
      "('granddaughter', 0.8314776420593262)\n",
      "('sister', 0.8269603252410889)\n",
      "------------------------------------------------------------\n",
      "Embedding: glove-wiki-gigaword-100\n",
      "('mother', 0.9137227535247803)\n",
      "('daughter', 0.8749411106109619)\n",
      "('father', 0.8659167289733887)\n",
      "('wife', 0.8636062741279602)\n",
      "('husband', 0.8385112881660461)\n",
      "('grandmother', 0.8167358636856079)\n",
      "('sister', 0.7944930791854858)\n",
      "('woman', 0.7886242270469666)\n",
      "('married', 0.7882137298583984)\n",
      "('son', 0.7741045951843262)\n",
      "------------------------------------------------------------\n",
      "Embedding: glove-wiki-gigaword-200\n",
      "('mother', 0.8546984791755676)\n",
      "('daughter', 0.8342969417572021)\n",
      "('father', 0.7999714612960815)\n",
      "('wife', 0.7885485291481018)\n",
      "('husband', 0.7847330570220947)\n",
      "('grandmother', 0.7312014102935791)\n",
      "('woman', 0.7201482057571411)\n",
      "('her', 0.7130976915359497)\n",
      "('daughters', 0.712451696395874)\n",
      "('married', 0.7118174433708191)\n",
      "------------------------------------------------------------\n",
      "Embedding: glove-wiki-gigaword-300\n",
      "('mother', 0.8358980417251587)\n",
      "('daughter', 0.7939328551292419)\n",
      "('father', 0.7642121911048889)\n",
      "('husband', 0.733081042766571)\n",
      "('wife', 0.732289731502533)\n",
      "('grandmother', 0.7010418176651001)\n",
      "('her', 0.6834510564804077)\n",
      "('woman', 0.6651911735534668)\n",
      "('daughters', 0.6526581645011902)\n",
      "('sister', 0.6391299366950989)\n",
      "------------------------------------------------------------\n",
      "Embedding: glove-twitter-25\n",
      "('father', 0.8402660489082336)\n",
      "('grandmother', 0.836030125617981)\n",
      "('birth', 0.8177227973937988)\n",
      "('grandfather', 0.8100782036781311)\n",
      "('daughter', 0.8030726909637451)\n",
      "('child', 0.8027616739273071)\n",
      "('adopted', 0.7987766861915588)\n",
      "('woman', 0.7972545623779297)\n",
      "('deceased', 0.7970473170280457)\n",
      "('whose', 0.7941986322402954)\n",
      "------------------------------------------------------------\n",
      "Embedding: glove-twitter-50\n",
      "('father', 0.7899833917617798)\n",
      "('grandmother', 0.7782377004623413)\n",
      "('daughter', 0.7748050689697266)\n",
      "('woman', 0.7561413645744324)\n",
      "('birth', 0.7531935572624207)\n",
      "('husband', 0.7515203356742859)\n",
      "('mother', 0.7471252083778381)\n",
      "('child', 0.7415593266487122)\n",
      "('wife', 0.7375113368034363)\n",
      "('mothers', 0.7308900356292725)\n",
      "------------------------------------------------------------\n",
      "Embedding: glove-twitter-100\n",
      "('father', 0.7800263166427612)\n",
      "('mother', 0.7613089680671692)\n",
      "('daughter', 0.7417090535163879)\n",
      "('woman', 0.7345321178436279)\n",
      "('grandmother', 0.720073401927948)\n",
      "('husband', 0.694473147392273)\n",
      "('mothers', 0.6939914226531982)\n",
      "('wife', 0.689069926738739)\n",
      "('birth', 0.6734916567802429)\n",
      "('child', 0.6594095230102539)\n",
      "------------------------------------------------------------\n",
      "Embedding: glove-twitter-200\n",
      "('father', 0.7545292973518372)\n",
      "('mother', 0.7045457363128662)\n",
      "('daughter', 0.6810115575790405)\n",
      "('woman', 0.6760962605476379)\n",
      "('husband', 0.649176299571991)\n",
      "('wife', 0.6319298148155212)\n",
      "('mothers', 0.6296329498291016)\n",
      "('grandmother', 0.611490786075592)\n",
      "('child', 0.5973385572433472)\n",
      "('birth', 0.5684956908226013)\n",
      "------------------------------------------------------------\n",
      "Calcuation not possible for __testing_word2vec-matrix-synopsis\n",
      "------------------------------------------------------------\n"
     ]
    }
   ],
   "source": [
    "# word1 = 'father'\n",
    "# word2 = 'man'\n",
    "# word3 = 'woman'\n",
    "# for vector, name in zip(vectors, gensim.downloader.info()['models'].keys()):\n",
    "#     try:\n",
    "#         result = vector.most_similar(vector[word1] - vector[word2] + vector[word3])\n",
    "#     except:\n",
    "#         print(f\"Calcuation not possible for {name}\")\n",
    "#         print('-'*60)\n",
    "#     else:\n",
    "#         print(f\"Embedding: {name}\")\n",
    "#         for i in result:\n",
    "#             print(i, end=\"\\n\")\n",
    "#         print('-'*60)"
   ]
  },
  {
   "cell_type": "code",
   "execution_count": null,
   "id": "05dc34bd",
   "metadata": {
    "id": "05dc34bd",
    "outputId": "f9e066d2-632f-477e-9e54-967de3879454"
   },
   "outputs": [
    {
     "name": "stdout",
     "output_type": "stream",
     "text": [
      "Embedding: fasttext-wiki-news-subwords-300\n",
      "('man', 0.7935950756072998)\n",
      "('turnoff', 0.7012911438941956)\n",
      "('woman', 0.6520333290100098)\n",
      "('man-love', 0.6380185484886169)\n",
      "('cowman', 0.6044278144836426)\n",
      "('blackman', 0.5975620150566101)\n",
      "('man--and', 0.5969740152359009)\n",
      "('man--', 0.5941734910011292)\n",
      "('boy-man', 0.5879694223403931)\n",
      "('turn-off', 0.5870673656463623)\n",
      "------------------------------------------------------------\n",
      "Calcuation not possible for conceptnet-numberbatch-17-06-300\n",
      "------------------------------------------------------------\n",
      "Calcuation not possible for word2vec-ruscorpora-300\n",
      "------------------------------------------------------------\n",
      "Embedding: word2vec-google-news-300\n",
      "('turnoff', 0.7237362265586853)\n",
      "('man', 0.49477481842041016)\n",
      "('woman', 0.39133355021476746)\n",
      "('shooter_balding_##ish', 0.3738951086997986)\n",
      "('Gwydir_Highway', 0.37055811285972595)\n",
      "('quaint_confection', 0.3693695068359375)\n",
      "('passerby', 0.36667531728744507)\n",
      "('Otira', 0.366344690322876)\n",
      "('Gower_Gulch', 0.36278852820396423)\n",
      "('Lefeuvre_Road', 0.36221209168434143)\n",
      "------------------------------------------------------------\n",
      "Embedding: glove-wiki-gigaword-50\n",
      "('pauper', 0.5474612712860107)\n",
      "('splosion', 0.5313147902488708)\n",
      "('crier', 0.519891619682312)\n",
      "('hughie', 0.5185233950614929)\n",
      "('leht', 0.5174285769462585)\n",
      "('assal', 0.5166643857955933)\n",
      "('irishman', 0.5143762826919556)\n",
      "('nihn', 0.5086936354637146)\n",
      "('janeane', 0.5054354667663574)\n",
      "('hypocrite', 0.501118004322052)\n",
      "------------------------------------------------------------\n",
      "Embedding: glove-wiki-gigaword-100\n",
      "('turnoff', 0.4880475401878357)\n",
      "('irishman', 0.4256478250026703)\n",
      "('haired', 0.41124749183654785)\n",
      "('murderer', 0.410080224275589)\n",
      "('lawman', 0.40285781025886536)\n",
      "('furlong', 0.3971306383609772)\n",
      "('moonlit', 0.39297235012054443)\n",
      "('man', 0.3908770680427551)\n",
      "('rattler', 0.387622594833374)\n",
      "('charmer', 0.3867117166519165)\n",
      "------------------------------------------------------------\n",
      "Embedding: glove-wiki-gigaword-200\n",
      "('turnoff', 0.6163368821144104)\n",
      "('well-manicured', 0.3797585666179657)\n",
      "('man', 0.3658585250377655)\n",
      "('heavyset', 0.3581734597682953)\n",
      "('purdy', 0.3511798083782196)\n",
      "('hyndman', 0.34878355264663696)\n",
      "('bloke', 0.337725430727005)\n",
      "('invasor', 0.3346843123435974)\n",
      "('al-nu', 0.3329222798347473)\n",
      "('drinkwater', 0.33238181471824646)\n",
      "------------------------------------------------------------\n",
      "Embedding: glove-wiki-gigaword-300\n",
      "('turnoff', 0.6129317879676819)\n",
      "('man', 0.339046835899353)\n",
      "('beenie', 0.3163820803165436)\n",
      "('well-manicured', 0.3154221475124359)\n",
      "('heavyset', 0.29941505193710327)\n",
      "('absolution', 0.29816755652427673)\n",
      "('purdy', 0.2883175015449524)\n",
      "('hyndman', 0.2868407070636749)\n",
      "('slob', 0.2845690846443176)\n",
      "('kani', 0.2727958858013153)\n",
      "------------------------------------------------------------\n",
      "Embedding: glove-twitter-25\n",
      "('bastards', 0.7787497639656067)\n",
      "('fucka', 0.7416845560073853)\n",
      "('motherfuckers', 0.7204691171646118)\n",
      "('motherfucker', 0.719166100025177)\n",
      "('bastard', 0.716601550579071)\n",
      "('ungrateful', 0.7095576524734497)\n",
      "('scum', 0.7069284915924072)\n",
      "('muthafucka', 0.697790801525116)\n",
      "('cunts', 0.6945449113845825)\n",
      "('unlucky', 0.6898298263549805)\n",
      "------------------------------------------------------------\n",
      "Embedding: glove-twitter-50\n",
      "('الأملِ', 0.63198322057724)\n",
      "('turnoff', 0.6153509616851807)\n",
      "('المهاجره', 0.5936881899833679)\n",
      "('musty', 0.5742061138153076)\n",
      "('كالأم', 0.5631020665168762)\n",
      "('hater', 0.5504607558250427)\n",
      "('يقتصر', 0.5466185212135315)\n",
      "('الـمـشـكـلـه', 0.5460366606712341)\n",
      "('الأجسآد', 0.5431292057037354)\n",
      "('disrespectful', 0.5419632196426392)\n",
      "------------------------------------------------------------\n",
      "Embedding: glove-twitter-100\n",
      "('turnoff', 0.6407576203346252)\n",
      "('man', 0.4516788721084595)\n",
      "('disrespect', 0.45042434334754944)\n",
      "('hunk', 0.44030430912971497)\n",
      "('turnon', 0.4364855885505676)\n",
      "('disrespectful', 0.43523305654525757)\n",
      "('cocky', 0.4322985112667084)\n",
      "('yuck', 0.4260774850845337)\n",
      "('hater', 0.4229276478290558)\n",
      "('faf', 0.42054033279418945)\n",
      "------------------------------------------------------------\n",
      "Embedding: glove-twitter-200\n",
      "('turnoff', 0.649398922920227)\n",
      "('man', 0.531970202922821)\n",
      "('majorturnoff', 0.43457743525505066)\n",
      "('mans', 0.4146290719509125)\n",
      "('unattractive', 0.39441990852355957)\n",
      "('men', 0.38991889357566833)\n",
      "('turnon', 0.38228949904441833)\n",
      "('eww', 0.3746145963668823)\n",
      "('rft', 0.3670603334903717)\n",
      "('boy', 0.3658161461353302)\n",
      "------------------------------------------------------------\n",
      "Calcuation not possible for __testing_word2vec-matrix-synopsis\n",
      "------------------------------------------------------------\n"
     ]
    }
   ],
   "source": [
    "# word1 = 'death'\n",
    "# word2 = 'man'\n",
    "# word3 = 'computer'\n",
    "# for vector, name in zip(vectors, gensim.downloader.info()['models'].keys()):\n",
    "#     try:\n",
    "#         result = vector.most_similar(vector[word1] - vector[word2] + vector[word3])\n",
    "#     except:\n",
    "#         print(f\"Calcuation not possible for {name}\")\n",
    "#         print('-'*60)\n",
    "#     else:\n",
    "#         print(f\"Embedding: {name}\")\n",
    "#         for i in result:\n",
    "#             print(i, end=\"\\n\")\n",
    "#         print('-'*60)"
   ]
  }
 ],
 "metadata": {
  "colab": {
   "collapsed_sections": [],
   "name": "NLP.ipynb",
   "provenance": []
  },
  "kernelspec": {
   "display_name": "Python (ml_nlp)",
   "language": "python",
   "name": "ml_nlp"
  },
  "language_info": {
   "codemirror_mode": {
    "name": "ipython",
    "version": 3
   },
   "file_extension": ".py",
   "mimetype": "text/x-python",
   "name": "python",
   "nbconvert_exporter": "python",
   "pygments_lexer": "ipython3",
   "version": "3.9.12"
  }
 },
 "nbformat": 4,
 "nbformat_minor": 5
}
